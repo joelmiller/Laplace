{
 "cells": [
  {
   "cell_type": "markdown",
   "id": "237318",
   "metadata": {
    "collapsed": false
   },
   "source": [
    "# Computer lab 10 --- Surface area of the top half of a sphere\n",
    "\n",
    "\n",
    "In this lab we will find the surface area of the top half of a sphere of radius $4$, without using the formula for the surface area of a sphere --- the method we are developing could be used to find the surface area.\n",
    "\n",
    "The goal of this lab is to help you see how the integral\n",
    "\n",
    "$$\n",
    "\\iint_S \\left \\|\\frac{\\partial \\vec{r}(u,v)}{\\partial u} \\times \\frac{\\partial \\vec{r}(u,v)}{\\partial v} \\right\\| \\, dv \\, du\n",
    "$$\n",
    "emerges when trying to calculate the area of a surface $S$.  More generally the integral of an arbitrary function on the surface is\n",
    "\n",
    "$$\n",
    "\\iint_S f(x(u,v),y(u,v),z(u,v)) \\left \\|\\frac{\\partial \\vec{r}(u,v)}{\\partial u} \\times \\frac{\\partial \\vec{r}(u,v)}{\\partial v} \\right\\| \\, dv \\, du\n",
    "$$\n",
    "\n",
    "\n",
    "Throughout Calculus, a common theme is that we approximate curves by a collection of very short line segments.  Here we will go a step further: we approximate surfaces by a collection of very small parallelograms.\n",
    "\n",
    "Before we do that, we review how to calculate the area of a parallelogram if we know the vectors that define its sides.\n"
   ]
  },
  {
   "cell_type": "markdown",
   "id": "77be09",
   "metadata": {
    "collapsed": false
   },
   "source": [
    "## Essential background information\n",
    "\n",
    "We will rely on some properties of cross products.  In particular we will focus on the cross product of the vectors giving two sides of a parallelogram.\n",
    "\n",
    "Given two vectors $\\vec{A}$ and $\\vec{B}$, the cross product $\\vec{C} = \\vec{A} \\times \\vec{B}$ has some important properties:\n",
    "\n",
    "- $\\vec{C}$ is orthogonal to both $\\vec{A}$ and $\\vec{B}$\n",
    "\n",
    "- The direction of $\\vec{C}$ is determined by the \"right hand rule\".\n",
    "\n",
    "- The magnitude of $\\vec{C}$ is the product of the magnitudes of $\\vec{A}$ and $\\vec{B}$ and the sine of the angle between them:\n",
    "\n",
    "  $$\\| \\vec{C} \\| = \\|\\vec{A}\\|\\: \\|\\vec{B}\\| \\:|\\sin(\\theta)|$$\n",
    "\n",
    "<img src=\"cross_product_new.png\"   width=\"411.625px\"  height=\"229.802px\"  style=\"object-fit:cover\"/>\n",
    "\n",
    "\n",
    "This image shows the cross product $\\vec{C} = \\vec{A} \\times \\vec{B}$.  Note that if you take your right hand, point the index finger in the direction of $\\vec{A}$ and the middle finger in the direction of $\\vec{B}$, then your thumb will point in the direction of the cross product $\\vec{C}$ \\(alternately, if you point your fingers in the direction of $\\vec{A}$ and your palm in the direction of $\\vec{B}$, then your thumb points in the direction of $\\vec{C}$.\\)  This is the \"right hand rule\" for cross products.\n",
    "\n",
    "The magnitude of $\\vec{C}$ plays an important role that we will rely on later in this lab.  If we take the parallelogram whose sides are defined by $\\vec{A}$ and $\\vec{B}$, its area is equal to the magnitude of the cross product $\\| \\vec{C}\\|$.  Additionally, the cross product is perpendicular to the parallelogram.  This is illustrated through the following image:\n",
    "\n",
    "\n",
    "<img src=\"cross_product_area_new.png\"   width=\"326.635px\"  height=\"183.812px\"  style=\"object-fit:cover\"/>\n",
    "\n",
    "The area of the parallelogram is its base $\\|\\vec{A}\\|$ times its height $\\|\\vec{B}\\| \\sin(\\theta)$, which equals the length of $\\vec{C}$.\n",
    "\n",
    "We call a vector that is perpendicular to a plane a *normal vector to the plane*.\n",
    "\n"
   ]
  },
  {
   "cell_type": "markdown",
   "id": "f953c5",
   "metadata": {
    "collapsed": false
   },
   "source": [
    "## Finding the surface area of the top of a sphere\n",
    "\n",
    "Consider a greenhouse which resembles the top half of a sphere of radius $r=4$.  It has several rows of windows on it --- in the image below it has 6 rows and 16 columns.   We would like to find the surface area by adding up the areas of the windows.\n",
    "\n",
    "Ultimately we want to know the area of the number of rows and columns increases to infinity so that it matches a true sphere.\n",
    "\n",
    "The code below plots the image.  We will derive the forumulas used in this code farther down.\n",
    "\n",
    "\n"
   ]
  },
  {
   "cell_type": "code",
   "execution_count": 3,
   "id": "a1bc39",
   "metadata": {
    "collapsed": false
   },
   "outputs": [
    {
     "data": {
      "image/png": "[encoded data removed]",
      "text/plain": [
       "<IPython.core.display.Image object>"
      ]
     },
     "metadata": {},
     "output_type": "display_data"
    }
   ],
   "source": [
    "du = pi/12;   %setting the step size in u and v in advance.  This makes it easier to change them and\n",
    "dv = pi/8;    %we'll be making reference to them later.\n",
    "u = [0:du:pi/2];\n",
    "v = [0:dv:2*pi];\n",
    "\n",
    "[U,V] = meshgrid(u,v);  %produces two matrices U and V.\n",
    "                        %For the i-th element of the list u and the j-th element of the list v\n",
    "                        %the ij entry of U has the i-th element of u \n",
    "                        %and the ij entry of V has the j-th element of v\n",
    "                        %So taking the ij entries of both gets you the \n",
    "                        %i-th element of u and the j-th of v.\n",
    "\n",
    "\n",
    "X = 4 * sin(U).*cos(V); %the ij-th element of X encodes the x value corresponding \n",
    "                        %to the i-th element of u and j-th of v.\n",
    "Y = 4 * sin(U).*sin(V); %the ij-th element of Y encodes the y value corresponding \n",
    "                        %to the i-th element of u and j-th of v.\n",
    "Z = 4 * cos(U);\n",
    "\n",
    "surf(X, Y, Z);\n",
    "xlabel('x')\n",
    "ylabel('y')\n",
    "zlabel('z')\n",
    "axis('equal')"
   ]
  },
  {
   "cell_type": "markdown",
   "id": "7121b1",
   "metadata": {
    "collapsed": false
   },
   "source": [
    "Our approach to finding the area of the glass used in the greenhouse will be to add up the areas (or with full disclosure, a approximation to the areas) of each window.  Then when we take the size of the windows to zero, the approximations will become exact.\n",
    "\n",
    "We start by  parametrizing the shape.  This means we are putting a 2-dimensional coordinate system on it.  Guided by the usual spherical coordinates we will use the angle $\\theta$ (sometimes called the polar angle) and the angle $\\phi$ (sometimes called the azimuthal angle).\n",
    "\n",
    "However, since we want our methods to be consistent with what we'll do for other shapes, we'll use the variable names $u$ (polar angle) and $v$ (azimuthal angle).  We have\n",
    "\n",
    "$$ 0 \\leq u \\leq \\pi/2 \\, \\qquad\\qquad 0 \\leq v \\leq 2\\pi$$\n",
    "\n",
    "<img src=\"sphere_parametrization.png\"   width=\"420.302px\"  height=\"315.177px\"  style=\"object-fit:cover\"/>\n",
    "\n",
    "The image shows a point on the sphere of radius $4$.  We are only interested in the top half for our calculation.  Each point on the surface is specified through the parameters (which we can think of as coordinates of points on the surface) $u$ and $v$, with $u$ being the angle from the vertical axis (the _polar_ angle) and $v$ the angle relative to the plane where $y=0$ and $x$ is positive.  If you are given the values of $u$ and $v$, you should be able to locate the point on the surface, even if you don't know the formulas to give the coordinates.\n",
    "\n",
    "\n",
    "Here are the formulas to find how $x$, $y$, and $z$ from $u$ and $v$, given that the radius is 4$.  We take these from the conversion between spherical and cartesian coordinates (but the formulas are derived at the very bottom of this lab)\n",
    "\n",
    "\\begin{align*}\n",
    "x &= 4 \\sin(u) \\cos(v) \\\\\n",
    "y &= 4\\sin(u)\\sin(v)\\\\\n",
    "z  &= 4 \\cos(u)\n",
    "\\end{align*}\n",
    "\n",
    "Let's plot the surface using this parametrization:"
   ]
  },
  {
   "cell_type": "code",
   "execution_count": 5,
   "id": "d31b03",
   "metadata": {
    "collapsed": false
   },
   "outputs": [
    {
     "data": {
      "image/png": "[encoded data removed]",
      "text/plain": [
       "<IPython.core.display.Image object>"
      ]
     },
     "metadata": {},
     "output_type": "display_data"
    }
   ],
   "source": [
    "du = pi/12;   %setting the step size in u and v in advance.  This makes it easier to change them and\n",
    "dv = pi/8;    %we'll be making reference to them later.\n",
    "u = [0:du:pi/2];\n",
    "v = [0:dv:2*pi];\n",
    "\n",
    "[U,V] = meshgrid(u,v);  %produces two matrices U and V.\n",
    "                        %For the i-th element of the list u and the j-th element of the list v\n",
    "                        %the ij entry of U has the i-th element of u \n",
    "                        %and the ij entry of V has the j-th element of v\n",
    "                        %So taking the ij entries of both gets you the \n",
    "                        %i-th element of u and the j-th of v.\n",
    "\n",
    "\n",
    "X = 4 * sin(U).*cos(V); %the ij-th element of X encodes the x value corresponding \n",
    "                        %to the i-th element of u and j-th of v.\n",
    "Y = 4 * sin(U).*sin(V); %the ij-th element of Y encodes the y value corresponding \n",
    "                        %to the i-th element of u and j-th of v.\n",
    "Z = 4 * cos(U);\n",
    "\n",
    "surf(X, Y, Z);\n",
    "xlabel('x')\n",
    "ylabel('y')\n",
    "zlabel('z')\n",
    "axis('equal')"
   ]
  },
  {
   "cell_type": "markdown",
   "id": "c4e9c0",
   "metadata": {
    "collapsed": false
   },
   "source": [
    "Each of the horizontal curves that completely encircles the sphere above corresponds to a constant value of $u$ and each vertical curve that starts at the top and ends at the bottom corresponds to a constant value of $v$."
   ]
  },
  {
   "cell_type": "markdown",
   "id": "36c44c",
   "metadata": {
    "collapsed": false
   },
   "source": [
    "## Tangent Vectors\n",
    "\n",
    "The position of a point on the surface with known $u$ and $v$ is given by\n",
    "\n",
    "\n",
    "\\begin{align*}\n",
    "\\vec{r}(u,v)&= x(u,v) \\vec{i} + y(u,v) \\vec{j} + z(u,v) \\vec{k}\\\\\n",
    "&= 4\\sin(u) \\cos(v) \\vec{i} + 4\\sin(u)\\sin(v) \\vec{j} + 4\\cos(u) \\vec{k}\n",
    "\\end{align*}\n",
    "\n",
    "We can calculate $\\partial \\vec{r}/\\partial u$ and $\\partial \\vec{r}/\\partial v$.  We get:\n",
    "\n",
    "\\begin{align*}\n",
    "\\frac{\\partial \\vec{r}}{\\partial u} &= 4\\cos(u)\\cos(v) \\vec{i} + 4 \\cos(u) \\sin(v) \\vec{j}- 4\\sin(u)\\vec{k} \\\\\n",
    "\\frac{\\partial \\vec{r}}{\\partial v} &=  -4\\sin(u) \\sin(v)\\vec{i} + 4 \\sin(u) \\cos(v) \\vec{j} + 0 \\vec{k}\n",
    "\\end{align*}\n",
    "\n",
    "We can interpret these as the amount of change in $\\vec{r}$ per unit change in $u$ or $v$.  So we should expect that \n",
    "$\n",
    "\\frac{\\partial \\vec{r}}{\\partial u} \\Delta u\n",
    "$ and \n",
    "$\\frac{\\partial \\vec{r}}{\\partial v} \\Delta v$\n",
    "represent the change in position when $u$ increases by $\\Delta u$ or $v$ increases by $\\Delta v$.\n",
    "\n",
    "**Plot the vectors**\n",
    "$\n",
    "\\frac{\\partial \\vec{r}}{\\partial u} \\Delta u\n",
    "$ \n",
    "and \n",
    "$\\frac{\\partial \\vec{r}}{\\partial v} \\Delta v$\n",
    "over the surface.  Compare them to the frame drawn by matlab with line segments that directly connect the points $\\vec{r}(u,v)$ with $\\vec{r}(u+\\Delta u, v)$ or with $\\vec{r}(u,v+\\Delta v)$.  \n",
    "\n",
    "**You will need to fill some values in the cell below before it can run.**\n",
    "\n"
   ]
  },
  {
   "cell_type": "code",
   "execution_count": 6,
   "id": "95cca8",
   "metadata": {
    "collapsed": false
   },
   "outputs": [
    {
     "name": "stdout",
     "output_type": "stream",
     "text": [
      "error: 'dXdU' undefined near line 1, column 23\r\n"
     ]
    },
    {
     "name": "stdout",
     "output_type": "stream",
     "text": [
      "error: 'dXdV' undefined near line 1, column 23\r\n"
     ]
    },
    {
     "data": {
      "image/png": "[encoded data removed]",
      "text/plain": [
       "<IPython.core.display.Image object>"
      ]
     },
     "metadata": {},
     "output_type": "display_data"
    }
   ],
   "source": [
    "du = pi/12;   #setting the step size in u and v in advance.  This makes it easier to change them and\n",
    "dv = pi/8;    #we'll be making reference to them later.\n",
    "u = [0:du:pi/2];\n",
    "v = [0:dv:2*pi];\n",
    "\n",
    "[U,V] = meshgrid(u,v);  %produces two matrices U and V.\n",
    "                        %For the i-th element of the list u and the j-th element of the list v\n",
    "                        %the ij entry of U has the i-th element of u \n",
    "                        %and the ij entry of V has the j-th element of v\n",
    "                        %So taking the ij entry of both gets you the i-th element of u and the j-th of v.\n",
    "\n",
    "X = 4 * sin(U).*cos(V);  %the ij-th element of X encodes the x value corresponding to the i-th element of u and j-th of v.\n",
    "Y = 4 * sin(U).*sin(V);\n",
    "Z = 4 * cos(U);\n",
    "\n",
    "%r(u,v) = x(u,v) i + y(u,v)j + z(u,v)k\n",
    "%give the u derivatives at every single point:\n",
    "\n",
    "\n",
    "% dXdU = <fill this in>\n",
    "% dYdU = <fill this in>\n",
    "% dZdU = <fill this in>\n",
    "\n",
    "\n",
    "% %the v derivatives:\n",
    "% dXdV = <fill this in>\n",
    "% dYdV = <fill this in>\n",
    "dZdV = zeros(size(V));  %This command produces a matrix of zeros whose length/width are the same as V.\n",
    "\n",
    "surf(X, Y, Z);\n",
    "hold on\n",
    "quiver3(X, Y, Z, du * dXdU, du * dYdU, du * dZdU, 0, 'r') %plots Delta u * (dr/du).  The '0' tells quiver not to scale the vectors\n",
    "quiver3(X, Y, Z, dv * dXdV, dv * dYdV, dv * dZdV, 0, 'b') %plots Delta v * (dr/dv)\n",
    "axis('equal')\n",
    "xlabel('x')\n",
    "ylabel('y')\n",
    "zlabel('z')\n"
   ]
  },
  {
   "cell_type": "markdown",
   "id": "69e6e3",
   "metadata": {
    "collapsed": false
   },
   "source": [
    "\n",
    "The red vectors correspond to $\\frac{\\partial \\vec{r}}{\\partial u} \\Delta u$ and  the blue vectors give\n",
    "$\\frac{\\partial \\vec{r}}{\\partial v} \\Delta v$.  \n",
    "\n",
    "The vectors we've plotted are tangent vectors to the curves of constant $u$ or of constant $v$. \n",
    "\n",
    "If we approximate the curves as locally straight lines near a given point $\\vec{r}(u_i, v_j)$, then the point found by increasing $u$ by $\\Delta u$ is $\\vec{r}(u_i + \\Delta u, v_j)$ is approximately \n",
    "\n",
    "$$ \\vec{r}(u_i + \\Delta u, v_j) \\approx \\vec{r}(u_i, v_j) + \\Delta u \\frac{\\partial \\vec{r}(u_i,v_j)}{\\partial u}$$\n",
    "So by drawing the vector $\\Delta u \\frac{\\partial \\vec{r}(u_i,v_j)}{\\partial u}$ based at $\\vec{r}(u_i,v_j)$, the end point should be very close to $\\vec{r}(u_i + \\Delta u, v_j)$.   Similar things happen if we hold $u$ constant and change $v$ by $\\Delta v$.\n",
    "\n",
    "**Edit the code above** to make $\\Delta u$ and $\\Delta v$ larger and/or smaller until you clearly see that for smaller $\\Delta u$ or $\\Delta v$, the tangent vectors (red and blue) get closer to approximating the edges of the polygons."
   ]
  },
  {
   "cell_type": "markdown",
   "id": "ecbd60",
   "metadata": {
    "collapsed": false
   },
   "source": [
    "We will zoom in very close to the location, $u = \\pi/3$ and $v = -3\\pi/4$ and look at what happens nearby for very small $\\Delta u$ and $\\Delta v$.\n",
    "\n",
    "**Edit the code below** to make $\\Delta u$ and $\\Delta v$ larger and/or smaller to see how well the tangent vectors approximate the surface when we zoom in closely.\n",
    "\n",
    "The key observation to make is that when $\\Delta u$ and $\\Delta v$ are small enough the vectors $(\\partial \\vec{r}/\\partial u ) \\Delta u$ and $(\\partial \\vec{r}/\\partial v) \\Delta v$ give us an excellent approximation of the edges we are using to create our polygon approximation to the sphere.  Thus we will be able to use them to find the area of a polygon."
   ]
  },
  {
   "cell_type": "code",
   "execution_count": 6,
   "id": "317799",
   "metadata": {
    "collapsed": false
   },
   "outputs": [
    {
     "data": {
      "image/png": "[encoded data removed]",
      "text/plain": [
       "<IPython.core.display.Image object>"
      ]
     },
     "execution_count": null,
     "metadata": {},
     "output_type": "execute_result"
    }
   ],
   "source": [
    "du = 0.5;\n",
    "dv = 0.5;\n",
    "u = [pi/3-du, pi/3, pi/3+du];          %u just has 3 values centered at pi/3\n",
    "v = [-3*pi/4-dv, -3*pi/4, -3*pi/4+dv]; %v just has 3 values centered at -3 pi/4 = 5pi/4\n",
    "\n",
    "[U,V] = meshgrid(u,v);  %produces two matrices U and V.\n",
    "                        %For the i-th element of the list u and the j-th element of the list v\n",
    "                        %the ij entry of U has the i-th element of u \n",
    "                        %and the ij entry of V has the j-th element of v\n",
    "                        %So taking the ij entry of both gets you the i-th element of u and the j-th of v.\n",
    "\n",
    "\n",
    "X = 4 * sin(U).*cos(V);  %the ij-th element of X encodes the x value corresponding to the i-th element of u and j-th of v.\n",
    "Y = 4 * sin(U).*sin(V);  \n",
    "Z = 4 * cos(U);\n",
    "\n",
    "\n",
    "%r(u,v) = x(u,v) i + y(u,v)j + z(u,v)k\n",
    "\n",
    "%The u and v derivatives at every single point:\n",
    "\n",
    "dXdU = 4*cos(U).*cos(V);\n",
    "dYdU = 4*cos(U).*sin(V);\n",
    "dZdU = -4*sin(U);\n",
    "\n",
    "dXdV = -4*sin(U).*sin(V);\n",
    "dYdV = 4*sin(U).*cos(V);\n",
    "dZdV = zeros(size(V));  %this is a matrix of only zero entries, with the same number of rows and columns as V \n",
    "\n",
    "\n",
    "surf(X, Y, Z);\n",
    "hold on\n",
    "quiver3(X, Y, Z, du * dXdU, du * dYdU, du * dZdU, 0, 'r') %plots Delta u * (dr/du).  The '0' tells quiver not to scale the vectors\n",
    "quiver3(X, Y, Z, dv * dXdV, dv * dYdV, dv * dZdV, 0, 'b') %plots Delta v * (dr/dv)\n",
    "xlabel('x')\n",
    "ylabel('y')\n",
    "zlabel('z')"
   ]
  },
  {
   "cell_type": "markdown",
   "id": "771ba6",
   "metadata": {
    "collapsed": false
   },
   "source": [
    "## Finding the area of the parallelograms\n",
    "\n",
    "We want to find the area of the parallelogram at $\\vec{r}(u_i,v_j)$ whose sides are given by the tangent vectors found above:\n",
    "$\\frac{\\partial \\vec{r}}{\\partial u} \\Delta u$ and \n",
    "$\\frac{\\partial \\vec{r}}{\\partial v} \\Delta v$.\n",
    "These look very close to being rectangles, and for the way we have chosen $u$ and $v$ they are.  But this is not always true when we parametrize a surface (the curves of constant $u$ and $v$ need not be perpendicular).  So to make sure our method applies to other cases, we will proceed as if we only know these are parallelograms.\n",
    "\n",
    "If we add up the areas of all the parallelograms, we would get a good approximation to the surface area of the sphere.  As $\\Delta u$ and $\\Delta v$ shrink , we get a better estimate of the surface area of the sphere.  In the limit that their lengths go to $0$, we get the surface area of the sphere.  Taking $\\Delta u$ and $\\Delta v$ to $0$ and adding up many little areas should remind you of integration.\n",
    "\n",
    "Now we need to find the area of the parallelograms.  The cross product gives us a vector whose magnitude equals the area of the parallelogram. So we will add up the magnitudes of \n",
    "\n",
    "$$\\left(\\frac{\\partial \\vec{r}}{\\partial v }\\Delta v\\right) \\times \\left(\\frac{\\partial \\vec{r}}{\\partial u}\\Delta u\\right)$$\n",
    "for all regions in the surface.  In this case we already found\n",
    "\n",
    "\\begin{align*}\n",
    "\\frac{\\partial \\vec{r}}{\\partial u} &= 4\\cos(u)\\cos(v) \\vec{i} + 4 \\cos(u) \\sin(v) \\vec{j}- 4\\sin(u)\\vec{k} \\\\\n",
    "\\frac{\\partial \\vec{r}}{\\partial v} &=  -4\\sin(u) \\sin(v)\\vec{i} + 4 \\sin(u) \\cos(v) \\vec{j} + 0 \\vec{k}\n",
    "\\end{align*}\n",
    "\n",
    "So we find\n",
    "\n",
    "\\begin{align*}\n",
    "\\left(\\frac{\\partial \\vec{r}}{\\partial v }\\Delta v\\right) \\times \\left(\\frac{\\partial \\vec{r}}{\\partial u}\\Delta u\\right)&= (\\Delta u \\Delta v) \\left(  4\\cos(u)\\cos(v) \\vec{i} + 4 \\cos(u) \\sin(v) \\vec{j}- 4\\sin(u)\\vec{k} \\right) \\times \\left(-4\\sin(u) \\sin(v) \\vec{i}+ 4 \\sin(u) \\cos(v) \\vec{j} \\right)\\\\ \n",
    " &= (\\Delta u \\Delta v) \\left \\| \\begin{pmatrix}\n",
    " \\vec{i} & \\vec{j} & \\vec{k}\\\\\n",
    "  4\\cos(u)\\cos(v)& 4 \\cos(u) \\sin(v)&-4\\sin(u)\\\\\n",
    " -4\\sin(u) \\sin(v) & 4 \\sin(u) \\cos(v) & 0\n",
    " \\end{pmatrix} \\right\\| \\\\\n",
    " &= \\left(16\\sin^2(u)\\cos(v) \\vec{i} + 16 \\sin^2(u) \\sin(v)\\vec{j} + (16 \\cos(u)\\sin(u)\\cos^2(v) + 16 \\cos(u)\\sin(u)\\sin^2(v))\\vec{k}\\right) (\\Delta u \\Delta v)\\\\\n",
    " &= \\left(16 \\sin^2(u) \\cos(v) \\vec{i} + 16 \\sin^2(u) \\sin(v) \\vec{j} + 16\\cos(u)\\sin(u) \\vec{k} \\right)(\\Delta u \\Delta v)\\\\\n",
    " &= 16 \\sin(u) \\left( \\sin(u)\\cos(v) \\vec{i} + \\sin(u) \\sin(v) \\vec{j} + \\cos(u) \\vec{k} \\right) (\\Delta u \\Delta v)\n",
    " \\end{align*}\n",
    " \n",
    " \n",
    "For any $u$ and $v$, this cross product is perpendicular to the two tangents we found at that point.  So these vectors are perpendicular to the surface of the sphere.  The vector inside the brackets in the final line is actually $\\vec{e}_r$.  \n",
    "Let's look at these vectors on the surface."
   ]
  },
  {
   "cell_type": "code",
   "execution_count": 1,
   "id": "1c3ec3",
   "metadata": {
    "collapsed": false
   },
   "outputs": [
    {
     "name": "stdout",
     "output_type": "stream",
     "text": [
      "warning: using the gnuplot graphics toolkit is discouraged\r\n",
      "\r\n",
      "The gnuplot graphics toolkit is not actively maintained and has a number\r\n",
      "of limitations that are unlikely to be fixed.  Communication with gnuplot\r\n",
      "uses a one-directional pipe and limited information is passed back to the\r\n",
      "Octave interpreter so most changes made interactively in the plot window\r\n",
      "will not be reflected in the graphics properties managed by Octave.  For\r\n",
      "example, if the plot window is closed with a mouse click, Octave will not\r\n",
      "be notified and will not update its internal list of open figure windows.\r\n",
      "The qt toolkit is recommended instead.\r\n",
      "\n"
     ]
    },
    {
     "data": {
      "image/png": "[encoded data removed]",
      "text/plain": [
       "<IPython.core.display.Image object>"
      ]
     },
     "metadata": {},
     "output_type": "display_data"
    }
   ],
   "source": [
    "du = pi/12;   #setting the step size in u and v in advance.  This makes it easier to change them and\n",
    "dv = pi/8;    #we'll be making reference to them later.\n",
    "u = [0:du:pi/2];\n",
    "v = [0:dv:2*pi];\n",
    "\n",
    "[U,V] = meshgrid(u,v);  %produces two matrices U and V.\n",
    "                        %For the i-th element of the list u and the j-th element of the list v\n",
    "                        %the ij entry of U has the i-th element of u \n",
    "                        %and the ij entry of V has the j-th element of v\n",
    "                        %So taking the ij entry of both gets you the i-th element of u and the j-th of v.\n",
    "\n",
    "X = 4 * sin(U).*cos(V);  %the ij-th element of X encodes the x value corresponding to the i-th element of u and j-th of v.\n",
    "Y = 4 * sin(U).*sin(V);\n",
    "Z = 4 * cos(U);\n",
    "\n",
    "cross_product_X = 16*sin(U).^2.*cos(V)*du*dv;\n",
    "cross_product_Y = 16*sin(U).^2.*sin(V)*du*dv;\n",
    "cross_product_Z = 16*cos(U).*sin(U)*du*dv;\n",
    "\n",
    "\n",
    "surf(X, Y, Z);\n",
    "hold on\n",
    "quiver3(X, Y, Z, cross_product_X, cross_product_Y, cross_product_Z, 0)\n",
    "\n",
    "xlabel('x')\n",
    "ylabel('y')\n",
    "zlabel('z')\n",
    "axis('equal')\n",
    "view(-135,20)"
   ]
  },
  {
   "cell_type": "markdown",
   "id": "e17685",
   "metadata": {
    "collapsed": false
   },
   "source": [
    "So what we've got now is a way of splitting the shape up into shapes that approximate parallelograms, and we can find a vector that is orthogonal to the surface whose length equals the area of the corresponding parallelogram.  You should be able to see that the vectors near the \"equator\" are longer than the vectors near the \"poles\".  This is because the surface elements have larger area near the equator.\n",
    "\n",
    "If we add up the lengths of all of these normal vectors then we should get the surface area.  \n",
    "\n",
    "$$\n",
    "\\sum_{u_m}\\left( \\sum_{v_n} \\left\\|\\frac{\\partial \\vec{r}(u_m,v_n)}{\\partial v} \\times \\frac{\\partial \\vec{r}(u_m,v_n)}{\\partial u}\\right\\| \\Delta v \\right)\\Delta u\n",
    "$$\n",
    "Let's choose a specific value of $u_m$, say $u_m=\\pi/2$.  For this value, **the inner sum** becomes\n",
    "\n",
    "$$\n",
    "\\sum_{v_n} \\left \\|\\frac{\\partial \\vec{r}\\left(\\frac{\\pi}{2},v\\right)}{\\partial v} \\times \\frac{\\partial \\vec{r}\\left(\\frac{\\pi}{2},v\\right)}{\\partial u}\\right\\| \\Delta v\n",
    "$$\n",
    "\n",
    "Since $0 \\leq v \\leq 2\\pi$, if we take $\\Delta v \\to 0$, we get\n",
    "\n",
    "$$\n",
    "\\int_0^{2\\pi}  \\left \\|\\frac{\\partial \\vec{r}\\left(\\frac{\\pi}{2},v\\right)}{\\partial v} \\times \\frac{\\partial \\vec{r}\\left(\\frac{\\pi}{2},v\\right)}{\\partial u}\\right\\|  \\, dv\n",
    "$$\n",
    "Similar results happen for other values of $u_m$, so we get\n",
    "\n",
    "$$\n",
    "\\int_0^{2\\pi}  \\left \\|\\frac{\\partial \\vec{r}\\left(u_m,v\\right)}{\\partial v} \\times \\frac{\\partial \\vec{r}\\left(u_m,v\\right)}{\\partial u}\\right\\|  \\, dv\n",
    "$$\n",
    "for each $u_m$.  Then $\\Delta u$ times this gives a good approximation of the area of the sphere in the horizontal strip between $u_m$ and $u_{m+1}$.\n",
    "\n",
    "So our approximation to the area is now\n",
    "\n",
    "$$\n",
    "\\sum_{u_m}\\left(\\int_0^{2\\pi}  \\left \\|\\frac{\\partial \\vec{r}\\left(u_m,v\\right)}{\\partial v} \\times \\frac{\\partial \\vec{r}\\left(u_m,v\\right)}{\\partial u}\\right\\|  \\, dv\n",
    " \\right)\\Delta u\n",
    "$$\n",
    "Taking $\\Delta u \\to 0$ gives\n",
    "\n",
    "$$\n",
    "\\int_0^{\\pi/2} \\left(\\int_0^{2\\pi}  \\left \\|\\frac{\\partial \\vec{r}\\left(u_m,v\\right)}{\\partial v} \\times \\frac{\\partial \\vec{r}\\left(u_m,v\\right)}{\\partial u}\\right\\|  \\, dv\n",
    " \\right)\\Delta u\n",
    "$$\n",
    "\n"
   ]
  },
  {
   "cell_type": "markdown",
   "id": "6a4202",
   "metadata": {
    "collapsed": false
   },
   "source": [
    "## The surface area of the half-sphere\n",
    "\n",
    "The vectors remain separated in the $u$ direction (because $\\Delta u$ is unchanged), but each level has many more vectors because of the reduction in $\\Delta v$, and they are shorter.  For a given value of $u$, as $\\Delta v$ shrinks, the sum of the lengths of the vectors at that vertical level approaches the integral over $v$ that we derived above.  It approximates the area of the sphere between $u_m$ and $u_{m+1}$.  Notice that each integral is a number that is independent of $v$ but not $u$.  That is, for each $u_m$ we get a different value.\n",
    "\n",
    "If we then take $\\Delta u$ to $0$, we  get a integral over $u$.\n",
    "\n",
    "$$\n",
    "\\sum_{u_m} \\int_0^{2\\pi} \\left\\|\\frac{\\partial \\vec{r}(u,v)}{\\partial v} \\times \\frac{\\partial \\vec{r}(u,v)}{\\partial u}\\right\\| dv \\Delta u  \\to \\int_0^{\\pi/2} \\left(\\int_0^{2\\pi} \\left\\|\\frac{\\partial \\vec{r}(u,v)}{\\partial v} \\times \\frac{\\partial \\vec{r}(u,v)}{\\partial u}\\right\\| dv\\right) \\, du\n",
    "$$\n",
    "\n",
    "Now we find calculate the magnitude of the vector in the integral\n",
    "\n",
    "\\begin{align*}\n",
    "\\int_0^{\\pi/2} \\left(\\int_0^{2\\pi} \\left\\|\\frac{\\partial \\vec{r}(u,v)}{\\partial v} \\times \\frac{\\partial \\vec{r}(u,v)}{\\partial u}\\right\\| dv\\right) \\, du &=  \\int_0^{\\pi/2} \\left(\\int_0^{2\\pi}\\left\\|16 \\sin^2(u) \\cos(v) \\vec{i} + 16 \\sin^2(u) \\sin(v) \\vec{j} + 16\\cos(u)\\sin(u) \\vec{k}\\right\\| \\, dv \\right) \\, du\\\\\n",
    "&=  \\int_0^{\\pi/2} \\left(\\int_0^{2\\pi}\\left\\|16 \\sin(u) \\left(\\sin(u)\\cos(v) \\vec{i} + \\sin(u) \\sin(v) \\vec{j} + \\cos(u) \\vec{k}\\right)\\right\\| \\, dv \\right) \\, du\\\\\n",
    "&=  \\int_0^{\\pi/2} \\left(\\int_0^{2\\pi}|16 \\sin(u)| \\: \\left\\| \\left(\\sin(u)\\cos(v) \\vec{i} + \\sin(u) \\sin(v) \\vec{j} + \\cos(u) \\vec{k}\\right)\\right\\| \\, dv \\right) \\, du\\\\\n",
    "&=  \\int_0^{\\pi/2} \\left(\\int_0^{2\\pi}16 \\sin(u) \\: \\sqrt{\\sin^2(u)\\cos^2(v)  + \\sin^2(u) \\sin^2(v) + \\cos^2(u)} \\, dv \\right) \\, du  \\qquad\\qquad \\sin(u) \\geq 0 \\text{ for } 0 \\leq u\\leq \\pi \\\\\n",
    "&=  \\int_0^{\\pi/2} \\left(\\int_0^{2\\pi}16 \\sin(u) \\: \\sqrt{\\sin^2(u)  + \\cos^2(u)} \\, dv \\right) \\, du\\\\ \n",
    "&=  \\int_0^{\\pi/2} \\left(\\int_0^{2\\pi}16 \\sin(u)  \\, dv \\right) \\, du\\\\\n",
    "\\end{align*}\n",
    "If you review the lecture about the \"surface element\" for a sphere's surface in spherical coordinates, it was $dS = r^2 \\sin(\\theta)$.  In this case, $u = \\theta$ and $r=4$.  \n",
    "\n",
    "We could factor the scalar $16 \\sin(u)$ from the vector and pull it out of the magnitude calculation because $\\|c \\vec{w}\\| = |c| \\|\\vec{w}\\|$ for any scalar $c$ and vector $\\vec{w}$.  We could drop the absolute value signs around $16 \\sin(u)$ because $0 \\leq u \\leq \\pi$,  so we are guaranteed $\\sin(u) \\geq 0$.\n",
    "\n",
    "Doing the inner integral first and then the outer integral we get:\n",
    "\n",
    "\\begin{align*}\n",
    "\\int_0^{\\pi/2} \\left( \\int_0^{2\\pi} 16 \\sin(u) \\, dv\\right) \\, du &= \\int_0^{\\pi/2} \\left. 16 \\sin(u)v \\right|_{v=0}^{2\\pi} \\, du\\\\\n",
    "&= \\int_0^{\\pi/2} 32 \\pi \\sin(u) \\, du\\\\\n",
    "&= \\left. -32 \\pi \\cos(u) \\right|_0^{\\pi/2}\\\\\n",
    "&= -32\\pi(0) - (-32 \\pi (1))\\\\\n",
    "&= 32 \\pi\n",
    "\\end{align*}\n",
    "\n",
    "This matches the formula for the surface area of a  half-sphere $4 \\pi r^2/2$ with $r=4$.  Notice that in the first line of the equations above, one of the terminals was written as \"$v=0$\" rather than just $0$.  This is a helpful thing to include to remind us which variable we will replace using the terminals.  It isn't necessary, but reduces our risk of making errors.\n",
    "\n",
    "If we had done this calculation this for a sphere of unknown radius $r$, we would have arrived at the formula $4\\pi r^2/2$\n",
    "There is a useful trick that we could have used to simplify the integral here.  Because $u$ is a constant as far as $v$ is concerned we can pull it out of the integral over $v$:\n",
    "\n",
    "$$\n",
    " \\int_0^{\\pi/2} \\left( \\int_0^{2\\pi} 16 \\sin(u) \\, dv\\right) \\, du = \\int_0^{\\pi/2} \\left(16 \\sin(u) \\int_0^{2\\pi} 1 dv \\right) \\, du\n",
    "$$\n",
    "Then because the integral over $v$ does not depend on $u$ (nor does $u$ appear in its terminals), it is constant as far as $u$ is concerned.  We can pull it out of the integral over $u$.  The 16 can also be pulled out.\n",
    "\n",
    "$$\n",
    " \\int_0^{\\pi/2} \\left(16 \\sin(u) \\int_0^{2\\pi} 1 dv \\right) \\, du = 16 \\left( \\int_0^{2\\pi} 1 \\, dv  \\right) \\left( \\int_0^{\\pi/2} \\sin(u)  du\\right)\n",
    "$$\n"
   ]
  },
  {
   "cell_type": "markdown",
   "id": "a126b2",
   "metadata": {
    "collapsed": false
   },
   "source": [
    "## Extra: derivation of the parametrization\n",
    "\n",
    "Here is a derivation of the $x$, $y$, and $z$ coordinates in terms of $u$ and $v$.  We start by finding $z$ in terms of the radius $r=4$ and the angles $u$ and $v$.  To help this, we draw the half-plane which includes the $z$ axis and the point.  We draw a right triangle in this plane that will let us find $z$\n",
    "\n",
    "<img src=\".Computer Lab 10.ipynb.upload/sphere_vertical_plane.png\"   width=\"430.302px\"  height=\"323.177px\"  style=\"object-fit:cover\"/>\n",
    "\n",
    "We look at it from a side view.  The hypotenuse has length $4$.  The vertical leg of the triangle has length $z$ and the horizontal leg of the triangle has length equal to the distance from the $z$ axis to the point (in cylindrical coordinates this would be $\\rho$).  The angle of the triangle that is at the origin is $u$.\n",
    "\n",
    "<img src=\".Computer Lab 10.ipynb.upload/sphere_side_view.png\"   width=\"356.302px\"  height=\"267.177px\"  style=\"object-fit:cover\"/>\n",
    "\n",
    "By trigonometry, the vertical leg's length divided by the hypotenuse is $\\cos(u)$, so $z/4 = \\cos(u)$ yielding\n",
    "\n",
    "$$z = 4 \\cos(u)$$\n",
    "\n",
    "Now we look for $x$ and $y$.  We add the plane through the point that is parallel to the $xy$ plane, and look at the horizontal leg of the right triangle:\n",
    "\n",
    "<img src=\".Computer Lab 10.ipynb.upload/sphere_horizontal_plane.png\"   width=\"340.302px\"  height=\"255.25px\"  style=\"object-fit:cover\"/>\n",
    "\n",
    "We switch to a view from above and draw a new right triangle in this plane:\n",
    "\n",
    "<img src=\".Computer Lab 10.ipynb.upload/sphere_top_view.png\"   width=\"367.302px\"  height=\"275.177px\"  style=\"object-fit:cover\"/>\n",
    "\n",
    "The hypotenuse is the line from the $z$ axis to the point, which was the horizontal leg of the triangle we saw when calculating $z$.  This has length $4 \\sin(u)$.  In this new triangle, this is the hypotenuse, and the angle of the point relative to the $x$ axis is $v$.  So $\\sin(v) = y/(4\\sin(u))$ and $\\cos(v) = x/(4 \\sin(u))$.  This finally yields\n",
    "\n",
    "$$ x = 4 \\sin(u) \\cos(v) \\qquad\\qquad y = 4\\sin(u)\\sin(v)$$\n",
    "Now we will use this parametrization to draw the sphere.  We set up a list of $u$ and $v$ values, and then use these formulas to plot the surface.\n"
   ]
  }
 ],
 "metadata": {
  "kernelspec": {
   "argv": [
    "python3",
    "-E",
    "-m",
    "octave_kernel",
    "-f",
    "{connection_file}"
   ],
   "display_name": "Octave (xeus)",
   "env": {},
   "language": "octave",
   "metadata": {
    "cocalc": {
     "description": "A programming language for scientific computing.",
     "priority": 10,
     "url": "https://octave.org/"
    }
   },
   "name": "xoctave",
   "resource_dir": "/ext/jupyter/kernels/octave-8.2"
  }
 },
 "nbformat": 4,
 "nbformat_minor": 4
}