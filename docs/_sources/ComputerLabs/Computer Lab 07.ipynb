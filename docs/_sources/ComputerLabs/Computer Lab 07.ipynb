{
 "cells": [
  {
   "cell_type": "markdown",
   "id": "e24b92",
   "metadata": {
    "collapsed": false
   },
   "source": [
    "# Lagrange Multipliers\n",
    "\n",
    "\n",
    "In this lab we will explore properties of Lagrange Multipliers, with a focus on the need for contours of the objective function $f$ to be tangent to the contours of the constraint function $g$.\n",
    "\n",
    "We will lead with an example:\n"
   ]
  },
  {
   "cell_type": "markdown",
   "id": "13f20d",
   "metadata": {
    "collapsed": false
   },
   "source": [
    "## Example\n",
    "\n",
    "\n",
    "Consider the objective function $f(x, y) = x^2 + y^2$ and the constraint $g(x,y)=0$ where $g(x,y) = y-x^2 + 1$.\n",
    "\n",
    "To apply the method of Lagrange Multipliers to this, we find\n",
    "\n",
    "\\begin{align*}\n",
    "\\nabla f &= 2x \\vec{i} + 2y\\vec{j}\\\\\n",
    "\\nabla g &= -2x \\vec{i} + \\vec{j}\n",
    "\\end{align*}\n",
    "Then $\\nabla f = \\lambda \\nabla g$ yields\n",
    "\\begin{align*}\n",
    "2x &= - 2\\lambda x\\\\\n",
    "2y &= \\lambda\n",
    "\\end{align*}\n",
    "\n",
    "From the first equation we conclude that $\\lambda = -1$ or $x=0$.  \n",
    "\n",
    "- Assuming $x=0$ and using the constraint $g(x,y)=0$ yields $y=-1$.  So we have a stationary point at $(0,-1)$.\n",
    "- Assuming that $\\lambda = -1$ the second equation yields $y=-1/2$.  Substituting this into the constraint gives $x = \\pm 1/\\sqrt{2}$.  So we have stationary points at $(1/\\sqrt{2},-1/2)$ and $(-1/\\sqrt{2},-1/2)$.\n",
    "\n",
    "For these points we can find $f$:\n",
    "\n",
    "\\begin{align*}\n",
    "        f(0,-1) &= 1\\\\\n",
    "        f(1/\\sqrt{2},-1/2) &= 1/2 + 1/4 = 3/4\\\\\n",
    "        f(-1/\\sqrt{2},-1/2) &= 3/4\n",
    "\\end{align*}\n",
    "\n",
    "For reference, we plot the constraint curve and a few contours of $f$ including those corresponding to $1$ and $3/4$.\n",
    "\n"
   ]
  },
  {
   "cell_type": "code",
   "execution_count": 3,
   "id": "c8399b",
   "metadata": {
    "collapsed": false
   },
   "outputs": [
    {
     "data": {
      "image/png": "[encoded data removed]",
      "text/plain": [
       "<IPython.core.display.Image object>"
      ]
     },
     "execution_count": 3,
     "metadata": {},
     "output_type": "execute_result"
    }
   ],
   "source": [
    "x = [-2:0.05:2];\n",
    "y = [-2:0.05:2];\n",
    "\n",
    "[X,Y] = meshgrid(x,y);\n",
    "\n",
    "G = Y - X.^2 + 1;\n",
    "F = X.^2 + Y.^2;\n",
    "\n",
    "contour(X,Y,G, [0,0], 'r')\n",
    "hold on \n",
    "contour(X,Y,F, [1/2, 3/4, 1, 2])\n",
    "\n",
    "daspect([1,1])\n",
    "colorbar"
   ]
  },
  {
   "cell_type": "markdown",
   "id": "38d151",
   "metadata": {
    "collapsed": false
   },
   "source": [
    "We see in the figure that as $x^2+y^2$ is increased, it first becomes tangent to the constraint parabola in two points.  These are the minima of $3/4$.  As $x^2+y^2$ increases further, a new point of tangency emerges, and that is the lowest point in the parabola.  As we increase further, there is no value that makes the functions tangent.  \n",
    "\n",
    "We can also see that there are points on the constraint which are arbitarily far from the origin.  As we do this, the value of $f$ increases.  "
   ]
  },
  {
   "cell_type": "markdown",
   "id": "5805a5",
   "metadata": {
    "collapsed": false
   },
   "source": [
    "## example\n",
    "\n",
    "consider the gutter cross section that appeared in the videos for lesson 4B on stationary points:\n",
    "![gutter schematic](gutter.png \"gutter\")\n",
    "\n",
    "the three variables of interest are $h$ $b$, and the angle $\\alpha$.  We want to maximixe the cross section area which equals $A(h,b,\\alpha)=hb + h^2\\tan(\\alpha)/2$ subject to the constraint $g(h,b,\\alpha)=h+b+h\\sec(\\alpha)-1=0$.  in 4B, we used the constraint to eliminate one variable and then found the maximum of the remaining $2$-dimensional system.  Here we will use all three variables and Lagrange multipliers.  We will treat the variables as Cartesian coordinates and find the maximum of $A$ subject to the constraint $g(h,b,\\alpha)=0$.\n",
    "\n",
    "\\begin{align*}\n",
    "\\nabla A &= (b + 2 h \\tan(\\alpha)/2)\\vec{i} + h \\vec{j} + h^2 \\sec^2(\\alpha)/2 \\vec{k}\\\\\n",
    "\\nabla g &= (1 + \\sec(\\alpha))\\vec{i} + \\vec{j} + h \\sec(\\alpha)\\tan(\\alpha)\n",
    "\\end{align*}\n",
    "So\n",
    "\n",
    "\\begin{align*}\n",
    "(b + 2 h \\tan(\\alpha)/2) &= \\lambda  (1 + \\sec(\\alpha))\\\\\n",
    "h &= \\lambda\\\\\n",
    "h^2 \\sec^2(\\alpha)/2 &= \\lambda h \\sec(\\alpha)\\tan(\\alpha)\\\\\n",
    "h+b+h\\sec(\\alpha)-1&=0\n",
    "\\end{align*}\n",
    "are the equations.\n",
    "\n",
    "We see $h= \\lambda$ so they become\n",
    "\n",
    "\\begin{align*}\n",
    "(b + h \\tan(\\alpha)) &= h  (1 + \\sec(\\alpha))\\\\\n",
    "h^2 \\sec^2(\\alpha)/2 &= h^2 \\sec(\\alpha)\\tan(\\alpha)\\\\\n",
    "h+b+h\\sec(\\alpha)-1&=0\n",
    "\\end{align*}\n",
    "The second of these equations becomes\n",
    "\n",
    "$$\n",
    "\\frac{\\sec^2(\\alpha)}{2} = \\sec{\\alpha}\\tan{\\alpha}\n",
    "$$\n",
    "This leads to the conclusion that $\\tan(\\alpha) = \\sec(\\alpha)/2$.  \n",
    "\n",
    "In the notes for Lesson 4B, we showed that this condition implies $\\alpha = \\pi/6$ (a $30^\\circ$ angle).   This can be derived by constructing a right triangle with one side of length $1$ and hypotenuse of length $\\sec(\\alpha)$.  The opposite side has length $\\tan(\\alpha) = \\sec{(\\alpha)}/2$.  Using the Pythagorean Theorem, this leads to $\\sec(\\alpha) = 2/\\sqrt{3}$ and $\\tan(\\alpha) = 1/\\sqrt{3}$. \n",
    "\n",
    "The first equation above $(b + 2 h \\tan(\\alpha)/2) = h  (1 + \\sec(\\alpha))$ becomes $b + h/\\sqrt{3} = h(1+2/\\sqrt{3})$.  The constraint becomes $b + h(1+2/\\sqrt{3})-1 = 0$.  We can solve this to get $h = 1/(2+\\sqrt{3})$ and \n",
    "\n",
    "\\begin{align*}\n",
    "b &= 1 - h - h \\sec(\\alpha) \\\\\n",
    "&= 1 - h(1+\\sec(\\alpha))\\\\\n",
    "& = 1 - \\frac{1}{2+\\sqrt{3}}\\frac{2+\\sqrt{3}}{\\sqrt{3}}\\\\\n",
    "&=  1 - \\frac{1}{\\sqrt{3}}\n",
    "\\end{align*}"
   ]
  },
  {
   "cell_type": "markdown",
   "id": "5dac77",
   "metadata": {
    "collapsed": false
   },
   "source": [
    "## Self-test\n",
    "\n",
    "First, look at the figure and think about what you would intuitively expect is the angle that maximizes the cross section.\n",
    "\n",
    "In the code below, use different values of $\\alpha$ and track the maximum value of $A$ on the line corresponding to the constraint.  Ideally, plot the area as a function of $\\alpha$."
   ]
  },
  {
   "cell_type": "code",
   "execution_count": 0,
   "id": "0f06ca",
   "metadata": {
    "collapsed": false
   },
   "outputs": [],
   "source": [
    "alpha = pi/4;\n",
    "\n",
    "h = [0:0.05:1];\n",
    "b = [0:0.05:1];\n",
    "[H,B] = meshgrid(h,b);\n",
    "\n",
    "%constraint is b = 1- h - h sec(alpha)\n",
    "% Area = hb + h^2\\tan(\\alpha)/2\n",
    "A = H.*B + H.^2*tan(alpha)/2;\n",
    "contour(H,B, A)\n",
    "colorbar\n",
    "hold on\n",
    "plot(h, 1-h-h*sec(alpha), 'r')\n",
    "xlabel('h')\n",
    "ylabel('b')"
   ]
  }
 ],
 "metadata": {
  "kernelspec": {
   "argv": [
    "python3",
    "-E",
    "-m",
    "octave_kernel",
    "-f",
    "{connection_file}"
   ],
   "display_name": "Octave (xeus)",
   "env": {},
   "language": "octave",
   "metadata": {
    "cocalc": {
     "description": "A programming language for scientific computing.",
     "priority": 10,
     "url": "https://octave.org/"
    }
   },
   "name": "xoctave",
   "resource_dir": "/ext/jupyter/kernels/octave-8.2"
  }
 },
 "nbformat": 4,
 "nbformat_minor": 4
}