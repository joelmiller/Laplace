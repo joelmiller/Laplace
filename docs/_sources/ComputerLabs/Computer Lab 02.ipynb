{
 "cells": [
  {
   "cell_type": "markdown",
   "id": "0c2080",
   "metadata": {
    "collapsed": false
   },
   "source": [
    "# MAT2VCA Computer Lab 2\n",
    "\n",
    "In this lab we will gain experience with parametrizing lines and circles.  We will mostly think of these as sitting within the $xy$ plane, but more generally they could be sitting within a higher dimensional space.\n",
    "\n",
    "Lines and circles and many other curves are 1-dimensional objects.  We can mark a numberline along a curve, so that each point on the curve is associated with a numerical value, which we can call $t$.  Then the $x$, $y$ (and possibly $z$) coordinates can be thought of as functions of $t$.\n",
    "\n",
    "Often, it's useful to think of an object moving along the curve in time in which case $x(t)$ and $y(t)$ give the coordinates of the object at each time $t$.  For example, the $x$ and $y$ coordinates of a vehicle driving through a city can be thought of as functions of time.  At each time $t$, the function $x(t)$ gives the corresponding $x$ coordinate and $y(t)$ gives the $y$ coordinate.\n",
    "\n",
    "Other times, it may be useful to think of the distance $s$ along the curve from some starting point.  Then $x(s)$ and $y(s)$ give the coordinates of the position on the curve that is distance $s$ from the 'start'.  We can think of this using a moving vehicle analogy as well.  If we give directions like like \"follow the road for 1.5km\" \\- if we know the path then the distance $s$ tells us exactly what $x$ and $y$ coordinate the vehicle has reached, so we can think of $x(s)$ and $y(s)$ as functions of $s$.\n"
   ]
  },
  {
   "cell_type": "markdown",
   "id": "de3c9c",
   "metadata": {
    "collapsed": false
   },
   "source": [
    "## Goals for this lab:\n",
    "\n",
    "1) Parametrize the line segment between two points $A$ and $B$ using $t \\in[0,1]$.\n",
    "2) Parametrize a line in terms of distance $s$ from a given point $A$ and the unit vector in the direction of the line $\\vec{u}$.  This will be important for understanding cross sections in arbitrary directions, which is needed to understanding the slope in different directions and its relation to the gradient vector (lecture 3B).\n",
    "3) Parametrize a circle of given radius and center in terms of the angle $\\theta$.  This will help in understanding cylindrical and spherical coordinates and in parametrizing surfaces later in the subject."
   ]
  },
  {
   "cell_type": "markdown",
   "id": "9d1f48",
   "metadata": {
    "collapsed": false
   },
   "source": [
    "## Parametrizing lines\n",
    "\n",
    "### Line segments\n",
    "\n",
    "Consider two points $A=(x_A,y_A)$ and $B=(x_B,y_B)$ connected by a line segment.  Imagine an object (or an individual) moving along the line segment with constant velocity so that at time $t=0$ it is at $A$ and at time $t=1$ it is at $B$.\n",
    "\n",
    "Then at time $t=1/4$ it is a quarter of the way from $A$ to $B$.  At time $t=1/2$ it is halfway to $B$.  At time $t=3/4$ it is three quarters of the way to $B$.\n",
    "\n",
    "How can we plot these points?  Let's start with specific values $A=(0,0)$ and $B=(2,3)$ and plot them as red circles.  The fact that $A$ is the origin will make our calculations a little simpler for a bit."
   ]
  },
  {
   "cell_type": "code",
   "execution_count": 0,
   "id": "4d6177",
   "metadata": {
    "collapsed": false
   },
   "outputs": [],
   "source": [
    "A=[0,0]\n",
    "B=[2,3]\n",
    "plot([A(1),B(1)],[A(2),B(2)],  'ro') %the 'r' tells matlab to use red and the 'o' tells it to use a circle.\n",
    "xlim([-0.2, 2.2])\n",
    "ylim([-0.2, 3.2])"
   ]
  },
  {
   "cell_type": "markdown",
   "id": "7a2a5a",
   "metadata": {
    "collapsed": false
   },
   "source": [
    "Now calculate by hand the points 1/4, 1/2, and 3/4 of the way from $A$ to $B$.  Call these points $C$, $D$, and $E$.  Then we plot $A$, $B$, and these points as circles.  "
   ]
  },
  {
   "cell_type": "code",
   "execution_count": 0,
   "id": "2ed687",
   "metadata": {
    "collapsed": false
   },
   "outputs": [],
   "source": [
    "C = []; %fill this in\n",
    "D = []; %fill this in\n",
    "E = []; %fill this in\n",
    "xs = [A(1), B(1), C(1), D(1), E(1)];\n",
    "ys = [A(2), B(2), C(2), D(2), E(2)];\n",
    "\n",
    "plot(xs, ys, 'ro')\n",
    "\n",
    "xlim([-0.2, 2.2])\n",
    "ylim([-0.2, 3.2])"
   ]
  },
  {
   "cell_type": "markdown",
   "id": "c67f7a",
   "metadata": {
    "collapsed": false
   },
   "source": [
    "Can you find a formula for the point $(x(t),y(t))$ that is a proportion $t$ (where $0\\leq t \\leq 1$) of the way from $A$ to $B$?  If so, enter it in the box below."
   ]
  },
  {
   "cell_type": "markdown",
   "id": "706a13",
   "metadata": {
    "collapsed": false
   },
   "source": [
    "Enter the fomulas here:\n",
    "\n",
    "x = ...\n",
    "y = ..."
   ]
  },
  {
   "cell_type": "markdown",
   "id": "3ae77b",
   "metadata": {
    "collapsed": false
   },
   "source": [
    "Now we're going to use an efficient way to plot a bunch of dots between the two points."
   ]
  },
  {
   "cell_type": "code",
   "execution_count": 0,
   "id": "4b258e",
   "metadata": {
    "collapsed": false
   },
   "outputs": [],
   "source": [
    "t = [0: 0.1: 1];\n",
    "x = t*B(1); \n",
    "y = t*B(2);\n",
    "plot(x,y, '.') % the '.' means just a dot at each point.\n",
    "xlim([-0.2, 2.2])\n",
    "ylim([-0.2, 3.2])"
   ]
  },
  {
   "cell_type": "markdown",
   "id": "8cdcd8",
   "metadata": {
    "collapsed": false
   },
   "source": [
    "Look at the values that $t$, $x$, and $y$ take.  Spend the time to understand why the plot looks like it does.  This may confirm the formula you found before for $(x(t),y(t))$.  If not, spend some more time thinking about it."
   ]
  },
  {
   "cell_type": "markdown",
   "id": "db3049",
   "metadata": {
    "collapsed": false
   },
   "source": [
    "Now what happens if $A$ is not at the origin?  Say that $A=(-1,1)$ and $B=(1,4)$?"
   ]
  },
  {
   "cell_type": "code",
   "execution_count": 0,
   "id": "a390e3",
   "metadata": {
    "collapsed": false
   },
   "outputs": [],
   "source": [
    "A=[-1,1]\n",
    "B = [1,4]\n",
    "plot([A(1),B(1)],[A(2),B(2)], 'ro')\n",
    "xlim([-1.2, 4.2])\n",
    "ylim([-1.2, 4.2])\n",
    "daspect([1,1,1])   %aspect ratio of 1"
   ]
  },
  {
   "cell_type": "markdown",
   "id": "26cc2a",
   "metadata": {
    "collapsed": false
   },
   "source": [
    "Notice that for this specific example, the step from $A$ to $B$ is exactly the same as in the previous example.\n",
    "\n",
    "We'll make an observation that if we treat $A$ and $B$ as vectors (rather than coordinates of points), then $A+(B-A) = B$.  $B-A$ is the vector from the point $A$ to the point $B$.  When we talk about going some fraction $t$ of the way from $A$ to $B$, we're talking about adding that fraction of the vector $(B-A)$ to the vector $A$.\n",
    "\n"
   ]
  },
  {
   "cell_type": "code",
   "execution_count": 0,
   "id": "9cdabe",
   "metadata": {
    "collapsed": false
   },
   "outputs": [],
   "source": [
    "t = [0: 0.1: 1];\n",
    "x = A(1)+t*(B(1)-A(1));\n",
    "y = A(2)+t*(B(2)-A(2));\n",
    "daspect([1,1,1])plot(x,y, '.')\n",
    "xlim([-1.2, 4.2])\n",
    "ylim([-1.2, 4.2])\n",
    "daspect([1,1,1])"
   ]
  },
  {
   "cell_type": "markdown",
   "id": "30be4f",
   "metadata": {
    "collapsed": false
   },
   "source": [
    "You should see that the formula for a point $P(t)$ that is a fraction $t$ of the way from $A$ to $B$ is\n",
    "\n",
    "$$\n",
    "P(t) = A + t(B-A)\n",
    "$$\n",
    "where we interpret these as vectors.\n",
    "\n",
    "So to describe the set of all points on the line segment from $A$ to $B$, we can use\n",
    "\n",
    "$$\n",
    "\\{ A+t(B-A) : 0 \\leq t \\leq 1\\}\n",
    "$$\n",
    "This means the set of all points that can be written in the form $A+t(B-A)$ for some value of $t$ between $0$ and $1$.\n",
    "Alternately, sometimes we write\n",
    "\n",
    "$$\n",
    "\\gamma(t) = A+t(B-A), \\qquad t \\in [0,1]\n",
    "$$\n",
    "which means that the function $\\gamma(t)$ gives the coordinate of the point corresponding to $t$ for values of $t$ within the given range.\n",
    "\n",
    "We call this a parametrization of the line from $A$ to $B$."
   ]
  },
  {
   "cell_type": "markdown",
   "id": "eee9f1",
   "metadata": {
    "collapsed": false
   },
   "source": [
    "### Self test\n",
    "- Plot 5 equally spaced points between the two points $A=(-4,5)$ and $B=(2,-3)$ as red dots, (including the end points) and find a parametrization for this line.\n",
    "\n",
    "- Find a parametrization for the line in the opposite direction (i.e., it starts at $B$ at $t=0$ and ends at $A$ at $t=1$).  Plot 6 equally spaced points including the end points using this parametrization as blue squares\n",
    "\n",
    "\n",
    "\n"
   ]
  },
  {
   "cell_type": "code",
   "execution_count": 0,
   "id": "12ecf8",
   "metadata": {
    "collapsed": false
   },
   "outputs": [],
   "source": []
  },
  {
   "cell_type": "markdown",
   "id": "355b51",
   "metadata": {
    "collapsed": false
   },
   "source": [
    "- Explain the statement: \"The parametrization can be thought of as a new coordinate system for points on the line that assigns a number between 0 and 1 to each point on the line segment.  The rule $A+t(B-A)$ translates from this new coordinate to our standard coordinates.\"\n",
    "\n",
    "\n"
   ]
  },
  {
   "cell_type": "markdown",
   "id": "44a0bd",
   "metadata": {
    "collapsed": false
   },
   "source": [
    "Give your answer here:"
   ]
  },
  {
   "cell_type": "markdown",
   "id": "809685",
   "metadata": {
    "collapsed": false
   },
   "source": [
    "## Infinite lines\n",
    "\n",
    "Consider a point $A=(x_A,y_A)$ and a unit vector $\\vec{u} = (u_1,u_2)$.  (the term 'unit vector' means that the length of the vector is $1$).  \n",
    "\n",
    "We would like to draw a line through $A$ that goes in the direction of $\\vec{u}$.  We will use $s$ to denote the distance of a point on this line from $A$ and we will try to find the coordinate $(x(s),y(s))$.\n",
    "\n",
    "Because the length of $\\vec{u}$ is $1$, the length of the vector $s\\vec{u}$ is $s$ for positive values of $s$, and $|s|$ for negative values of $s$.  The positive values of $s$ correspond to the direction that $\\vec{u}$ points, while negative values correspond to the opposite direction.\n",
    "\n",
    "Let's take $A=(2,3)$ and $\\vec{u} = (3/5, 4/5)$ (which has magnitude $1$).\n",
    "\n",
    "Set $P$ to be the point $A + 5\\vec{u}$"
   ]
  },
  {
   "cell_type": "code",
   "execution_count": 0,
   "id": "137e28",
   "metadata": {
    "collapsed": false
   },
   "outputs": [],
   "source": [
    "A = [2,3]\n",
    "u = [3/5, 4/5]\n",
    "P = A + 5*u"
   ]
  },
  {
   "cell_type": "markdown",
   "id": "5b7e4b",
   "metadata": {
    "collapsed": false
   },
   "source": [
    "Use the pythagorean theorem by hand to check that the distance between $A$ and $P$ is $5$.  "
   ]
  },
  {
   "cell_type": "markdown",
   "id": "33b66e",
   "metadata": {
    "collapsed": false
   },
   "source": [
    "Write out your explanation here:"
   ]
  },
  {
   "cell_type": "markdown",
   "id": "7dd606",
   "metadata": {
    "collapsed": false
   },
   "source": [
    "To use Matlab to find the distance between two points you can use the following  command, without going through the Pythagorean theorem by hand...  The command `norm` gives the geometric length of a vector."
   ]
  },
  {
   "cell_type": "code",
   "execution_count": 0,
   "id": "1e625d",
   "metadata": {
    "collapsed": false
   },
   "outputs": [],
   "source": [
    "norm(A-P)"
   ]
  },
  {
   "cell_type": "markdown",
   "id": "2d62cc",
   "metadata": {
    "collapsed": false
   },
   "source": [
    "Now we'll plot all points within distance $5$ of $A$ in the direction of $\\vec{u}$ or $-\\vec{u}$."
   ]
  },
  {
   "cell_type": "code",
   "execution_count": 0,
   "id": "34fcfc",
   "metadata": {
    "collapsed": false
   },
   "outputs": [],
   "source": [
    "s = [-5:0.2:5];\n",
    "x = A(1) + u(1)*s;\n",
    "y = A(2) + u(2)*s;\n",
    "plot([A(1)], [A(2)], 'ro')\n",
    "hold on\n",
    "plot(x,y)"
   ]
  },
  {
   "cell_type": "markdown",
   "id": "9d7fa6",
   "metadata": {
    "collapsed": false
   },
   "source": [
    "So the line is the set of points of the form \n",
    "\n",
    "$$\n",
    "\\{ A + s\\vec{u}: -\\infty<s<\\infty\n",
    "\\}\n",
    "$$\n",
    "We can also write this as\n",
    "\n",
    "$$\n",
    "\\gamma(s) = A + s\\vec{u} \\qquad s \\in \\Re\n",
    "$$"
   ]
  },
  {
   "cell_type": "markdown",
   "id": "6221b5",
   "metadata": {
    "collapsed": false
   },
   "source": [
    "This is fine if the vector you have is a unit vector.  What if you're given the point $A=(2,3)$ and the vector $\\vec{v} = (3,4)$, where $\\vec{v}$ is not a unit vector?\n",
    "\n",
    "One option is to just do exactly the same calculation as was done with $\\vec{u}$ above, but in this case the parameter $s$ represents multiples of the length of $\\vec{v}$.  If we want $s$ to represent a distance (which we often do), then we replace $\\vec{v} = (3,4)$ with $\\vec{u} = \\vec{v}/\\|\\vec{v}\\|$.  This will always give a unit vector in the same direction as $\\vec{v}$. Then we can continue as we did above."
   ]
  },
  {
   "cell_type": "code",
   "execution_count": 0,
   "id": "390cee",
   "metadata": {
    "collapsed": false
   },
   "outputs": [],
   "source": [
    "A = [2,3]\n",
    "v = [3,4]\n",
    "\n",
    "u = v/norm(v)\n",
    "\n",
    "s = [-5:0.2:5];\n",
    "x = A(1) + u(1)*s;\n",
    "y = A(2) + u(2)*s;\n",
    "plot([A(1)], [A(2)], 'ro', label = 'A')\n",
    "hold on\n",
    "plot(x,y)\n",
    "legend()"
   ]
  },
  {
   "cell_type": "markdown",
   "id": "c4ceee",
   "metadata": {
    "collapsed": false
   },
   "source": [
    "### Self test\n",
    "\n",
    "Find a parametrization of the line through the point A=(1,-1) in the direction of $\\vec{v} = (1,1)$ where the parameter $s$ denotes the distance from $A$ to a given point.  Plot points on the line of distance at most 10 from $A$."
   ]
  },
  {
   "cell_type": "code",
   "execution_count": 0,
   "id": "7f43e0",
   "metadata": {
    "collapsed": false
   },
   "outputs": [],
   "source": []
  },
  {
   "cell_type": "markdown",
   "id": "6a0ee1",
   "metadata": {
    "collapsed": false
   },
   "source": [
    "## Circles\n",
    "\n",
    "Let's try to plot the circle of radius $1$ centred at the origin:\n",
    "\n",
    "$$x^2+y^2=1$$\n",
    "We're going to first try a naive way and see that it is not as good as another approach.  \n",
    "\n",
    "The natural thing to do, since we're used to plotting functions is to express $y$ as a function of $x$.  We can write $y^2=1-x^2$ and so \n",
    "\n",
    "$$y = \\pm \\sqrt{1-x^2}$$\n",
    "where $-1\\leq x \\leq 1$.\n",
    "\n",
    "Let's try to plot this.  In a sense, we are treating the circle as if the parameter we are using is the $x$-coordinate."
   ]
  },
  {
   "cell_type": "code",
   "execution_count": 0,
   "id": "d2270c",
   "metadata": {
    "collapsed": false
   },
   "outputs": [],
   "source": [
    "x = [-1:0.1:1];\n",
    "y = sqrt(1-x.^2);\n",
    "plot(x,y, 'k') %'k' means black.\n",
    "hold on\n",
    "\n",
    "y = -sqrt(1-x.^2);\n",
    "plot(x,y, 'b') #`b` means blue.\n",
    "\n",
    "daspect([1,1])  %this sets the 'aspect ratio' so that the x and y distances are the same.  Otherwise it looks like a squashed circle."
   ]
  },
  {
   "cell_type": "markdown",
   "id": "2ffa3a",
   "metadata": {
    "collapsed": false
   },
   "source": [
    "Notice that when we do this, we have to use two plotting commands because the circle is not a simple function of $x$, but instead can be thought of as two functions.  We've had to use a parameterization for the top half and a different parameterization for the bottom half of the circle.  You'll also notice that close to $x=-1$ and $x=1$, the circle is not very smooth.  It becomes clearer why if we plot the points themselves rather than lines."
   ]
  },
  {
   "cell_type": "code",
   "execution_count": 0,
   "id": "e456c6",
   "metadata": {
    "collapsed": false
   },
   "outputs": [],
   "source": [
    "x = [-1:0.1:1];\n",
    "y = sqrt(1-x.^2);\n",
    "plot(x,y, 'ko')\n",
    "hold on\n",
    "\n",
    "y = -sqrt(1-x.^2);\n",
    "plot(x,y, 'bo')\n",
    "daspect([1,1])"
   ]
  },
  {
   "cell_type": "markdown",
   "id": "1721d7",
   "metadata": {
    "collapsed": false
   },
   "source": [
    "Notice that the points are not equally spaced on the circle.  Their $x$-coordinates are equally spaced, but that results in very different geometric lengths.  They are farther apart near $x = \\pm 1$.  \n",
    "\n",
    "We would like to use a parametrization for which a given change in the parameter corresponds to the same distance regardless of the parameter value.  To do this, we'll use the angle as the parameter.\n",
    "\n",
    "![](polar_coords.png)\n",
    "\n",
    "For a given point on the circle, we set $\\theta$ to be the angle between the line from the point to the centre of the circle and the $x$ axis.  Then for this circle of radius $1$ centred at the origin, $x = \\cos(\\theta)$ and $y = \\sin(\\theta)$.  For this $\\theta$ goes from $0$ to $2\\pi$ (that is $0^\\circ$ to $360^\\circ$).\n",
    "\n",
    "So  we are labelling points by the corresponding angle.  This is similar to how we label points on the Earth's surface.  If you are talking about a point on the equator, you can identify exactly which point it is by using the Longitude, which is a measure of angle.  You don't ever think about the \\(x,y,z\\) coordinates of the point.\n"
   ]
  },
  {
   "cell_type": "code",
   "execution_count": 0,
   "id": "de2792",
   "metadata": {
    "collapsed": false
   },
   "outputs": [],
   "source": [
    "theta = [0: pi/20: 2*pi];\n",
    "x = cos(theta);\n",
    "y = sin(theta);\n",
    "plot(x,y, 'ko')\n",
    "daspect([1,1])"
   ]
  },
  {
   "cell_type": "markdown",
   "id": "d4ac08",
   "metadata": {
    "collapsed": false
   },
   "source": [
    "If we want the circle to have a different radius, $r$, we need to use $r\\cos(\\theta)$ and $r\\sin(\\theta)$.  \n",
    "\n",
    "If we want to shift the centre of the circle to another point $(x_c,y_c)$, then we need to add $x_c$ to all the $x$ coordinates and $y_c$ to all the $y$ coordinates.\n",
    "\n",
    "So for a circle of radius $5$ centred at $(3,4)$ we have"
   ]
  },
  {
   "cell_type": "code",
   "execution_count": 0,
   "id": "c04187",
   "metadata": {
    "collapsed": false
   },
   "outputs": [],
   "source": [
    "theta = [0:pi/20:6*pi];\n",
    "x = 3 + 5.*cos(theta);\n",
    "y = 4 + 5.*sin(theta);\n",
    "\n",
    "plot(x,y)\n",
    "daspect([1,1])"
   ]
  },
  {
   "cell_type": "markdown",
   "id": "e09f80",
   "metadata": {
    "collapsed": false
   },
   "source": [
    "(notice that this circle goes through the origin --- can you see why?)"
   ]
  },
  {
   "cell_type": "markdown",
   "id": "ac1f4d",
   "metadata": {
    "collapsed": false
   },
   "source": [
    "### Self Test\n",
    "\n",
    "plot a circle of radius $1/4$ centred at $(2,3)$.  Be sure to use `daspect([1,1])` to ensure that the aspect ratio is 1.\n",
    "\n",
    "What do you think happens if we use different values for $r$ in the $x$ and $y$ coordinates?  Test your prediction.\n",
    "\n"
   ]
  },
  {
   "cell_type": "code",
   "execution_count": 0,
   "id": "b5c914",
   "metadata": {
    "collapsed": false
   },
   "outputs": [],
   "source": []
  },
  {
   "cell_type": "markdown",
   "id": "c9361f",
   "metadata": {
    "collapsed": false
   },
   "source": [
    "### Extension\n",
    "\n",
    "- See if you can modify the plots of circles so that they become spirals going out of the origin  \\(hint, the radius should depend on the angle\\).\n",
    "- Can you make the spiral go around many times?\n",
    "- The command `plot3(x,y,z)` will plot similarly to a 2 dimensional plot, but in 3D.  Can you use this to plot a helix that looks like a circle from above and does exactly 3 full rotations?\n",
    "- Can you plot a double helix like a DNA molecule?  In a double helix, one helix is rotated by $\\pi$ compared to the other.\n",
    "\n"
   ]
  },
  {
   "cell_type": "code",
   "execution_count": 0,
   "id": "d1c194",
   "metadata": {
    "collapsed": false
   },
   "outputs": [],
   "source": []
  },
  {
   "cell_type": "code",
   "execution_count": 0,
   "id": "a6d879",
   "metadata": {
    "collapsed": false
   },
   "outputs": [],
   "source": []
  },
  {
   "cell_type": "code",
   "execution_count": 0,
   "id": "8c1fa3",
   "metadata": {
    "collapsed": false
   },
   "outputs": [],
   "source": []
  },
  {
   "cell_type": "code",
   "execution_count": 0,
   "id": "9442f3",
   "metadata": {
    "collapsed": false
   },
   "outputs": [],
   "source": []
  },
  {
   "cell_type": "code",
   "execution_count": 0,
   "id": "4080d6",
   "metadata": {
    "collapsed": false
   },
   "outputs": [],
   "source": []
  },
  {
   "cell_type": "code",
   "execution_count": 0,
   "id": "30288e",
   "metadata": {
    "collapsed": false
   },
   "outputs": [],
   "source": []
  }
 ],
 "metadata": {
  "kernelspec": {
   "argv": [
    "python3",
    "-E",
    "-m",
    "octave_kernel",
    "-f",
    "{connection_file}"
   ],
   "display_name": "Octave (xeus)",
   "env": {},
   "language": "octave",
   "metadata": {
    "cocalc": {
     "description": "A programming language for scientific computing.",
     "priority": 10,
     "url": "https://octave.org/"
    }
   },
   "name": "xoctave",
   "resource_dir": "/ext/jupyter/kernels/octave-8.2"
  },
  "language_info": {
   "file_extension": ".m",
   "help_links": [
    {
     "text": "GNU Octave",
     "url": "https://www.gnu.org/software/octave/support.html"
    },
    {
     "text": "Octave Kernel",
     "url": "https://github.com/Calysto/octave_kernel"
    },
    {
     "text": "MetaKernel Magics",
     "url": "https://metakernel.readthedocs.io/en/latest/source/README.html"
    }
   ],
   "mimetype": "text/x-octave",
   "name": "octave",
   "version": "8.2.0"
  }
 },
 "nbformat": 4,
 "nbformat_minor": 4
}