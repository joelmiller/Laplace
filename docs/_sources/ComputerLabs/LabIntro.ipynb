{
 "cells": [
  {
   "cell_type": "markdown",
   "id": "fb76c7a7",
   "metadata": {},
   "source": [
    "# Computer Labs\n",
    "\n",
    "This chapter contains the computer labs for the subject.  We will work through these computer labs in Cocalc.  You will receive instructions how to access cocalc at the start of the semester.\n",
    "\n",
    "The labs in this document are taken directly from the 2025 cocalc labs.  This means that there are occassional places where the formatting is mangled because the Cocalc interface interprets mathematics formatting slightly differently from the interface used here.  \n",
    "\n",
    "If you want to work through these labs, you can do that.  The simplest option is to open a Matlab window in your own computer (the university provides free downloads), and just write the relevant code into Matlab.  \n",
    "\n",
    "A more sophisticated approach would involve downloading file and running it on your own machine. At the top right of each page is a download button.  If you download the `.ipynb` format, it is possible to run these on your own machine.  You will need to install something that runs ''Jupyter Notebooks'' (I use the program *VS Code*).  You will also need to install Matlab (the university provides free downloads), and then do some additional work to get the program running the Jupyter Notebook to work with Matlab.  Look for instructions to run a \"Jupyter Notebook\" with a Matlab kernel.  If you use VS Code on a windows machine you should be able to follow the [instructions here](https://github.com/mathworks/MATLAB-extension-for-vscode/).  If you use VS Code on Windows I should be able to help, but I cannot promise that I have time to provide tech support.  If you use another approach, I may or may not be able to help.\n",
    "\n",
    "Once everything is working on your machine, when you run a block of code, you will see figures appear in the same document.  However, it will also bring up the figure in a separate window.  That window will give you the ability to interact with the plot, for example rotating a three-dimensional figure.\n"
   ]
  }
 ],
 "metadata": {
  "kernelspec": {
   "display_name": "Octave (xeus)",
   "name": "xoctave"
  },
  "language_info": {
   "name": "python"
  }
 },
 "nbformat": 4,
 "nbformat_minor": 5
}
