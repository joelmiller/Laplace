{
 "cells": [
  {
   "cell_type": "markdown",
   "id": "fb76c7a7",
   "metadata": {},
   "source": [
    "# Computer Labs\n",
    "\n",
    "This chapter contains the computer labs for the subject.  We will work through these computer labs in Cocalc.  You will receive instructions how to access cocalc at the start of the semester.\n",
    "\n",
    "The labs in this document are taken directly from the 2025 cocalc labs.  This means that there are occassional places where the formatting is mangled because the Cocalc interface interprets mathematics formatting slightly differently from the interface used here.  \n",
    "\n",
    "If you want to work through these labs, you can do that.  At the top right of each page is a download button.  If you download the .ipynb format, it is possible to run these on your own machine.  You will need to install something that runs ''Jupyter Notebooks'' (I use the program VS Code).  You will also need to install Matlab, and then do some additional work to get the program running the Jupyter Notebook to work with Matlab. Look for instructions to run a \"Jupyter Notebook\" with a Matlab kernel.  I use VS Code on a windows machine and I've followed [instructions here](https://github.com/mathworks/MATLAB-extension-for-vscode/).\n",
    "\n",
    "Once everything is working on your machine, when you run a block of code, you will see figures appear in the same document.  However, it will also bring up the figure in a separate window.  That window will give you the ability to interact with the plot, for example rotating a three-dimensional figure.\n"
   ]
  }
 ],
 "metadata": {
  "language_info": {
   "name": "python"
  },
  "kernelspec": {
   "name": "xoctave",
   "display_name": "Octave (xeus)"
  }
 },
 "nbformat": 4,
 "nbformat_minor": 5
}