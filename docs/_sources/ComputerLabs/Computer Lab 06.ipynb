{
 "cells": [
  {
   "cell_type": "markdown",
   "id": "509cf4",
   "metadata": {
    "collapsed": false
   },
   "source": [
    "# The Gradient in non-Cartesian Coordinates\n",
    "\n",
    "In this lab we will explore the gradient vector in non-Cartesian coordinate systems.\n",
    "\n",
    "To review, in Cartesian Coordinates, the gradient vector of a function $f(x,y,z)$ is \n",
    "\n",
    "$$\n",
    "\\nabla f(x,y,z) = \\frac{\\partial f}{\\partial x} \\vec{i} + \\frac{\\partial f}{\\partial y} \\vec{j} + \\frac{\\partial f}{\\partial z} \\vec{k}\n",
    "$$\n",
    "This is a vector field: each point has an associated vector.\n",
    "\n",
    "The gradient vector has some **incredibly important geometric properties**:\n",
    "- Given the point $(x,y,z)$, and a unit vector $\\vec{u} = u_1 \\vec{i} + u_2 \\vec{j} + u_3 \\vec{k}$, the rate of change of $f$ in the direction of $\\vec{u}$  (that is, the 'directional derivative')  is $\\nabla f \\cdot \\vec{u}$.\n",
    "- At a given point $(x,y,z)$, $\\nabla f$ points in the direction in which $f$ increases most rapidly.\n",
    "- The rate of change of $f$ in the direction of $\\nabla f$ is $\\|\\nabla f\\|$.\n",
    "- The contours (or level sets) are perpendicular to the gradient vector $\\nabla f$.\n",
    "\n",
    "The last 3 points follow from the first one through various mathematical arguments.\n",
    "\n",
    "Let's illustrate the first bullet in the two dimensional case \n",
    "\n",
    "$$\n",
    "f(x,y) = y(1-(x^2+y^2))\n",
    "$$\n",
    "\n",
    "\n",
    "First, though, we'll plot contours of $f$ and we'll plot $\\nabla f= -2xy\\vec{i} +  (1-x^2-3y^2) \\vec{j}$.\n"
   ]
  },
  {
   "cell_type": "code",
   "execution_count": 0,
   "id": "1dd5f7",
   "metadata": {
    "collapsed": false
   },
   "outputs": [],
   "source": [
    "x = [-1:0.1:1];\n",
    "y = [-1:0.1:1];\n",
    "\n",
    "[X,Y] = meshgrid(x,y);\n",
    "\n",
    "F = Y.*(1-(X.^2+Y.^2));\n",
    "\n",
    "contour(X,Y,F, 30)\n",
    "colorbar\n",
    "hold on\n",
    "\n",
    "daspect([1,1])\n",
    "xlabel('x')\n",
    "ylabel('y')\n",
    "title('f(x,y) = y(1-(x^2+y^2))')\n",
    "\n",
    "dfdx = -2*X.*Y;\n",
    "dfdy = 1-X.^2 -3*Y.^2;\n",
    "\n",
    "quiver(X,Y,dfdx,dfdy, 'r');  %plotting the gradient of f."
   ]
  },
  {
   "cell_type": "markdown",
   "id": "440378",
   "metadata": {
    "collapsed": false
   },
   "source": [
    "Now let's look at a point $(x_0,y_0)$. \n",
    "\n",
    "\n",
    "If we take the point $(x_1,y_1)=(x_0,y_0) + s \\vec{u}$ for a unit vector $\\vec{u}$ and a small quantity $s$, the claim is that the rate of change of $f$ in the direction $\\vec{u}$ is $\\nabla f(x_0,y_0) \\cdot \\vec{u}$.  So we would predict that the function at this new point is approximately $f(x_0,y_0)$ $+$ $s$ $\\times$ (the rate of change in the $\\vec{u}$ direction, aka the 'directional derivative').  That is\n",
    "\n",
    "\\begin{align*}\n",
    "f(x_1,y_1)  & \\approx f(x_0,y_0) + s \\nabla f(x_0,y_0) \\cdot \\vec{u}\\\\\n",
    "\\implies f(x_1,y_1)-f(x_0,y_0) &\\approx s \\nabla f(x_0,y_0) \\cdot \\vec{u}\n",
    "\\end{align*}\n",
    "Let's try this out.  We'll take the function and verify that this relation holds for a given point and vector.\n",
    "\n"
   ]
  },
  {
   "cell_type": "code",
   "execution_count": 0,
   "id": "a750f7",
   "metadata": {
    "collapsed": false
   },
   "outputs": [],
   "source": [
    "x0 = 0.5\n",
    "y0 = 0.5\n",
    "\n",
    "\n",
    "v=[4,3];   %vector defining a direction\n",
    "u = v/norm(v)  %unit vector in same direction as v\n",
    "\n",
    "s = 0.01\n",
    "\n",
    "\n",
    "\n",
    "\n",
    "\n",
    "\n",
    "\n",
    "f0 = y0*(1-(x0^2+y0^2));\n",
    "\n",
    "x1 = x0+s*u(1);\n",
    "y1 = y0+s*u(2);\n",
    "\n",
    "\n",
    "f1 = y1*(1-(x1^2+y1^2));\n",
    "\n",
    "gradient = [-2*x0*y0,1-x0^2-3*y0^2];\n",
    "directional_derivative = dot(gradient, u);\n",
    "\n",
    "\n",
    "\n",
    "disp('the true change f(x_0+su_1, y_0+su_2) is')\n",
    "f1-f0\n",
    "disp('The approximate change:  s times (gradient dot u)    is')\n",
    "s* directional_derivative"
   ]
  },
  {
   "cell_type": "markdown",
   "id": "6c2ed5",
   "metadata": {
    "collapsed": false
   },
   "source": [
    "## Self test\n",
    "Please rerun the code cell above with different points $(x_0,y_0)$, different (small) values $s$, and different vectors $\\vec{v}$ (it will calculate the unit vector $\\vec{u} = \\vec{v}/\\|\\vec{v}\\|$ automatically).  \n",
    "\n",
    "Verify that $s \\nabla f \\cdot \\vec{u}$ is approximately the change in $f$ due to changing $(x,y)$ by the amount $s \\vec{u}$.  \n",
    "\n",
    "You should see that as $s$ shrinks, the change in $f$ is proportional to $s$ (both in the true value and in the approximation).  If you look closely, you'l see that the difference between the true change and the approximation is proportional to $s^2$.\n",
    "\n",
    "\n",
    "To interpret $s \\nabla f \\cdot \\vec{u}$, we can rewrite it:\n",
    "\n",
    "$$\n",
    "s \\nabla f \\cdot \\vec{u} = (su_1) \\frac{\\partial f}{\\partial x} + (su_2) \\frac{\\partial f}{\\partial y}\n",
    "$$\n",
    "Recall that $\\frac{\\partial f}{\\partial x}$ is the rate of change of $f$ with respect to changes in $x$.  If we change $x$ by $su_1$, then as long as it is small, the change in $f$ purely due to the change in $x$ is $su_1 \\frac{\\partial f}{\\partial x}$.  Similarly, the change due purely to the change in $y$ is $su_2 \\frac{\\partial f}{\\partial y}$.  Adding these together gives the combined change.  There are other terms to consider, but they are all proportional to $s^2$ or higher powers of $s$.  So as long as $s$ is very small, these can be ignored relative to $s \\nabla f \\cdot \\vec{u}$.\n",
    "\n"
   ]
  },
  {
   "cell_type": "markdown",
   "id": "fdfe4d",
   "metadata": {
    "collapsed": false
   },
   "source": [
    "## Polar Coordinates\n",
    "\n",
    "In Cartesian coordinates above, we have shown that the gradient vector is perpendicular to contour lines and $\\nabla f \\cdot \\vec{u}$ captures the rate of change of $f$ in the direction $\\vec{u}$.\n",
    "\n",
    "Now let's look at $f$ in Polar coordinates.\n",
    "\n",
    "We have $r = \\sqrt{x^2 + y^2}$ and $y = r\\sin(\\theta)$, so $y(1 - (x^2 + y^2)) $ is \n",
    "\n",
    "\\begin{align*}\n",
    "f_{Pol}(r,\\theta) &= r \\sin(\\theta) (1- r^2)\\\\\n",
    "&= \\sin(\\theta)(r-r^3)\n",
    "\\end{align*}\n",
    "Let's plot contours, using Polar Coordinates.  \n"
   ]
  },
  {
   "cell_type": "code",
   "execution_count": 0,
   "id": "40ae86",
   "metadata": {
    "collapsed": false
   },
   "outputs": [],
   "source": [
    "r = [0:0.05:1.5];\n",
    "theta = [0:pi/20:2*pi];\n",
    "\n",
    "[R,Theta] = meshgrid(r,theta);\n",
    "\n",
    "F = sin(Theta) .*(R- R.^3);\n",
    "\n",
    "contour(R.*cos(Theta), R.*sin(Theta), F)\n",
    "\n",
    "xlim([-1,1])\n",
    "ylim([-1,1])\n",
    "daspect([1,1])\n",
    "colorbar"
   ]
  },
  {
   "cell_type": "markdown",
   "id": "29c8a4",
   "metadata": {
    "collapsed": false
   },
   "source": [
    "So if we define $f_{\\text{Pol}}(r,\\theta)$ using Polar coordinates, we get the same plot.  \n",
    "\n",
    "We would like to add the gradient vector calculated in Polar coordinates.\n",
    "\n",
    "In Polar coordinates the vectors that are used in place of $\\vec{i}$ and $\\vec{j}$ are:\n",
    "- the unit vector that points in the $r$ direction is $\\vec{e}_r = \\cos(\\theta) \\vec{i} + \\sin(\\theta) \\vec{j}$.\n",
    "- the unit vector that points in the $\\theta$ direction is $\\vec{e}_\\theta = -\\sin(\\theta)\\vec{i} + \\cos(\\theta) \\vec{j}$.\n",
    "\n",
    "For reference, let's plot some of these unit vectors at different points in the plane"
   ]
  },
  {
   "cell_type": "code",
   "execution_count": 0,
   "id": "d2384b",
   "metadata": {
    "collapsed": false
   },
   "outputs": [],
   "source": [
    "r = [0.5:1.5:5];\n",
    "theta = [0:pi/3:2*pi];\n",
    "\n",
    "[R, Theta] = meshgrid(r,theta);\n",
    "\n",
    "X=R.*cos(Theta);\n",
    "Y = R.*sin(Theta);\n",
    "quiver(X,Y, cos(Theta), sin(Theta), 'b', 'AutoScale', 'off', 'DisplayName', 'e_r')\n",
    "hold on\n",
    "\n",
    "quiver(X,Y, -sin(Theta), cos(Theta), 'r', 'AutoScale', 'off', 'DisplayName', 'e_{theta}')\n",
    "\n",
    "legend()\n",
    "\n",
    "daspect([1,1])  "
   ]
  },
  {
   "cell_type": "markdown",
   "id": "8d1cc7",
   "metadata": {
    "collapsed": false
   },
   "source": [
    "### A wrong attempt\n",
    "\n",
    "It is tempting to try \n",
    "\n",
    "$$\\nabla f_{\\text{Pol}}(r,\\theta) = \\frac{\\partial f_{\\text{Pol}}}{\\partial r} \\vec{e}_r + \\frac{\\partial f_{\\text{Pol}}}{\\partial \\theta} \\vec{e}_\\theta$$\n",
    "\n",
    "This is wrong.  Let's see what it gives.  Recall $f(r,\\theta) = \\sin(\\theta)(r-r^3)$\n",
    "\n",
    "\\begin{align*}\n",
    "\\frac{\\partial f_{\\text{Pol}}}{\\partial r} &= \\sin(\\theta)(1- 3r^2)\\\\\n",
    "\\frac{\\partial f_{\\text{Pol}}}{\\partial \\theta} &= \\cos(\\theta)(r-r^3)\n",
    "\\end{align*}\n",
    "\n",
    "So we are going to try to plot\n",
    "\n",
    "$$\n",
    "\\vec{V}(r,\\theta) = \\frac{\\partial f_{\\text{Pol}}}{\\partial r} \\vec{e}_r + \\frac{\\partial f_{\\text{Pol}}}{\\partial \\theta} \\vec{e}_\\theta\n",
    "$$\n",
    "Matlab will need these in terms of the $\\vec{i}$ and $\\vec{j}$ components.  So using\n",
    "\n",
    "\\begin{align*}\n",
    "\\vec{e}_r &= \\cos(\\theta) \\vec{i} + \\sin(\\theta) \\vec{j}\\\\\n",
    "\\vec{e}_\\theta &= -\\sin(\\theta)\\vec{i} + \\cos(\\theta) \\vec{j}\n",
    "\\end{align*}\n",
    "we substitute and group by $\\vec{i}$ and $\\vec{j}$:\n",
    "\\begin{align*}\n",
    "\\vec{V}(r,\\theta) &=  \\left(\\frac{\\partial f_{\\text{Pol}}}{\\partial r} \\cos(\\theta) - \\frac{\\partial f_{\\text{Pol}}}{\\partial \\theta} \\sin(\\theta) \\right) \\vec{i} \\\\\n",
    "                            &\\qquad + \\left(\\frac{\\partial f_{\\text{Pol}}}{\\partial r} \\sin(\\theta)  +\\frac{\\partial f_{\\text{Pol}}}{\\partial \\theta} \\cos(\\theta) \\right)\\vec{j}\n",
    "\\end{align*}\n"
   ]
  },
  {
   "cell_type": "code",
   "execution_count": 0,
   "id": "fadb59",
   "metadata": {
    "collapsed": false
   },
   "outputs": [],
   "source": [
    "r = [0.05:0.1:1.5];\n",
    "theta = [0:pi/10:2*pi];\n",
    "\n",
    "[R,Theta] = meshgrid(r,theta);\n",
    "\n",
    "F = sin(Theta) .*(R- R.^3);  %using polar coordinates\n",
    "\n",
    "\n",
    "X = R.*cos(Theta);\n",
    "Y = R.*sin(Theta);\n",
    "\n",
    "contour(X, Y, F, 30)\n",
    "hold on\n",
    "\n",
    "F_r = sin(Theta).*(1-3*R.^2);  % dF/dr\n",
    "F_theta = cos(Theta).*(R-R.^3); % dF/dtheta\n",
    "\n",
    "\n",
    "V_i = F_r.*cos(Theta) - F_theta.*sin(Theta);\n",
    "V_j = F_r.*sin(Theta) + F_theta.*cos(Theta);\n",
    "\n",
    "\n",
    "\n",
    "\n",
    "% if you want to understand what these next commands really do,\n",
    "% comment the xlim and ylim commands farther below.  \n",
    "% Then rerun with and without the next two lines included.\n",
    "% \n",
    "V_i = V_i.*(abs(X)<1).*(abs(Y)<1);  %this is a trick to get the vectors outside of the plotted region to be 0\n",
    "V_j = V_j.*(abs(X)<1).*(abs(Y)<1);  %otherwise the plot tries to scale the displayed vectors based on their length.\n",
    "\n",
    "quiver(X,Y, V_i, V_j)\n",
    "\n",
    "\n",
    "xlim([-1,1])\n",
    "ylim([-1,1])\n",
    "daspect([1,1])\n",
    "colorbar"
   ]
  },
  {
   "cell_type": "markdown",
   "id": "59a7ed",
   "metadata": {
    "collapsed": false
   },
   "source": [
    "If the gradient vector is going to have the same geometric properties in Polar coordinates as it does in Cartesian coordinates, the Polar and Cartesian vectors have to match at every point on the plane.  \n",
    "\n",
    "\n",
    "These are not the same gradient vectors we found in Cartesian coordinates.  It is most obvious that at small values of $r$, these vectors are not perpendicular to the contours.\n",
    "\n",
    "These geometric properties are the things that make the gradient vector useful.  So we have to sacrifice the simplicity of having a formula that looks the same in favor of preserving the geometric properties.\n",
    "\n",
    "The fundamental thing that has happened to break the geometric properties is that a step of a given (physical/geometric) distance in the $\\theta$ direction corresponds to a different change in $\\theta$ close to the origin versus far away.  To illustrate this you can stand, hold both arms straight out, place your left hand on a pole, and walk around it in a circle.  Your entire body is changing $\\theta$ at the same rate, but your right hand is moving much faster than your left wrist.  The speed is proportional to the distance from the center of the circle.  https://www.reddit.com/r/vinyl/comments/2bcrqs/calvin_and_hobbes_taught_me_how_record_players/\n",
    "\n",
    "The change in $f$ due to the change in $\\theta$ is given by \n",
    "\n",
    "$$\n",
    "\\text{Change in } f \\text{ due to change in } \\theta = (\\text{change in }\\theta) \\times  \\partial f/\\partial \\theta\n",
    "$$\n",
    "\n",
    "However for a step of small distance $s$ in the $\\vec{e}_\\theta$ direction, the change in $\\theta$ is $s/r$.  So the change in $f$ due to this step is \n",
    "\n",
    "$$\n",
    "\\text{Change in } f \\text{ due to distance } s \\text{ in } \\vec{e}_\\theta \\text{ direction}  = \n",
    "\\frac{s}{r} \\partial f/\\partial \\theta\n",
    "$$\n",
    "\n",
    "So in order for $s\\nabla f \\cdot \\vec{u}$ to correctly account for this $1/r$ factor, we need to scale $\\partial f/\\partial \\theta$ by $1/r$."
   ]
  },
  {
   "cell_type": "markdown",
   "id": "0f9156",
   "metadata": {
    "collapsed": false
   },
   "source": [
    "### The correct gradient in Polar coordinates\n",
    "\n",
    "Instead we need to scale $ \\partial f_{\\text{Pol}}/\\partial \\theta$ appropriately.  It turns out that\n",
    "\n",
    "$$\n",
    "\\nabla f_{\\text{Pol}}(r,\\theta) = \\frac{\\partial f_{\\text{Pol}}}{\\partial r} \\vec{e}_r + \\frac{1}{r} \\frac{\\partial f_{\\text{Pol}}}{\\partial \\theta} \\vec{e}_\\theta\n",
    "$$\n",
    "Plugging this in, we get the appropriate picture."
   ]
  },
  {
   "cell_type": "code",
   "execution_count": 0,
   "id": "6c0db8",
   "metadata": {
    "collapsed": false
   },
   "outputs": [],
   "source": [
    "r = [0.05:0.1:1.5];\n",
    "theta = [0:pi/10:2*pi];\n",
    "\n",
    "[R,Theta] = meshgrid(r,theta);\n",
    "\n",
    "F = sin(Theta) .*(R- R.^3);  %using polar coordinates\n",
    "\n",
    "\n",
    "X=R.*cos(Theta);\n",
    "Y = R.*sin(Theta);\n",
    "contour(X, Y, F, 30)\n",
    "hold on\n",
    "\n",
    "F_r = sin(Theta).*(1-3*R.^2);  % dF/dr\n",
    "F_theta = cos(Theta).*(R-R.^3); % dF/dtheta\n",
    "\n",
    "\n",
    "\n",
    "V_i = F_r.*cos(Theta) - F_theta.*sin(Theta)./R;\n",
    "V_j = F_r.*sin(Theta) + F_theta.*cos(Theta)./R;\n",
    "\n",
    "\n",
    "V_i = V_i.*(abs(X)<1).*(abs(Y)<1);  %this is a trick to get the vectors outside of the plotted region to be 0\n",
    "V_j = V_j.*(abs(X)<1).*(abs(Y)<1);  %otherwise the plot tries to scale the displayed vectors based on their length.\n",
    "\n",
    "quiver(X,Y, V_i, V_j)\n",
    "\n",
    "xlim([-1,1])\n",
    "ylim([-1,1])\n",
    "daspect([1,1])\n",
    "colorbar"
   ]
  },
  {
   "cell_type": "markdown",
   "id": "defac8",
   "metadata": {
    "collapsed": false
   },
   "source": [
    "These vectors do match the gradient vectors found for the Polar coordinates.  (their physical locations are changed since these are laid out on a polar coordinate grid, but at a given point in the plane, the vectors have the same magnitude and direction)\n",
    "\n",
    "The lesson from this is that in non-Cartesian coordinates, we need to include scaling factors to account for the fact that the physical distance a point moves and the corresponding change in a coordinate's value can be different at different points.  Specifically, this occurs when the coordinate lines are curved.\n",
    "\n",
    "This is why we have to use specific formulae for doing the gradient in Polar, Cylindrical, or Spherical coordinates.  Don't use the 'naive' formula, look it up."
   ]
  },
  {
   "cell_type": "code",
   "execution_count": 0,
   "id": "0ab858",
   "metadata": {
    "collapsed": false
   },
   "outputs": [],
   "source": []
  }
 ],
 "metadata": {
  "kernelspec": {
   "argv": [
    "python3",
    "-E",
    "-m",
    "octave_kernel",
    "-f",
    "{connection_file}"
   ],
   "display_name": "Octave (xeus)",
   "env": {},
   "language": "octave",
   "metadata": {
    "cocalc": {
     "description": "A programming language for scientific computing.",
     "priority": 10,
     "url": "https://octave.org/"
    }
   },
   "name": "xoctave",
   "resource_dir": "/ext/jupyter/kernels/octave-8.2"
  },
  "language_info": {
   "file_extension": ".m",
   "help_links": [
    {
     "text": "GNU Octave",
     "url": "https://www.gnu.org/software/octave/support.html"
    },
    {
     "text": "Octave Kernel",
     "url": "https://github.com/Calysto/octave_kernel"
    },
    {
     "text": "MetaKernel Magics",
     "url": "https://metakernel.readthedocs.io/en/latest/source/README.html"
    }
   ],
   "mimetype": "text/x-octave",
   "name": "octave",
   "version": "8.2.0"
  }
 },
 "nbformat": 4,
 "nbformat_minor": 4
}