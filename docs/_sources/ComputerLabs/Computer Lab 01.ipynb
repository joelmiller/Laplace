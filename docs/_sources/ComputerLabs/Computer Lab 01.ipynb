{
 "cells": [
  {
   "cell_type": "markdown",
   "id": "78d0aa",
   "metadata": {
    "collapsed": false
   },
   "source": [
    "# MAT2VCA Computer Lab 1 - basics of Matlab/Octave\n",
    "\n",
    "## Introduction\n",
    "\n",
    "In this Computer Lab we are going to learn some basics of the use of Matlab.\n",
    "\n"
   ]
  },
  {
   "cell_type": "markdown",
   "metadata": {},
   "source": [
    "\n",
    "### Cocalc\n",
    "\n",
    "We will use Cocalc for our computer labs, and for some of our assignment questions. Cocalc runs on a remote server. You will need an internet connection to use it.\n",
    "\n",
    "The format with CoCalc allows us to create a lab which includes a mixture of text and Matlab code. Each student will have their own individual version of the lab which they can modify. The instructor can view the modifications you make.  \n",
    "\n",
    "Please note that the number of licenses we have is a bit limited, so not everyone in the subject can use this at the same time \\(or rather, it may run very slow for a few people\\).  I've assumed that not many people will use this outside of their assigned lab period.  If you see messages about not having enough licenses and you aren't attending a lab, please log off.  However, this should only occur if you happen to log on while one of the larger classes is in session.\n",
    "\n",
    "### Matlab and Octave\n",
    "\n",
    "Matlab is a common programming language for sciences, particularly for Engineering (However, languages such as Python are become more prevalent, especially for machine learning applications). We will develop Matlab code in our labs. Technically, what we are using is Octave, which is a free program that is indistinguishable from Matlab for our purposes and runs on the Cocalc server.\n",
    "\n",
    "The one downside is that plotting with Octave on this interface is clunky.  Using Matlab directly on the computer you are using is more interactive.  If you find yourself wanting to have more interaction with the plots, you can copy your code into matlab and run it.  Be aware that the University has Matlab licenses available to students.  I would encourage you to install it on your own machines if it would be useful for your other subjects, or if you want to have plots that you can zoom in on, rotate, etc.\n",
    "\n",
    "Each time you start running a session, your first command will take a bit longer, so be patient. If you ever want to clear the memory of all the calculations you've done and start over, click on 'Kernel' in the menu above and select 'Restart Kernel'. All calculations will be forgotten and you'll need to start at the beginning if you want anything you've calculated before to be remembered. This may also happen if you leave the session idle for too long.  The order you run the commands below will matter, and Octave will store in its memory whatever you have run.  If you run some commands and the bottom and scroll up and run some new commands, its memory will have whatever came out of the last calculation.  If a variable doesn't seem to have the value you expect, you may need to consider whether you've run a command that changed its value.\n",
    "\n",
    "## Goals\n",
    "\n",
    "In this lab, we expect you to learn or refresh your memory of\n",
    "\n",
    "- How to interact with CoCalc\n",
    "- how to define a variable in Matlab\n",
    "- How to define and modify a simple array\n",
    "- How to plot arrays, including 2-Dimensional arrays\n",
    "- Basic use of for loops\n",
    "\n",
    "When you run each of the code cells below, you are expected to read the commands and understand what is happening.  Do not simply run them and move on.\n"
   ]
  },
  {
   "cell_type": "markdown",
   "id": "8f87be",
   "metadata": {
    "collapsed": false
   },
   "source": [
    "## <u>Defining a variable</u>\n",
    "\n",
    "In Matlab, a *variable* is basically a name that we assign a value to.\n",
    "\n",
    "In the cell below, the variable `x` is assigned to be `3`.  Click in the cell and press shift\\-enter \\(that is, hold down the 'shift' key and press 'enter'\\) to 'run' the cell.  \n",
    "\n"
   ]
  },
  {
   "cell_type": "code",
   "execution_count": 0,
   "id": "a94bd0",
   "metadata": {
    "collapsed": false,
    "vscode": {
     "languageId": "octave"
    }
   },
   "outputs": [],
   "source": [
    "x=3   %this line defines the variable x to be 3.  \n",
    "\n",
    "      %if this is the first command you are running, be patient, it needs to start up before it does the calculation.\n",
    "\n",
    "\n",
    "      %\n",
    "      %Also note that anything that appears after a percent sign is ignored by matlab.\n",
    "      %These things after the percent sign are 'comments' intended to remind us understand what our code is doing.\n",
    "      %When you write code, please use comments explaining why you're doing what you're doing.  We all think we'll remember \n",
    "      %what we were doing when we come back at look at something we did a week later.  We are wrong.  And if you're working with\n",
    "      %a partner on a project it will save a lot of time if you use comments.\n",
    "      %\n",
    "      %If at all in doubt of whether to add a comment or not, the answer is add it."
   ]
  },
  {
   "cell_type": "markdown",
   "id": "ff9997",
   "metadata": {
    "collapsed": false
   },
   "source": [
    "Now whenever you refer to `x` it will have the value 3.  Run the next cell by clicking in it and pressing 'shift\\-enter' again --- as you work through the lab, please run each code cell.\n",
    "\n"
   ]
  },
  {
   "cell_type": "code",
   "execution_count": 0,
   "id": "68127e",
   "metadata": {
    "collapsed": false,
    "vscode": {
     "languageId": "octave"
    }
   },
   "outputs": [],
   "source": [
    "x+x      %this will print out x+x\n",
    "6*x-3    %this prints 6*x-3\n",
    "y=x^2    %This assigns the value of x^2 to the variable y."
   ]
  },
  {
   "cell_type": "markdown",
   "id": "9ffcb2",
   "metadata": {
    "collapsed": false
   },
   "source": [
    "That last cell did several calculations with `x=3` and printed out their output.  Then it assigned the value of `x^2` to `y`. \n",
    "\n",
    "We'll check that `y` is now 9.\n",
    "\n"
   ]
  },
  {
   "cell_type": "code",
   "execution_count": 0,
   "id": "8e8e56",
   "metadata": {
    "collapsed": false,
    "vscode": {
     "languageId": "octave"
    }
   },
   "outputs": [],
   "source": [
    "y     %display the current value of y"
   ]
  },
  {
   "cell_type": "markdown",
   "id": "9e6a3e",
   "metadata": {
    "collapsed": false
   },
   "source": [
    "Now we'll change the value of `x`\n"
   ]
  },
  {
   "cell_type": "code",
   "execution_count": 0,
   "id": "58cb4f",
   "metadata": {
    "collapsed": false,
    "vscode": {
     "languageId": "octave"
    }
   },
   "outputs": [],
   "source": [
    "x=-2   %x used to have a different value.  That value is completely forgotten now and replaced."
   ]
  },
  {
   "cell_type": "markdown",
   "id": "5545e5",
   "metadata": {
    "collapsed": false
   },
   "source": [
    "So the value of `x` is now \\-2.  What do you think `y` is now?  It was defined by `y=x^2` up above, back when `x` was 3.  Do you think Matlab remembers that`y=x^2` and will recalculate it using the new value `x=-2` or do you think it stored the numerical value back when `y` was defined and it won't change now even though`x` has changed?\n",
    "\n",
    "Try it.  type `y` into the cell below and run the cell.\n",
    "\n"
   ]
  },
  {
   "cell_type": "code",
   "execution_count": 0,
   "id": "5d280e",
   "metadata": {
    "collapsed": false,
    "vscode": {
     "languageId": "octave"
    }
   },
   "outputs": [],
   "source": []
  },
  {
   "cell_type": "markdown",
   "id": "986ca0",
   "metadata": {
    "collapsed": false
   },
   "source": [
    "What do you think the result of `x=x^2` would be?  Try it and check.\n",
    "\n"
   ]
  },
  {
   "cell_type": "code",
   "execution_count": 0,
   "id": "64c6d4",
   "metadata": {
    "collapsed": false,
    "vscode": {
     "languageId": "octave"
    }
   },
   "outputs": [],
   "source": []
  },
  {
   "cell_type": "markdown",
   "id": "51516f",
   "metadata": {
    "collapsed": false
   },
   "source": [
    "In Matlab, the right hand side of an equation is evaluated based on the current values of the variables, and the result is assigned to whatever variable name is on the left hand side. So something that appears to be an equation in programming is not the same thing as an equation in mathematics.  If you were given $x=x^2$ in a mathematics class, you would be expected to figure out that $x$ is $0$ or $1$.  In programming, it simply assigns a new value of `x` to be whatever the result of `x^2` is using the previous value of `x`.\n",
    "\n",
    "Please remember that an equals sign in programming does not have the same meaning as an equals sign in mathematical writing.  In mathematical writing, an equals sign is only used if the two things on either side are identical.  In programming it assigns a new value to the left hand side variable.\n",
    "\n"
   ]
  },
  {
   "cell_type": "markdown",
   "id": "d8e938",
   "metadata": {
    "collapsed": false
   },
   "source": [
    "### Self test\n",
    "\n",
    "In the cell below create a variable named `myID` which is equal to your student ID number.  Then create a variable named `squaredID` which is equal to `myID^2`.  Find the value of `myID^3-squaredID*myID`.  Does the result make sense?\n",
    "\n"
   ]
  },
  {
   "cell_type": "code",
   "execution_count": 0,
   "id": "2c5cb3",
   "metadata": {
    "collapsed": false,
    "vscode": {
     "languageId": "octave"
    }
   },
   "outputs": [],
   "source": []
  },
  {
   "cell_type": "markdown",
   "id": "af9a9f",
   "metadata": {
    "collapsed": false
   },
   "source": [
    "## <u>Arrays</u>\n",
    "\n",
    "An 'array' is basically an ordered list of numbers.  It can be thought of as a matrix with just one row, or as a vector.  The cell below sets `x` to be an 'array' made up of 8 numbers, which are \\(almost\\) the first few values of the Fibonacci Sequence, except that the first value is wrong \\(it should be 0\\), and the last value is wrong \\(it should be 13\\) \n",
    "\n"
   ]
  },
  {
   "cell_type": "code",
   "execution_count": 0,
   "id": "bd7a19",
   "metadata": {
    "collapsed": false,
    "vscode": {
     "languageId": "octave"
    }
   },
   "outputs": [],
   "source": [
    "x=[13,1,1,2,3,5,8,0] %this defines a new variable 'x' which is an array.  It looks like the first few entries of the Fibonacci sequence, but not quite\n"
   ]
  },
  {
   "cell_type": "markdown",
   "id": "472c30",
   "metadata": {
    "collapsed": false
   },
   "source": [
    "\n",
    "\n",
    "If you program in other languages, you may notice that Matlab starts its indexing by 1, not 0.\n"
   ]
  },
  {
   "cell_type": "code",
   "execution_count": null,
   "metadata": {
    "vscode": {
     "languageId": "octave"
    }
   },
   "outputs": [],
   "source": [
    "x(1)   %this prints the first entry of the array x.  \n"
   ]
  },
  {
   "cell_type": "markdown",
   "metadata": {},
   "source": [
    "We can change specific entries of `x` .  In this case we're going to make it match the first few values of the Fibonacci sequence [0, 1, 1, 2, 3, 5, 8, 13, ...]"
   ]
  },
  {
   "cell_type": "code",
   "execution_count": 0,
   "id": "751f26",
   "metadata": {
    "collapsed": false,
    "vscode": {
     "languageId": "octave"
    }
   },
   "outputs": [],
   "source": [
    "x(1)=0    %we're fixing x so that it is the first few numbers of the Fibonacci sequence.\n",
    "x(8)=13"
   ]
  },
  {
   "cell_type": "markdown",
   "id": "348ed1",
   "metadata": {
    "collapsed": false
   },
   "source": [
    "If we think about `x=[0,1,1,2,3,5,8,13]` as a matrix with one row, then the transpose of `x` is a matrix with one column.  what do you think you get from \n",
    "\n",
    "- `x*x`\n",
    "- `x*transpose(x)`\n",
    "- `transpose(x)*x` \n",
    "\n",
    "Try them in the cell below.\n",
    "\n"
   ]
  },
  {
   "cell_type": "code",
   "execution_count": 0,
   "id": "401998",
   "metadata": {
    "collapsed": false,
    "vscode": {
     "languageId": "octave"
    }
   },
   "outputs": [],
   "source": [
    "x*x\n",
    "x*transpose(x)\n",
    "transpose(x)*x"
   ]
  },
  {
   "cell_type": "markdown",
   "id": "df47ed",
   "metadata": {
    "collapsed": false
   },
   "source": [
    "It is treating the calculations above as matrix multiplication.  Notice that with matrix multiplication, the result of a row times a row is undefined, so you get an error message.  A row times a column is a 1x1 matrix whose entry is the dot product of that row and column.  In this case, the column times the row gets an 8x8 matrix.\n",
    "\n",
    "There is another way we can think about multiplying `x` times itself that we will use more often.  That is, to create a new array whose `i`th entry is the square of the corresponding `i`th entry of `x`.  This is done by using a dot before the multiplication symbol \\(so `x.*x` \\).  It can also be done using the 'caret' symbol `^` with a dot before it \\(`x.^2` \\).\n",
    "\n"
   ]
  },
  {
   "cell_type": "code",
   "execution_count": 0,
   "id": "cf2ff0",
   "metadata": {
    "collapsed": false,
    "vscode": {
     "languageId": "octave"
    }
   },
   "outputs": [],
   "source": [
    "x.*x   %one way to create an array whose entries are the square of the entries in x.\n",
    "\n",
    "x.^2   %another way."
   ]
  },
  {
   "cell_type": "markdown",
   "id": "0802a4",
   "metadata": {
    "collapsed": false
   },
   "source": [
    "Redo the cell above but without the `.` appearing.  This will give an error.  It is important that you learn what the error message is because you'll almost certainly make this mistake at some point and you want to be able to recognize the error message."
   ]
  },
  {
   "cell_type": "code",
   "execution_count": 0,
   "id": "506eb5",
   "metadata": {
    "collapsed": false,
    "vscode": {
     "languageId": "octave"
    }
   },
   "outputs": [],
   "source": []
  },
  {
   "cell_type": "markdown",
   "id": "6a16a5",
   "metadata": {
    "collapsed": false
   },
   "source": [
    "Often we may not know how many things are in the array, but we want to do something with the last element.  We can use `x(end)` for that.  \n",
    "\n"
   ]
  },
  {
   "cell_type": "code",
   "execution_count": 0,
   "id": "1d9919",
   "metadata": {
    "collapsed": false,
    "vscode": {
     "languageId": "octave"
    }
   },
   "outputs": [],
   "source": [
    "x         %printing out x for reference again\n",
    "\n",
    "x(end)    %printing the last value of x\n",
    "\n",
    "x(end-1)  %printing the next to last value of x."
   ]
  },
  {
   "cell_type": "markdown",
   "id": "291a49",
   "metadata": {
    "collapsed": false
   },
   "source": [
    "### Self Test\n",
    "\n",
    "- Define an array `myID` of single digit numbers where the digits are the digits from your student ID.\n",
    "- Create a new array`squaredID` whose entries are equal to the square of the entries in `myID.`\n",
    "- Change the second entry of `myID` to be 10.  Do you expect this to change `squaredID` or not?  Test it.\n",
    "- By using `myID(end)` change the final entry of `myID` to be \\-1.\n",
    "\n"
   ]
  },
  {
   "cell_type": "code",
   "execution_count": 0,
   "id": "672942",
   "metadata": {
    "collapsed": false,
    "vscode": {
     "languageId": "octave"
    }
   },
   "outputs": [],
   "source": []
  },
  {
   "cell_type": "markdown",
   "id": "aedd2d",
   "metadata": {
    "collapsed": false
   },
   "source": [
    "## <u>Plotting</u>\n",
    "\n",
    "Plotting functions is an essential skill of most quantitative fields.  \n",
    "\n",
    "A common way to plot functions in matlab is to use the command `plot` with two 'arguments'.  The first argument is a list of x\\-values and the second is a list \\(of the same number\\) of y\\-values.  \n",
    "\n"
   ]
  },
  {
   "cell_type": "markdown",
   "metadata": {},
   "source": [
    "### Preliminary steps\n",
    "\n",
    "To make images open in an interactive window, we use the following command.  (you will need to have matlab installed on the computer you are using and it will need to have the appropriate tools installed for jupyter notebook to use matlab).\n",
    "\n",
    "You will see a figure show up \"in line\" and in a separate window.  The separate window will be interactive.\n"
   ]
  },
  {
   "cell_type": "code",
   "execution_count": 1,
   "metadata": {
    "vscode": {
     "languageId": "octave"
    }
   },
   "outputs": [],
   "source": [
    "\n",
    "set(0,'DefaultFigureVisible','on');           % allow GUI windows"
   ]
  },
  {
   "cell_type": "code",
   "execution_count": 3,
   "id": "2c4bd5",
   "metadata": {
    "collapsed": false,
    "vscode": {
     "languageId": "octave"
    }
   },
   "outputs": [
    {
     "data": {
      "image/png": "[encoded data removed]"
     },
     "execution_count": 3,
     "metadata": {},
     "output_type": "execute_result"
    },
    {
     "data": {
      "text/html": [
       "<html><body><pre>y = 1x2 double\n",
       "     0     1\n",
       "</pre></body></html>"
      ],
      "text/plain": [
       "y = 1x2 double\n",
       "     0     1\n"
      ]
     },
     "execution_count": 3,
     "metadata": {},
     "output_type": "execute_result"
    }
   ],
   "source": [
    "f = figure('Visible','on');                   % force a GUI figure\n",
    "set(f,'Renderer','opengl');                   % interactive 3-D needs OpenGL\n",
    "\n",
    "\n",
    "y = x.^2\n",
    "plot(x,y)  %plots the values in y at the corresponding x location.  Then joins with straight lines.\n",
    "\n",
    "xlabel('x')  % Always label your axes\n",
    "ylabel('y')"
   ]
  },
  {
   "cell_type": "markdown",
   "id": "c33b77",
   "metadata": {
    "collapsed": false
   },
   "source": [
    "If we think of `x` as `[x1, x2, x3, ..., x8]` and `y` as `[y1, y2, y3, ..., y8]` what gets plotted above is a set of straight lines connecting the points `(x1,y1), (x2,y2), (x3,y3), ..., (x8,y8)`.  \n",
    "\n",
    "Sometimes we want to just plot the points.  In this case we give the plot command an additional argument.  Here we'll plot as squares using 's' for 'square'\n"
   ]
  },
  {
   "cell_type": "code",
   "execution_count": 0,
   "id": "d7f3c7",
   "metadata": {
    "collapsed": false,
    "vscode": {
     "languageId": "octave"
    }
   },
   "outputs": [],
   "source": [
    "plot(x,y, 's')"
   ]
  },
  {
   "cell_type": "markdown",
   "id": "7721f2",
   "metadata": {
    "collapsed": false
   },
   "source": [
    "There are ways to modify the plotting to use different line styles \\(dashed, dotted, thicker,...\\), different symbol shapes/sizes, and different colours.  A quick internet search will show you how these are done.\n",
    "\n"
   ]
  },
  {
   "cell_type": "markdown",
   "id": "661e4c",
   "metadata": {
    "collapsed": false
   },
   "source": [
    "There are many cases where we want an array made up of equally spaced numbers between two values.  This is especially common when we are plotting things.  The matlab command `[a:b:c]`  allows us to do this.  It takes 3 arguments: the minimum `a` , the step size between the entries `b`, and the maximum  `c`.  So for example, we can use \\`\\[0,1,6\\]\\` to mean an array that starts at 0, ends at 6, and steps by size 1 each time.\n"
   ]
  },
  {
   "cell_type": "code",
   "execution_count": 0,
   "id": "67c925",
   "metadata": {
    "collapsed": false,
    "vscode": {
     "languageId": "octave"
    }
   },
   "outputs": [],
   "source": [
    "x=[0:.5:6]"
   ]
  },
  {
   "cell_type": "markdown",
   "id": "7deebd",
   "metadata": {
    "collapsed": false
   },
   "source": [
    "If the middle value is not given, it is assumed to be 1.\n"
   ]
  },
  {
   "cell_type": "code",
   "execution_count": 0,
   "id": "db1879",
   "metadata": {
    "collapsed": false,
    "vscode": {
     "languageId": "octave"
    }
   },
   "outputs": [],
   "source": [
    "x = [0:6]"
   ]
  },
  {
   "cell_type": "markdown",
   "id": "28b273",
   "metadata": {
    "collapsed": false
   },
   "source": [
    "An equivalent way to generate lists of equal spacing is with `linspace`\n",
    "\n",
    "`linspace(start, stop, count)` produces an array whose first entry is `start` and last entry is `stop`, with a total of `count` values.\n",
    "\n",
    "The following is equivalent to ``[0:0.1:1]` "
   ]
  },
  {
   "cell_type": "code",
   "execution_count": 0,
   "id": "d13892",
   "metadata": {
    "collapsed": false,
    "vscode": {
     "languageId": "octave"
    }
   },
   "outputs": [],
   "source": [
    "[0:0.1:1]         %will print out [0:0.1:1].  This is equivalent to the next line\n",
    "linspace(0,1,11)  %make sure you understand why this is an 11, not a 10."
   ]
  },
  {
   "cell_type": "markdown",
   "id": "9a0baf",
   "metadata": {
    "collapsed": false
   },
   "source": [
    "When we plot using `x` for our $x$ coordinates, the points are spread out enough that the plot may not look smooth.  The command to plot is `plot(x_coordinate_array, y_coordinate_array)` where `x_coordinate_array` is an array of $x$ coordinates and `y_coordinate_array` is an array of $y$ coordinates.\n",
    "\n",
    "You should always include axis labels on plots.\n",
    "\n"
   ]
  },
  {
   "cell_type": "code",
   "execution_count": 0,
   "id": "c0da92",
   "metadata": {
    "collapsed": false,
    "vscode": {
     "languageId": "octave"
    }
   },
   "outputs": [],
   "source": [
    "plot(x, x.^4)   %x is the x-coordinates,    x.^4 gives the y-coordinates\n",
    "xlabel('x')\n",
    "ylabel('x^4')"
   ]
  },
  {
   "cell_type": "markdown",
   "id": "1dad89",
   "metadata": {
    "collapsed": false
   },
   "source": [
    "To make the plot above  smooth, we need more points.  So we will create an array `high_resolution_x` that has many intermediate points.\n",
    "\n",
    "When we start dealing with long arrays, we usually don't want them to be printed to the screen.  So in the command below, we end with a semicolon ';'  When the semicolon is there, the output is suppressed.  You could remove the semicolon below to see what happens.\n"
   ]
  },
  {
   "cell_type": "code",
   "execution_count": 0,
   "id": "cf24f3",
   "metadata": {
    "collapsed": false,
    "vscode": {
     "languageId": "octave"
    }
   },
   "outputs": [],
   "source": [
    "high_resolution_x = [0:0.01:6];   %this covers the same range as x (0 to 6), but with a much smaller step size.\n",
    "\n",
    "%an equivalent command is linspace(0,6,601)"
   ]
  },
  {
   "cell_type": "code",
   "execution_count": 0,
   "id": "241d40",
   "metadata": {
    "collapsed": false,
    "vscode": {
     "languageId": "octave"
    }
   },
   "outputs": [],
   "source": [
    "plot(high_resolution_x, high_resolution_x.^4)\n",
    "xlabel('x')\n",
    "ylabel('x^4')"
   ]
  },
  {
   "cell_type": "markdown",
   "id": "d44275",
   "metadata": {
    "collapsed": false
   },
   "source": [
    "We can also plot multiple things on the same axes, using `hold on`:\n"
   ]
  },
  {
   "cell_type": "code",
   "execution_count": 0,
   "id": "5ad541",
   "metadata": {
    "collapsed": false,
    "vscode": {
     "languageId": "octave"
    }
   },
   "outputs": [],
   "source": [
    "plot(x,x.^3-x.^2)\n",
    "hold on %this tells it to not overwrite the current figure, but rather to hold on to the current plot and then add things.\n",
    "        %without `hold on`, the second plotting command would completely overwrite the first. \n",
    "plot(high_resolution_x, high_resolution_x.^3-high_resolution_x.^2)\n",
    "xlabel('x')\n",
    "ylabel('x^4')"
   ]
  },
  {
   "cell_type": "markdown",
   "id": "95dac5",
   "metadata": {
    "collapsed": false
   },
   "source": [
    "### Self Test\n",
    "\n",
    "Define an array `t` with values from `-2*pi` to`2*pi` having a stepsize of `0.2*pi`.  Then plot `sin(t)`, `cos(t)`, and `sin(t).^2+cos(t).^2`, all on the same axes.\n",
    "\n"
   ]
  },
  {
   "cell_type": "code",
   "execution_count": 0,
   "id": "1e764d",
   "metadata": {
    "collapsed": false,
    "vscode": {
     "languageId": "octave"
    }
   },
   "outputs": [],
   "source": []
  },
  {
   "cell_type": "markdown",
   "id": "165bb0",
   "metadata": {
    "collapsed": false
   },
   "source": [
    "## <u>For Loops</u>\n",
    "\n",
    "An important tool in almost all programming languages is a '`for` loop'.  It lets us do the same calculation repeatedly, but each time with one of the variables changed.\n",
    "\n",
    "- We'll start with a `for` loop that just prints out the integers from 0 to 5.\n",
    "- Then we'll modify the for loop so that it also adds these up.\n",
    "- Then we'll modify it again so that it also creates arrays.\n",
    "\n",
    "The first line of a `for` loop tells us what variable name we're going to use inside the for loop and gives an array showing what values it will take.\n",
    "\n",
    "Then it has commands to use for each subsequent value of the variable.\n",
    "\n",
    "Finally the word `end` appears so that matlab knows where that sequence of commands ends.\n",
    "\n"
   ]
  },
  {
   "cell_type": "code",
   "execution_count": 0,
   "id": "40573e",
   "metadata": {
    "collapsed": false,
    "scrolled": true,
    "vscode": {
     "languageId": "octave"
    }
   },
   "outputs": [],
   "source": [
    "for counter = [0, 1, 2, 3, 4, 5]   %counter will take each value from  0 to 5.  We could also use counter = [0:5]\n",
    "   counter                         %This prints out the current value of counter.  It's a good idea to indent the commands within a loop a bit so that you can easily see where the for loop is.\n",
    "end                                %the loop ends here.  "
   ]
  },
  {
   "cell_type": "markdown",
   "id": "376166",
   "metadata": {
    "collapsed": false
   },
   "source": [
    "A better way to do this is `for counter = [0:5]`.\n",
    "\n",
    "Let's use that and calculate the sum of the entries."
   ]
  },
  {
   "cell_type": "code",
   "execution_count": 0,
   "id": "761b03",
   "metadata": {
    "collapsed": false,
    "vscode": {
     "languageId": "octave"
    }
   },
   "outputs": [],
   "source": [
    "sum = 0                    #we're going to add everything up and store it in 'sum'.  Each time through we'll modify 'sum' We have to start with it equal to 0 for it to work.\n",
    "for counter = [0:5]        %counter will take each value from  0 to 5.\n",
    "   counter                 %This prints out the current value of counter.  It's a good idea to indent these a bit so that you can easily see where the for loop is.\n",
    "   sum = sum + counter     #we add the current value of counter to sum.\n",
    "end                        %the loop ends here.  \n"
   ]
  },
  {
   "cell_type": "markdown",
   "id": "1f0d16",
   "metadata": {
    "collapsed": false
   },
   "source": [
    "It's a good idea to go through the loop with pen and paper just so that you can confirm you understand what's happening.  Try running through it by hand if `sum` isn't defined to be 0 at the start to see why it breaks.\n",
    "\n",
    "Now we create an array which will store each value of `sum` along the way, and append `sum` to the end of the array each time.\n"
   ]
  },
  {
   "cell_type": "code",
   "execution_count": 0,
   "id": "c14c13",
   "metadata": {
    "collapsed": false,
    "vscode": {
     "languageId": "octave"
    }
   },
   "outputs": [],
   "source": [
    "cumulative_value = []  %this is an empty array\n",
    "sum = 0                %as above - if you leave this out, it will use whatever the previous value os `sum` is.  If you leave it out and `sum` isn't defined yet it will give an error\n",
    "for counter = [0: 5]   \n",
    "   counter                        %prints out the current value of counter\n",
    "   sum = sum + counter ;          %note that output suppressed by semicolon\n",
    "   cumulative_value(end+1) = sum  %this appends a new value to the end of the array, equal to sum.  This output will print out since there is no semicolon.\n",
    "end       \n",
    "\n"
   ]
  },
  {
   "cell_type": "markdown",
   "id": "72d5eb",
   "metadata": {
    "collapsed": false
   },
   "source": [
    "### Self Test\n",
    "\n",
    "Define `dx = 0.1` and `X=[0:dx:5-dx]` --- note the capital letter X.  \n",
    "\n",
    "Use a `for` loop to calculate the sum of `x^2*dx` where the sum is taken over each value `x` in the array `X` : `(X[1]^2)*dx + (X[2]^2)*dx + (X[3]^2)*dx + ...X[end]^2*dx`    Compare your answer with the integral  \n",
    "\n",
    "$\\int_0^5 x^2 dx$. \n",
    "\n",
    "note there are more efficient ways to do this calculation in matlab without using a `for` loop, but the goal of this is to make sure you know how to use for loops.\n",
    "\n"
   ]
  },
  {
   "cell_type": "code",
   "execution_count": 0,
   "id": "ad03f6",
   "metadata": {
    "collapsed": false,
    "vscode": {
     "languageId": "octave"
    }
   },
   "outputs": [],
   "source": []
  },
  {
   "cell_type": "markdown",
   "id": "576437",
   "metadata": {
    "collapsed": false
   },
   "source": [
    "What happens to the difference between $\\int_0^5 x^2 dx$ and the value of the sum if you reduce `dx` ? \n",
    "\n",
    "The cell below shows a skeleton for some code to look at how the error changes as `dx` shrinks.  It creates a list of `dx` values.  Then it runs a for loop with each value of dx.  For each of these values, we want to do the same calculation as above.  \n",
    "\n",
    "**Using the `for` loop above as a model, edit the inner `for` loop in the cell below  so that it will do the same sum.**\n",
    "\n",
    "We then set the error to be the absolute value of the difference between the sum and the integral.\n",
    "\n",
    "Finally we plot the error as a function of `dx`, but with log scales so that we can see the very small numbers.\n",
    "\n"
   ]
  },
  {
   "cell_type": "code",
   "execution_count": 0,
   "id": "488876",
   "metadata": {
    "collapsed": false,
    "vscode": {
     "languageId": "octave"
    }
   },
   "outputs": [],
   "source": [
    "errors = zeros(1,5)  %will store the errors for the calculations\n",
    "dx_list = 10.^[-1, -2, -3, -4, -5]   %the dx values we will use\n",
    "\n",
    "\n",
    "for dx = dx_list   %dx will take each value in dx_list\n",
    "    \n",
    "    sum =0;   \n",
    "    \n",
    "    for .......  %here is a 'nested for loop'.  The 'inner' loop will execute completely each pass through the 'outer' loop.   you need to provide this code\n",
    "    end\n",
    "  \n",
    "    errors(counter) = abs(41.66666666667-sum)   %the integral is 41.66666....   We put the new error into the list of errors\n",
    "    \n",
    "end\n",
    "\n",
    "loglog(dx_list, errors) #this plots it on a log scale on both axes.  WIthout the log scale we would not see the details for smaller dx\n",
    "xlabel('dx')\n",
    "ylabel('error')"
   ]
  },
  {
   "cell_type": "markdown",
   "id": "1c3920",
   "metadata": {
    "collapsed": false
   },
   "source": [
    "### Optional extension:\n",
    "\n",
    "A major limitation of many numerical algorithms is that to get high accuracy, we need high resolution, which requires many calculations.  To reduce the error with the algorithm above by a factor of 100, we need 100 times as many points, which means waiting 100 times as long.  It turns out that with a small change in the algorithm, a factor of 100 improvement in accuracy can be achieved with just 10 times as many points with almost the same underlying code.  If you need accuracy to 8 digits, this could mean the difference between getting an answer today or 30 years from now.\n",
    "\n",
    "\n",
    "Repeat the previous calculation, but this time, define `X` to be the values in the midpoint of each interval: `X = [dx/2  :  dx  :  5-dx/2]`  Compare the size of the errors with the result above which used the left hand value.  How much does the error go do from a factor of 10 reduction in `dx`?  Notice that the effort to write the code using the midpoints is not much different, but the accuracy is dramatically higher.  \n",
    "\n",
    "To go even further, to see mathematically (rather than computationally) why this error is so much smaller, choose an interval  $(n \\Delta x, (n+1)  \\Delta x)$.  Sketch the function in that interval.   Let $x_n$ be the midpoint of the interval.\n",
    "- Sketch the approximation made if you replace the function by its tangent line approximation in the interval using the midpoint --- the value at that point is $f(x_n)=x_n^2$ and the slope is $f'(x_n)=2x_n$.  \n",
    "- Write down the formula for the area under this approximation in terms of $f(x_n)$, $f'(x_n)$ and $\\Delta x$.  You should see that $f'(x_n)$ disappears from the expression - this is a result of choosing the midpoint.\n",
    "- Compare the formula for this area with the formula in the new calculation you did.  You should see that they are the same.\n",
    "- Now sketch the approximation made if you replace the function in that interval by the constant value  $f(n \\Delta x)$.  You should visually see that the error appears larger.\n",
    "- Now go back to the midpoint tangent line approximation.  Write $f(x) = f(x_n) + (x-x_n) f'(x_n) + (x-x_n)^2 f''(x_n)/2 +\\cdots$  This is a Taylor Series approximation using the derivatives at the point $x_n$ rather than $0$.  For the function $x^2$, higher derivatives are 0 so the sum is finite.  The tangent line approximation is $g(x) = f(x_n) + (x-x_n) f'(x_n)$.  You should see that $|x-x_n|$ is no larger than $\\Delta x$, so if $\\Delta x$ shrinks, the typical error between $g$ and $f$ scales like $(\\Delta x)^2$.  The width of each interval is $\\Delta x$, so we expect the overall error in the approximation to be comparable in size to $(\\Delta x)^3$.  The number of intervals is $5/\\Delta x$.  So if we add up the absolute values (that is, we assume the errors aren't going to cancel) we get something proportional to $(\\Delta x)^2$.\n",
    "- Use similar reasoning to see why the error approximating the function using the left-hand value $f(n\\Delta x)$ should be proportional to $\\Delta x$.\n"
   ]
  },
  {
   "cell_type": "code",
   "execution_count": 0,
   "id": "39f636",
   "metadata": {
    "collapsed": false,
    "vscode": {
     "languageId": "octave"
    }
   },
   "outputs": [],
   "source": []
  },
  {
   "cell_type": "markdown",
   "id": "746b24",
   "metadata": {
    "collapsed": false
   },
   "source": []
  }
 ],
 "metadata": {
  "kernelspec": {
   "argv": [
    "python3",
    "-E",
    "-m",
    "octave_kernel",
    "-f",
    "{connection_file}"
   ],
   "display_name": "Octave (xeus)",
   "env": {},
   "language": "matlab",
   "name": "xoctave",
   "resource_dir": "/ext/jupyter/kernels/octave-8.2"
  },
  "language_info": {
   "file_extension": ".m",
   "mimetype": "text/x-matlab",
   "name": "matlab"
  }
 },
 "nbformat": 4,
 "nbformat_minor": 4
}
