{
 "cells": [
  {
   "cell_type": "markdown",
   "id": "a2286d",
   "metadata": {
    "collapsed": false
   },
   "source": [
    "# Computer Lab 08\n",
    "\n",
    "In this lab we will explore tangents and the length of a curve.  An extension of these concepts relating tangents to the unit vectors in spherical and cylindrical coordinates is at the end, but it is not expected that you will cover that in this lab.\n",
    "\n",
    "Imagine a car driving on a circular path.  Since it doesn't follow a straight line, the direction it travels is constantly changing.  \n",
    "\n",
    "Let's assume the $x$ coordinate is \n",
    "\n",
    "$$\n",
    "x(t) = 4\\cos(t)\n",
    "$$ \n",
    "\n",
    "and the $y$ coordinate is \n",
    "\n",
    "$$\n",
    "y(t)=4\\sin(t)\n",
    "$$\n",
    "\n",
    "where $t$ is time.  So its *position vector*, that is the vector from the origin to the position of the car, is \n",
    "\n",
    "$$\n",
    "\\begin{align*}\n",
    "\\vec{r}(t) &= x(t) \\vec{i} + y(t)\\vec{j}\\\\\n",
    "&= 4 \\cos(t) \\vec{i} + 4 \\sin(t)\\vec{j}\n",
    "\\end{align*}\n",
    "$$\n",
    "\n",
    "In the following cell, use `plot(x,y)` to plot the path that the car is expected to take from time $t=0$ to $t=2\\pi$ on $xy$ axes.\n",
    "\n",
    "In a separate figure (which we create using `figure(2)`), we plot $x(t)$ and $y(t)$ both as functions of time.\n",
    "\n"
   ]
  },
  {
   "cell_type": "code",
   "execution_count": 0,
   "id": "bb26f2",
   "metadata": {
    "collapsed": false
   },
   "outputs": [],
   "source": [
    "t = [0:pi/20:2*pi];\n",
    "x = 4*cos(t);\n",
    "y = 4*sin(t);\n",
    "\n",
    "plot(x,y)\n",
    "xlabel('x')\n",
    "ylabel('y')\n",
    "title('Positions (x(t),y(t)) at different times')\n",
    "\n",
    "daspect([1,1])\n",
    "\n",
    "\n",
    "figure(2)\n",
    "plot(t,x, 'DisplayName', 'x(t)')\n",
    "xlabel('t')\n",
    "hold on\n",
    "plot(t,y, 'DisplayName', 'y(t)')\n",
    "xlabel('t')\n",
    "legend()\n",
    "xlabel('t')\n",
    "title('x and y coordinates as a function of time.')"
   ]
  },
  {
   "cell_type": "markdown",
   "id": "ec4450",
   "metadata": {
    "collapsed": false
   },
   "source": [
    "Before moving on, make sure you understand how the circular shape relates to the curves for $x(t)$ and $y(t)$   This animation may help: https://www.youtube.com/watch?v=z82I6u4DFTo"
   ]
  },
  {
   "cell_type": "markdown",
   "id": "a502fd",
   "metadata": {
    "collapsed": false
   },
   "source": [
    "\n",
    "## Tangent to a curve\n",
    "\n",
    "At $t=7\\pi/4$ the car hits a patch of ice, and the wheels no longer make the car turn.  It continues in a straight line, in the same direction it was traveling at the moment it hit the ice.\n",
    "\n",
    "There are a number of questions we might try to answer about this, such as,\n",
    "- how far has the car traveled before hitting the ice?\n",
    "- how fast is the car traveling when it hits the ice?\n",
    "- what direction is the car traveling when it hits the ice?\n",
    "\n",
    "We'll focus on the last two at the moment.\n",
    "\n",
    "Because it is traveling in a circle, we can use properties of circles to figure out most of these questions.  However, let's act as if we don't know those properties and we'll learn a more general way to calculate these so that we can work with non-circular paths.  We'll be able to use the fact that it's a circle to check our answers and help confirm we're on the right path.\n",
    "\n",
    "In the cell below, plot the path that the car has taken from time $t=0$ up to time $t=7\\pi/4$."
   ]
  },
  {
   "cell_type": "code",
   "execution_count": 0,
   "id": "ee999f",
   "metadata": {
    "collapsed": false
   },
   "outputs": [],
   "source": [
    "t = [0:pi/20:7*pi/4];\n",
    "x = 4*cos(t);\n",
    "y = 4*sin(t);\n",
    "\n",
    "plot(x,y)\n",
    "xlabel('x')\n",
    "ylabel('y')\n",
    "\n",
    "daspect([1,1])"
   ]
  },
  {
   "cell_type": "markdown",
   "id": "e509a7",
   "metadata": {
    "collapsed": false
   },
   "source": [
    "To understand the answer to the questions above, we'll introduce the concept of the velocity vector of the car.  \n",
    "\n",
    "At time $t$, the rate of change of the $x$ coordinate is $dx/dt$ and the rate of change of the $y$ coordinate is $dy/dt$.  So the rate of change of its position is captured by the vector $\\vec{v}(t) = (dx/dt, dy/dt) = (-4\\sin(t), 4\\cos(t))$. \n",
    "\n",
    "- We call $\\vec{r}(t) = (x(t), y(t))$ the *position vector*.\n",
    "- We call $\\vec{v}(t) = d \\vec{r}/dt = (dx/dt, dy/dt)$ the *velocity vector*.  It gives the rate of change of position at time $t$.\n",
    "- We call $\\vec{a}(t) = d \\vec{v}/dt = (d^2x/dt^2, d^2y/dt^2)$ the *acceleration vector*.  It gives the rate of change of velocity at time $t$.\n",
    "\n",
    "As a reminder, the command `quiver([x(t_0)],[y(t_0)],[dx(t_0)/dt],[dy(t_0)/dt])` will plot an arrow whose base is at $(x(t_0),y(t_0))$ in the direction $(dx(t_0)/dt, dy(t_0)/dt)$.\n",
    "\n",
    "In the cell below, \n",
    "- we plot the path of the car from $t=0$ to $t=7\\pi/4$ \n",
    "- we plot the velocity vector of the car at time $t_0=7\\pi/4$ with base at $(x(t_0), y(t_0))$\n"
   ]
  },
  {
   "cell_type": "code",
   "execution_count": 0,
   "id": "ab2504",
   "metadata": {
    "collapsed": false
   },
   "outputs": [],
   "source": [
    "t = [0:pi/20:7*pi/4];\n",
    "x = 4*cos(t);\n",
    "y = 4*sin(t);\n",
    "\n",
    "plot(x,y)\n",
    "xlabel('x')\n",
    "ylabel('y')\n",
    "\n",
    "daspect([1,1])\n",
    "\n",
    "hold on\n",
    "t0=7*pi/4;\n",
    "\n",
    "r0 = [4*cos(t0), 4*sin(t0)];  # position at time t0.\n",
    "plot([r0(1)], [r0(2)], 'o', 'DisplayName', 'Position at time t_0')\n",
    "\n",
    "v0 = [-4*sin(t0), 4*cos(t0)]; # velocity at time t0. v0= dr/dt at time t0\n",
    "quiver([r0(1)], [r0(2)], [v0(1)], [v0(2)], 0, 'DisplayName', 'Velocity at time t_0')  #the 0 removes any scaling of the vector.\n",
    "legend()\n"
   ]
  },
  {
   "cell_type": "markdown",
   "id": "7e2bf8",
   "metadata": {
    "collapsed": false
   },
   "source": [
    "You should see that the velocity vector is tangent to the circle at that point.  The magnitude of the velocity vector is the speed of the car.  \n",
    "\n",
    "We'll make a distinction between 'velocity' (which includes a direction and is a vector) and 'speed' (which is just the magnitude of velocity and is a scalar).\n",
    "\n",
    "Now we'll plot the path of the car, and a few velocity vectors along the way.\n",
    "\n"
   ]
  },
  {
   "cell_type": "code",
   "execution_count": 0,
   "id": "1ed8a2",
   "metadata": {
    "collapsed": false
   },
   "outputs": [],
   "source": [
    "%first we plot the partial circle\n",
    "\n",
    "t = [0:0.01*pi:7*pi/4];\n",
    "x = 4*cos(t);\n",
    "y = 4*sin(t);\n",
    "plot(x,y)   %plot the partial circle\n",
    "hold on\n",
    "\n",
    "%Now we plot the vectors\n",
    "\n",
    "low_res_times = [0:pi/4:7*pi/4];  %these are the times we will use for plotting velocity vectors.\n",
    "                                  %lower resolution so there are only a few vectors plotted\n",
    "                                  \n",
    "low_res_xs = 4*cos(low_res_times);  %these are the x coordinates at the specified times\n",
    "low_res_ys = 4*sin(low_res_times);  %the y coordinates\n",
    "\n",
    "low_res_dxdt = -4*sin(low_res_times); %the x component dx/dt\n",
    "low_res_dydt = 4*cos(low_res_times);  %the y component dy/dt\n",
    "\n",
    "quiver(low_res_xs, low_res_ys, low_res_dxdt, low_res_dydt, 0)  %the 0 turns off any scaling of the vectors\n",
    "\n",
    "daspect([1,1])\n",
    "xlabel('x')\n",
    "ylabel('y')\n",
    "title('Position of Car and velocity vectors at several times.')"
   ]
  },
  {
   "cell_type": "markdown",
   "id": "6e9073",
   "metadata": {
    "collapsed": false
   },
   "source": [
    "Notice, the vectors plotted above are **not unit vectors**.  Their magnitude is not $1$.  In fact, their magnitude (the speed) is $4$.  This is because the car is travelling with speed 4 (to confirm this, note that the full circle would take $2\\pi$ units of time and its length is $8\\pi$, so it must travel at speed $4$ if its speed is to remain constant)\n",
    "\n",
    "When we want to know the unit vectors in the same direction as a given vector, we must divide the given vector by its magnitude.  The code below is identical to above, except that it plots the unit vectors in the direction of velocity by dividing by the magnitude in the `quiver` call."
   ]
  },
  {
   "cell_type": "code",
   "execution_count": 0,
   "id": "3f3e50",
   "metadata": {
    "collapsed": false
   },
   "outputs": [],
   "source": [
    "%first we plot the partial circle\n",
    "\n",
    "t = [0:0.01*pi:7*pi/4];\n",
    "x = 4*cos(t);\n",
    "y = 4*sin(t);\n",
    "plot(x,y)   %plot the partial circle\n",
    "hold on\n",
    "\n",
    "%Now we plot the vectors\n",
    "\n",
    "low_res_times = [0:pi/4:7*pi/4];  %these are the times we will use for plotting tangent vectors.\n",
    "                                  %lower resolution so there are only a few vectors plotted\n",
    "                                  \n",
    "low_res_xs = 4*cos(low_res_times);  %these are the x coordinates at the specified times\n",
    "low_res = 4*sin(low_res_times);  %the y coordinates\n",
    "\n",
    "low_res_dxdt = -4*sin(low_res_times); %the x component dx/dt\n",
    "low_res_dydt = 4*cos(low_res_times);  %the y component dy/dt\n",
    "\n",
    "%the magnitude is 4, but we're going to assume it could vary, and calculate the magnitude at each point.  This will be more general and can be used for other curves.\n",
    "magnitude = sqrt(low_res_dxdt.^2 + low_res_dydt.^2);\n",
    "\n",
    "quiver(low_res_xs, low_res_ys, low_res_dxdt./magnitude, low_res_dydt./magnitude, 0) %the 0 turns off any scaling of the vectors\n",
    "\n",
    "daspect([1,1])\n",
    "title('Position of Car and tangent vectors of length 1 at several times.')"
   ]
  },
  {
   "cell_type": "markdown",
   "id": "a968f8",
   "metadata": {
    "collapsed": false
   },
   "source": [
    "Each unit vector at time $t$ (corresponding to angle $t$) is in fact $-\\sin(\\theta) \\vec{i} + \\cos(\\theta) \\vec{j}$.  If you dig out your formula sheets, you'll see that this is $\\vec{e}_\\theta$ in cylindrical coordinates.  \n",
    "\n",
    "Notice how they are tangent to a curve for which both $\\rho$ and $z$ are constant, but $\\theta$ varies.  If you take a curve for which only $\\theta$ varies, its tangent points in the direction of $\\vec{e}_\\theta$.  Similarly if you take a curve for which only $\\rho$ varies, then its tangent points in the direction of $\\vec{e}_\\rho$, or if only $z$ varies, its tangent points in the direction of $\\vec{e}_z$.  You will have the option to explore this in more detail in the 'extended self test' at the end of this lab.\n",
    "\n"
   ]
  },
  {
   "cell_type": "markdown",
   "id": "663977",
   "metadata": {
    "collapsed": false
   },
   "source": [
    "### Self test:\n",
    "\n",
    "Consider the ellipse given by \n",
    "\n",
    "$$\n",
    "x = \\cos(t),  \\qquad y = 2\\sin(t)\n",
    "$$\n",
    "for $0 \\leq t \\leq 2\\pi$\n",
    "\n",
    "- Plot the ellipse, with the aspect ratio set to 1 --- that is, use  `daspect([1,1])`\n",
    "- Add 8 equally spaced (in time) tangent vectors \\(pointing in the direction of increasing $t$\\)\n",
    "- Check visually that the tangent vectors really are tangent, and that unlike the circle, they are not all of the same length.  \n",
    "- If the car is following this path with the given parametrization, where is the speed greatest?\n",
    "\n"
   ]
  },
  {
   "cell_type": "code",
   "execution_count": 0,
   "id": "ccbac5",
   "metadata": {
    "collapsed": false
   },
   "outputs": [],
   "source": []
  },
  {
   "cell_type": "markdown",
   "id": "499fb7",
   "metadata": {
    "collapsed": false
   },
   "source": [
    "## Length of a curve\n",
    "\n",
    "### The length of a curve as the integral of speed.\n",
    "\n",
    "If we think about the parameter as time, then the length of a curve can be calculated by finding the magnitude of the velocity vector (that is, its speed) and integrating it from the start time to the stop time.  We will look at two ways to reach this conclusion.\n",
    "\n",
    "Plot the speed of the car we saw below as a function of time from $t=0$ to $t=7\\pi/4$ (it should be constant).\n",
    "\n"
   ]
  },
  {
   "cell_type": "code",
   "execution_count": 0,
   "id": "5e3e17",
   "metadata": {
    "collapsed": false
   },
   "outputs": [],
   "source": [
    "t = [0:pi/20:7*pi/4];\n",
    "x = 4*cos(t);\n",
    "y = 4*sin(t);\n",
    "\n",
    "dxdt = -4*sin(t);       %v = dxdt i  +   dydt  j\n",
    "dydt = 4*cos(t);\n",
    "\n",
    "speed = sqrt(dxdt.^2 + dydt.^2);\n",
    "\n",
    "plot(t, speed)"
   ]
  },
  {
   "cell_type": "markdown",
   "id": "e68481",
   "metadata": {
    "collapsed": false
   },
   "source": [
    "If a car is traveling at constant speed for a fixed duration of time, the distance traveled is speed$\\times$time.  Convince yourself that this is equal to the area under the function you plotted above.\n",
    "\n",
    "As a check, you should verify that up to time $7\\pi/4$, the car has traveled $7/8$ of the way around the circle.  Since the circle has radius $4$ and thus circumference $8\\pi$, you should be able to confirm that the car has traveled a distance $7\\pi$.  This should agree with the calculation you did above.\n",
    "\n",
    "#### An Ellipse:\n",
    "\n",
    "Now let's consider an ellipse parametrized by \n",
    "\n",
    "$$x=\\cos(t) \\qquad y = 2\\sin(t)$$\n",
    "Unlike the parametrized circle above, a car traveling with this parametrization for the ellipse does not have constant speed.  The velocity vector is \n",
    "\n",
    "$$ \n",
    "\\vec{v}(t) = \\frac{d \\vec{r}}{dt} = -\\sin(t) \\vec{i} + 2 \\cos(t) \\vec{j}\n",
    "$$\n",
    "The speed is \n",
    "\n",
    "$$\\| \\vec{v}(t)\\| = \\sqrt{ \\vec{v}(t) \\cdot \\vec{v}(t) } = \\sqrt{\\sin^2(t) + 4\\cos^2(t)}$$\n",
    "For an arbitrary parametrized curve, \n",
    "\n",
    "$$\\| \\vec{v}(t)\\| = \\sqrt{(dx/dt)^2 + (dy/dt)^2}$$\n",
    "\n",
    "We'll use the code provided below to plot the speed as a function of time from $t=0$ to $t=2\\pi$, and add some approximating rectangles.\n",
    "\n",
    "Run the code below multiple times with varying numbers of rectangles and confirm for yourself that as the number of rectangles increases the area under the curve is matched by the area under the rectangles.\n",
    "\n"
   ]
  },
  {
   "cell_type": "code",
   "execution_count": 0,
   "id": "3462d4",
   "metadata": {
    "collapsed": false
   },
   "outputs": [],
   "source": [
    "%Here we plot the rectangles first and then the curve (so that the curve can be seen on top of the rectangles rather than hiding behind)\n",
    "\n",
    "N_rectangles = 50; %number of rectangles\n",
    "dt = 2*pi/N_rectangles;  %time step corresponding to number of rectangles\n",
    "\n",
    "rectangle_times = [0:dt: 2*pi-dt]; %the left hand value of time for each approximating rectangle\n",
    "rectangle_heights = sqrt((-sin(rectangle_times)).^2 + (2*cos(rectangle_times)).^2);  %the heights of the rectangles\n",
    "bar(rectangle_times, rectangle_heights, 'histc', 'DisplayName', 'approximating rectangles');  %this command does a bar plot, where each bar is aligned on the left.\n",
    "\n",
    "hold on \n",
    "\n",
    "%now we plot the curve speed = sqrt((dx/dt)^2 + (dy/dt)^2) at high resolution\n",
    "t = [0:0.01*pi:2*pi];  %higher resolution times\n",
    "dxdt = -sin(t);\n",
    "dydt = 2*cos(t);\n",
    "\n",
    "speed = sqrt(dxdt.^2 + dydt.^2);\n",
    "plot(t, speed, 'linewidth', 20, 'DisplayName', 'sqrt((dx/dt)^2 + (dy/dt)^2)')\n",
    "legend('location', 'eastoutside')"
   ]
  },
  {
   "cell_type": "markdown",
   "id": "cb46ac",
   "metadata": {
    "collapsed": false
   },
   "source": [
    "If we approximate the speed of the car in each interval as if it is constant, then the distance traveled in that interval matches the area of the corresponding rectangle.  As we increase the number of rectangles, the combined area of the rectangles approaches the area under the curve.  By adding up the rectangles in the limit of short time intervals, we arrive at the integral of the speed. \n",
    "\n",
    "**The integral of speed over time gives the distance travelled.**  \n",
    "\n",
    "$$ \n",
    "\\begin{align*}\n",
    "\\lim_{\\Delta t \\to 0} \\sum_{i=0}^{\\frac{2\\pi}{\\Delta t}-1} \\text{height}(\\text{rectangle}_i) \\text{width}({\\text{rectangle}_i}) &=\\lim_{\\Delta t \\to 0} \\sum_{i=0}^{\\frac{2\\pi}{\\Delta t}-1} \\text{height}(\\text{rectangle}_i) \\Delta t\\\\\n",
    "&= \\lim_{\\Delta t \\to 0} \\sum_{i=0}^{\\frac{2\\pi}{\\Delta t}-1} \\sqrt{\\left(\\frac{dx}{dt}(t_i)\\right)^2 + \\left(\\frac{dy}{dt}(t_i)\\right)^2} \\quad \\Delta t  \\\\\n",
    "&= \\int_0^{2\\pi}  \\sqrt{\\left(\\frac{dx}{dt}\\right)^2 + \\left(\\frac{dy}{dt}\\right)^2} \\, dt\n",
    " \\end{align*}\n",
    " $$\n",
    " \n",
    " So we've found an integral that can give us the length of the curve.\n",
    " \n",
    " Do not make the mistake of replacing $ \\sqrt{\\left(\\frac{dx}{dt}\\right)^2 + \\left(\\frac{dy}{dt}\\right)^2}$ by $\\frac{dx}{dt} + \\frac{dy}{dt}$."
   ]
  },
  {
   "cell_type": "markdown",
   "id": "c0d9d8",
   "metadata": {
    "collapsed": false
   },
   "source": [
    "### Alternate derivation of length\n",
    "\n",
    "Here is a different way to arrive at the same integral to give the length of a curve.\n",
    "\n",
    "The ellipse considered above is well-approximated by a bunch of line segments connecting points on the ellipse separated by times $\\Delta t$.\n",
    "\n",
    "An important principle of Calculus is that over a short distance, a curve is well-approximated by the tangent line.  This means that the line segment connecting two \"adjacent\" points in the ellipse can be approximated using a piece of the tangent line at the point, as long as the time interval is short.  That is:\n",
    " If $\\Delta t$ is small, then the vector from $\\vec{r}(t)$ to $\\vec{r}(t+\\Delta t)$ is \n",
    "\n",
    "$$\\vec{r}(t+\\Delta t) - \\vec{r}(t) \\approx \\frac{d\\vec{r}}{dt} \\Delta t  $$\n",
    "\n",
    "(put another way, $ \\frac{d\\vec{r}}{dt}  \\approx \\frac{\\vec{r}(t+\\Delta t) - \\vec{r}(t)}{\\Delta t}$ as long as $\\Delta t$ is small enough)\n",
    "\n",
    "The code below plots the line segments connecting $N$ points of the ellipse separated by time $\\Delta t$.  Then it plots the $N-1$ vectors between successive pairs of those points.\n",
    "\n",
    "Run the code and then rerun it changing the number of line segments plotted to confirm that if the number of points becomes large, then the line segments are well-approximated by the vectors.  This means that the summed lengths of the vectors will be a good approximation of the distance around of the ellipse.\n",
    "\n",
    "So if our points along the ellipse are  $(x_1,y_1)$, $(x_2,y_2)$, ..., $(x_N,y_N)$, we take the $N-1$ vectors from $i=1$ to $N-1$\n",
    "\n",
    "$$\n",
    "\\vec{v}_i = (x_{i+1}, y_{i+1}) - (x_i, y_i)\n",
    "$$\n",
    "and plot each vector $\\vec{v}_i$ starting at $(x_i,y_i)$."
   ]
  },
  {
   "cell_type": "code",
   "execution_count": 0,
   "id": "e23948",
   "metadata": {
    "collapsed": false
   },
   "outputs": [],
   "source": [
    "N = 30;         %low resolution for plotting segments approximating the ellipse\n",
    "dt = 2*pi/(N-1);\n",
    "t = [0:dt:2*pi];  %t has N values\n",
    "\n",
    "x = cos(t);\n",
    "y = 2*sin(t);\n",
    "\n",
    "\n",
    "vector_x = x(2:N) - x(1:N-1);\n",
    "vector_y = y(2:N) - y(1:N-1);\n",
    "\n",
    "\n",
    "quiver(x(1:N-1), y(1:N-1), vector_x, vector_y, 0) %this plots the vector at each point multiplied by dt. The '0' tells it not to scale the vector.\n",
    "                                  %as n_segments increases, these should approximate the segments.\n",
    "\n",
    "daspect([1,1])"
   ]
  },
  {
   "cell_type": "markdown",
   "id": "30adeb",
   "metadata": {
    "collapsed": false
   },
   "source": [
    "Increase the value of $N$ above and rerun the code until you are satisfied that the sum of the lengths of the vectors will approximate the length of the curve very well."
   ]
  },
  {
   "cell_type": "markdown",
   "id": "c705b4",
   "metadata": {
    "collapsed": false
   },
   "source": [
    "Because the length of the ellipse is approximated by adding up the lengths of the vectors plotted above, and the approximation becomes exact as $N \\to \\infty$, we will analyze this sum in the large $N$ limit.\n",
    "\n",
    "When $N$ is large, each of the vectors is approximately tangent to the ellipse.  In fact each vector is approximately $\\Delta t \\times \\|(dx/dt, dy/dt)\\|= \\Delta t \\times\\sqrt{(dx/dt)^2+(dy/dt)^2}$ where $\\Delta t = 2\\pi/N$.  Adding these lengths together gives\n",
    "\n",
    "$$\n",
    "\\sum_{i=1}^{N-1} \\left(\\Delta t \\times \\sqrt{\\left(\\frac{dx(t_i)}{dt}\\right)^2 + \\left(\\frac{dy(t_i)}{dt}\\right)^2}\\right)\n",
    "$$\n",
    "where $t_1=0$ and the times are equally spaced giving the $N-1$ times at the start of each of the $N-1$ vectors.\n",
    "\n",
    "As we increase $N$ (and decrease $\\Delta t$), this is the definition of the integral:\n",
    "\n",
    "$$\n",
    "\\lim_{\\Delta t \\to 0}  \\sum_{i=1}^{N-1} \\left(\\Delta t \\times \\sqrt{\\left(\\frac{dx(t_i)}{dt}\\right)^2 + \\left(\\frac{dy(t_i)}{dt}\\right)^2} \\right) = \\int_0^{2\\pi}  \\sqrt{\\left(\\frac{dx}{dt}\\right)^2 + \\left(\\frac{dy}{dt}\\right)^2} \\, dt\n",
    "$$\n",
    "This is exactly the same integral  we found above when we were integrating the speed.  So either derivation gets us the same formula.\n",
    "\n",
    "For our ellipse we find that the length is\n",
    "\n",
    "$$\n",
    "\\int_0^{2\\pi} \\sqrt{ \\sin^2(t) + 4 \\cos^2(t)} \\, dt\n",
    "$$\n",
    "\n",
    "Notice that even though we have reduced this to an integral, there is no guarantee that we know a way to solve the integral exactly.  In this case, our best approach is likely to be to use a numerical approximation."
   ]
  },
  {
   "cell_type": "markdown",
   "id": "689d24",
   "metadata": {
    "collapsed": false
   },
   "source": [
    "### Self test\n",
    "\n",
    "By hand:\n",
    "- find a parametrization of the top half of a circle of radius $2$, using trigonometric functions as we have above.\n",
    "- Use this parametrization to set up an integral to calculate the length of this half.\n",
    "- Perform the integral and make sure you get half the circumference of a circle of radius $2$.\n",
    "\n",
    "Extra:\n",
    "- Repeat the first two steps above parametrizing the top half of a circle and setting up the integral to calculate the length, where we use $x=t$ and $y = \\sqrt{4-t^2}$ for $-2\\leq t \\leq 2$. (this is like writing $y$ as a function of $x$).\n",
    "\n",
    "It turns out that there is a technique for solving the resulting integral (which we do not teach in our first-year subjects), called a trigonometric substitution (https://en.wikipedia.org/wiki/Trigonometric_substitution).\n",
    "The substitution is equivalent to changing the parametrization of the circle to be in terms of the angle.  It can be shown that whenever we use a substitution to do an integral, it's equivalent to choosing a different parametrization of the interval."
   ]
  },
  {
   "cell_type": "code",
   "execution_count": 0,
   "id": "8defb2",
   "metadata": {
    "collapsed": false
   },
   "outputs": [],
   "source": []
  },
  {
   "cell_type": "markdown",
   "id": "1ac093",
   "metadata": {
    "collapsed": false
   },
   "source": [
    "### Extended self test:\n",
    "\n",
    "The goal of this self-test is to revisit the unit vectors and gain a different intuition for their interpretation.  First we rederive the unit vectors which you can think of as tangent vectors to some curves, using the ideas we saw above.  Then we plot the curves and the unit vectors.\n",
    "\n",
    "Using cylindrical coordinates $\\rho$, $\\theta$, and $z$, but the Cartesian directions $\\vec{i}$, $\\vec{j}$, $\\vec{k}$, the position vector is given by\n",
    "$\\vec{r} = x\\vec{i} + y\\vec{j} + z\\vec{k}$ which becomes \n",
    "\n",
    "$$\\vec{r}(\\rho, \\theta, \\phi) = \\rho\\cos(\\theta) \\vec{i} + \\rho \\sin(\\theta) \\vec{j} + z \\vec{k}$$\n",
    "\n",
    "We'll consider a specific point $P_0$ of interest with $\\rho = \\rho_0$,  $\\theta = \\theta_0$,  and $z = z_0$.\n",
    "\n",
    "- Consider a curve on which $\\theta=\\theta_0$ and $z=z_0$ are constant, but $\\rho$ varies.  This is a straight, horizontal line extending out from the $z$-axis at height $z_0$ in the direction given by $\\theta_0$.   The line can be parameterized as \n",
    "\n",
    "$$\n",
    "\\vec{r}_1(\\rho) = \\rho \\cos(\\theta_0)\\vec{i} + \\rho \\sin(\\theta_0) \\vec{j} + z_0 \\vec{k}\n",
    "$$\n",
    "We will find a tangent vector to this line $\\vec{r}_1(\\rho)$ at the point where it passes through $P_1$ (that is where $\\rho = \\rho_0$) by looking at the derivative of this curve as its parameter ($\\rho$) changes.  It turns out that this derivative, evaluated at $\\rho = \\rho_0$ gives us\n",
    "\n",
    "$$\n",
    " \\frac{d \\vec{r}_1(\\rho_0)}{d \\rho} = \\cos(\\theta_0)\\vec{i} + \\sin(\\theta_0) \\vec{j} = \\frac{\\partial \\vec{r} (\\rho_0, \\theta_0, z_0)}{\\partial \\rho}\n",
    "$$\n",
    "That is, the tangent vector is $\\cos(\\theta_0)\\vec{i} + \\sin(\\theta_0) \\vec{j}$ (confirm that this is $\\frac{\\partial \\vec{r}}{\\partial \\rho}(\\rho_0,\\theta_0,z_0)$).  We want the unit vector in this direction, so we find the magnitude of this vector: \n",
    "\n",
    "$$\\begin{align*}\n",
    "\\left\\|\\frac{\\partial \\vec{r} (\\rho_0, \\theta_0, z_0)}{\\partial \\rho} \\right \\| &= \\sqrt{(\\cos(\\theta_0)\\vec{i} + \\sin(\\theta_0) \\vec{j}) \\cdot ( \\cos(\\theta_0)\\vec{i} + \\sin(\\theta_0) \\vec{j})}\\\\\n",
    "&= \\sqrt{\\cos^2(\\theta_0) + \\sin^2(\\theta_0)}\\\\\n",
    "&= 1\n",
    "\\end{align*}\n",
    "$$\n",
    "So the unit vector that is tangent to this curve at the point $P_0$ is defined to be $\\vec{e}_\\rho$\n",
    "\n",
    "$$ \\vec{e}_\\rho= \\frac{\\partial \\vec{r}(\\rho_0, \\theta_0, z_0)}{\\partial \\rho} /\\left\\|\\frac{ \\partial \\vec{r}(\\rho_0, \\theta_0, z_0)}{\\partial \\rho}\\right\\| = \\cos(\\theta_0)\\vec{i} + \\sin(\\theta_0) \\vec{j}$$\n",
    "\n",
    "- Now consider a curve on which $\\rho=\\rho_0$ and $z=z_0$ are constant, but $\\theta$ varies.  This is a horizontal circle of radius $\\rho_0$ at height $z_0$. Repeating this same process finds that the unit vector that is tangent to the circle is \n",
    "\n",
    "$$\\vec{e}_\\theta = \\frac{\\partial \\vec{r} (\\rho_0, \\theta_0, z_0)}{\\partial \\theta} / \\left\\|\\frac{\\partial \\vec{r} (\\rho_0, \\theta_0, z_0)}{\\partial \\theta}\\right\\| = -\\sin(\\theta_0) \\vec{i} + \\cos(\\theta_0) \\vec{j}$$\n",
    "\n",
    "- Finally, consider a curve through the point $P_0$, but this time $\\theta=\\theta_0$ and $\\rho=\\rho_0$ are constant, while $z$ varies.  This is a vertical line at distance $\\rho_0$ from the $z$ axis, with the given value of $\\theta_0$.  Repeating this process finds that the unit vector that is tangent to the vertical line is\n",
    "\n",
    "$$\\vec{e}_z = \\frac{\\partial \\vec{r} (\\rho_0, \\theta_0, z_0)}{\\partial z} / \\left \\| \\frac{\\partial \\vec{r} (\\rho_0, \\theta_0, z_0)}{\\partial z} \\right \\| = \\vec{k}$$\n",
    "\n",
    "**Code**  \n",
    "\n",
    "The code below will plot the curves of constant $\\rho$, $\\theta$, and $z$ through the point $P_0$ with $\\theta_0 = 5\\pi/4$, $z_0=4$, and $\\rho_0 = 2$. \n",
    "\n",
    "Then it plots the vector $\\vec{e}_\\rho = \\frac{d\\vec{r}}{d\\rho}  / \\left\\|\\frac{d\\vec{r}}{d\\rho}\\right\\| = \\cos(\\theta)\\vec{i} + \\sin(\\theta) \\vec{j}$ at the point $P_0$ in red.\n",
    "\n",
    "\n",
    "After that, you need to uncomment and edit the code below to do the following\n",
    "\n",
    "- Plot the vector $\\vec{e}_\\theta = \\frac{d\\vec{r}}{d\\theta} / \\left\\|\\frac{d\\vec{r}}{d\\theta}\\right\\|= -\\sin(\\theta) \\vec{i} + \\cos(\\theta) \\vec{j}$ at the point $P_0$ in blue.\n",
    "- Plot the vector $\\vec{e}_z = \\frac{d\\vec{r}}{dz} / \\left\\|\\frac{d\\vec{r}}{dz}\\right\\| = \\vec{k}$ at the point $P_0$ in magenta (color code is `m`)\n",
    "\n",
    "Repeat at different values of $\\theta_0$.\n",
    "\n",
    "Reflect on how the unit vectors are tangent to these curves."
   ]
  },
  {
   "cell_type": "code",
   "execution_count": 0,
   "id": "ff256c",
   "metadata": {
    "collapsed": false
   },
   "outputs": [],
   "source": [
    "rho_0=2;\n",
    "theta_0 = 5*pi/4;\n",
    "z_0 = 4;\n",
    "\n",
    "%first the line varying only z:\n",
    "zs = [0:0.1:4];\n",
    "x_vals = rho_0*cos(theta_0)*ones(size(zs));  % the `ones` turns this into a vector of the appropriate number \n",
    "                                             % of entries made up of values rho_0*cos(theta_0)\n",
    "y_vals = rho_0*sin(theta_0)*ones(size(zs));\n",
    "z_vals = zs;\n",
    "\n",
    "plot3(x_vals, y_vals, z_vals, 'k');\n",
    "hold on\n",
    "\n",
    "%now the line varying only theta\n",
    "thetas = [0:pi/10:2*pi];\n",
    "x_vals = rho_0*cos(thetas);\n",
    "y_vals = rho_0*sin(thetas);\n",
    "z_vals = z_0*ones(size(thetas));\n",
    "\n",
    "plot3(x_vals, y_vals, z_vals, 'k');\n",
    "\n",
    "%now the line varying only rho\n",
    "rhos = [0:0.1:2];\n",
    "x_vals = rhos*cos(theta_0);\n",
    "y_vals = rhos*sin(theta_0);\n",
    "z_vals = 4*ones(size(rhos));\n",
    "\n",
    "plot3(x_vals, y_vals, z_vals, 'k');\n",
    "\n",
    "\n",
    "x_0 = rho_0*cos(theta_0);\n",
    "y_0 = rho_0*sin(theta_0);\n",
    "%z_0 is already defined.\n",
    "\n",
    "\n",
    "\n",
    "%plot e_rho\n",
    "quiver3([x_0], [y_0], [z_0], [cos(theta_0)], [sin(theta_0)], [0], 0, 'r');\n",
    "\n",
    "%now plot the others:\n",
    "%quiver3([x_0], [y_0], [z_0], <add e_theta components here, see equations above>, 'b');\n",
    "%quiver3([x_0], [y_0], [z_0], <add e_z components here>, 'm')\n",
    "\n",
    "grid on\n",
    "xlabel('x')\n",
    "ylabel('y')\n",
    "zlabel('z')\n",
    "\n",
    "axis([-3,3, -3,3, -1,5])"
   ]
  },
  {
   "cell_type": "markdown",
   "id": "2734f2",
   "metadata": {
    "collapsed": false
   },
   "source": [
    "Repeat the above using the spherical coordinates $r$, $\\theta$, and $\\phi$ and the unit vectors $\\vec{i}$, $\\vec{j}$, and $\\vec{k}$.  We have \n",
    "\n",
    "$$\\vec{r} = r \\sin(\\theta)\\cos(\\phi) \\vec{i} + r \\sin(\\theta) \\sin(\\phi) \\vec{j} + r \\cos(\\theta) \\vec{k}$$\n",
    "\n",
    "Plot the unit vectors at the point with $r_0=2$,   $\\theta_0 = 3\\pi/4$, and  $\\phi_0 = 5\\pi/4$.\n",
    "\n",
    "Vary the values of $\\theta_0$ and $\\phi_0$\n"
   ]
  },
  {
   "cell_type": "code",
   "execution_count": 0,
   "id": "ffb32e",
   "metadata": {
    "collapsed": false
   },
   "outputs": [],
   "source": []
  }
 ],
 "metadata": {
  "kernelspec": {
   "argv": [
    "python3",
    "-E",
    "-m",
    "octave_kernel",
    "-f",
    "{connection_file}"
   ],
   "display_name": "Octave (xeus)",
   "env": {},
   "language": "octave",
   "metadata": {
    "cocalc": {
     "description": "A programming language for scientific computing.",
     "priority": 10,
     "url": "https://octave.org/"
    }
   },
   "name": "xoctave",
   "resource_dir": "/ext/jupyter/kernels/octave-8.2"
  },
  "language_info": {
   "file_extension": ".m",
   "help_links": [
    {
     "text": "GNU Octave",
     "url": "https://www.gnu.org/software/octave/support.html"
    },
    {
     "text": "Octave Kernel",
     "url": "https://github.com/Calysto/octave_kernel"
    },
    {
     "text": "MetaKernel Magics",
     "url": "https://metakernel.readthedocs.io/en/latest/source/README.html"
    }
   ],
   "mimetype": "text/x-octave",
   "name": "octave",
   "version": "8.2.0"
  }
 },
 "nbformat": 4,
 "nbformat_minor": 4
}