{
 "cells": [
  {
   "cell_type": "markdown",
   "metadata": {},
   "source": [
    "# Linearity of the Laplace Transform\n",
    "\n",
    "If we take the Laplace Transform of a linear combination of functions, the result is the corresponding linear combination of their transforms.  For a linear combination of two functions\n",
    "\n",
    "$$\n",
    "\\mathcal{L}[af(t) + b g(t)](s) = a \\tilde{f}(s) + b \\tilde{g}(s)\n",
    "$$\n",
    "\n",
    "and for just a single function\n",
    "\n",
    "$$\n",
    "\\mathcal{L}[af(t)](s) = a \\tilde{f}(s)\n",
    "$$\n",
    "\n",
    "To show that this is true, we simply plug the sum into the definition of the Laplace Transform.  Then we will use the fact that the integral has the linearity property.  So the Laplace Transform \"inherits\" linearity from the integral:\n",
    "\\begin{align*}\n",
    "\\mathcal{L}[af(t)+bg(t)](s) &= \\int_0^\\infty (a f(t) + b g(t))e^{-st} \\, dt\\\\\n",
    "&=  \\int_0^\\infty a f(t)e^{-st} \\, dt + \\int_0^\\infty b g(t)e^{-st} \\, dt\\\\\n",
    "&= a\\int_0^\\infty  f(t)e^{-st} \\, dt + b\\int_0^\\infty  g(t)e^{-st} \\, dt\\\\\n",
    "&= a \\tilde{f}(s) + b \\tilde{g}(s)\n",
    "\\end{align*}\n"
   ]
  }
 ],
 "metadata": {
  "language_info": {
   "name": "python"
  },
  "kernelspec": {
   "name": "xoctave",
   "display_name": "Octave (xeus)"
  }
 },
 "nbformat": 4,
 "nbformat_minor": 2
}