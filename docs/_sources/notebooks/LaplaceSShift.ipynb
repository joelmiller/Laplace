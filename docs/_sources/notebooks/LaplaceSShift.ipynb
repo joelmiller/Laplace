{
 "cells": [
  {
   "cell_type": "markdown",
   "metadata": {},
   "source": [
    "# The $s$-shift\n",
    "\n",
    "In differential equations solutions, we often encounter functions that are the product of an exponential and another function.  For example, \n",
    "- one solution to the differential equation $f''(t)-4f'(t) + 4f(t)=0$ is $te^{2t}$.\n",
    "- one solution to the differential equation $f''(t) -4 f'(t) + 13f(t) = 0$ is $e^{2t} \\cos(3t)$.\n",
    "\n",
    "It turns out that the transform of $e^{at} f(t)$ is closely related to the transform of $f(t)$.\n",
    "````{prf:theorem} The $s$-shift\n",
    ":label: thm:s-shift\n",
    "\n",
    "If the Laplace Transform of $f(t)$ is $\\tilde{f}(s)$, then \n",
    "\n",
    "$$\n",
    "\\mathcal{L}[e^{at}f(t)](s) = \\tilde{f}(s-a)\n",
    "$$\n",
    "````\n",
    "\n",
    "To verify this, we use the definition of the Laplace Transform.\n",
    "\n",
    "\\begin{align*}\n",
    "\\mathcal{L}[e^{at}f(t)](s) &= \\int_0^\\infty e^{at} f(t) e^{-st} \\, dt\\\\\n",
    "&= \\int_0^\\infty f(t) e^{(a-s)t} \\, dt\n",
    "\\end{align*}\n",
    "If we set $s^* = s-a$, then the integral is\n",
    "\\begin{align*}\n",
    "\\mathcal{L}[e^{at}f(t)](s) &= \\int_0^\\infty e^{-s^*t} \\, dt\\\\\n",
    "&= \\tilde{f}(s^*)\\\\\n",
    "&= \\tilde{f}(s-a)\n",
    "\\end{align*}\n",
    "To get the next-to-last line, we observe that the integral looks exactly like the definition of the Laplace Transform, but with $s^*$ rather than $s$.  Then we substitute for $s^*$ in terms of $s$."
   ]
  },
  {
   "cell_type": "markdown",
   "metadata": {},
   "source": [
    "## Examples\n",
    "\n",
    "We now look at several examples using the $s$-shift. \n",
    "\n",
    "It is generally better practice when taking the transform to use $\\mathcal{L}[e^{at}f(t)](s) = \\mathcal{L}[f(t)](s-a)$ rather than using the equivalent statment $\\mathcal{L}[e^{at}f(t)](s) = \\tilde{f}(s-a)$.  This second option requires shifting $s$ and finding the transform of $f$ in one step, which is prone to error.\n",
    "\n",
    "````{prf:example} Finding $\\mathcal{L}[e^{-2t}t^2](s)$\n",
    "\n",
    "To find $\\mathcal{L}[e^{-2t}t^2](s)$, we use the $s$-shift and the rule from {numref}`Lap:Table` {ref}`Lap:Table` that $\\mathcal{L}[t^n](s) = n!/s^{n+1}$.\n",
    "\n",
    "We have\n",
    "\\begin{align*}\n",
    "\\mathcal{L}[e^{-2t}t^2](s)&= \\mathcal{L}[t^2](s+2)\\\\\n",
    "&= \\frac{2!}{(s+2)^3}\n",
    "\\end{align*}\n",
    "````"
   ]
  },
  {
   "cell_type": "markdown",
   "metadata": {},
   "source": [
    "````{prf:example} Finding $\\mathcal{L}[e^{2t}\\sin(3t)](s)$\n",
    ":label: example:e2tsin3t\n",
    "\n",
    "We will find $\\mathcal{L}[e^{2t}\\sin(3t)](s)$ *without* using the entry in the table for $e^{at}\\sin(\\omega t)$.  Instead we will use the $s$-shift and the fact that $\\mathcal{L}[\\sin(\\omega t)] = \\omega/(s^2+\\omega^2)$\n",
    "\n",
    "We have\n",
    "\\begin{align*}\n",
    "\\mathcal{L}[e^{2t}\\sin(3t)](s) &= \n",
    "\\mathcal{L}[\\sin(3t)](s-2)\\\\\n",
    "&= \\frac{3}{(s-2)^2 + 3^2}\n",
    "\\end{align*}\n",
    "````"
   ]
  },
  {
   "cell_type": "markdown",
   "metadata": {},
   "source": [
    "````{prf:example} Finding $\\mathcal{L}[e^{at}\\cos(\\omega t)](s)$\n",
    "\n",
    "To find $\\mathcal{L}[e^{at}\\cos(\\omega t)](s)$ using the $s$-shift we follow similar steps to {prf:ref}`example:e2tsin3t` using $\\mathcal{L}[\\cos(\\omega t)](s) = s/(s^2+\\omega^2)$.\n",
    "\\begin{align*}\n",
    "\\mathcal{L}[e^{at}\\cos(\\omega t)](s) &=\\mathcal{L}[\\cos(\\omega t)](s-a)\\\\\n",
    "&= \\frac{s-a}{(s-a)^2 + \\omega^2}\n",
    "\\end{align*}\n",
    "```` "
   ]
  },
  {
   "cell_type": "markdown",
   "metadata": {},
   "source": [
    "\n",
    "````{prf:definition} Rational Function\n",
    ":label: def_rational_fxn\n",
    "\n",
    "A **rational function** is a function that can be written in the form \n",
    "\n",
    "$$\n",
    "f(x) = \\frac{p(x)}{q(x)}\n",
    "$$\n",
    "where both $p(x)$ and $q(x)$ are polynomials.\n",
    "````"
   ]
  }
 ],
 "metadata": {
  "language_info": {
   "name": "python"
  }
 },
 "nbformat": 4,
 "nbformat_minor": 2
}
