{
 "cells": [
  {
   "cell_type": "markdown",
   "metadata": {},
   "source": [
    "# The $s$-shift\n",
    "\n",
    "## Intended Learning Outcomes\n",
    "By the end of this section, you should be able to:\n",
    "\n",
    "- State and apply the $s$-shift theorem:\n",
    "\n",
    "$$\n",
    "    \\mathcal{L}[e^{at}f(t)](s) = \\tilde{f}(s-a)\n",
    "$$\n",
    "- Explain the reasoning behind the $s$-shift using the definition of the transform.\n",
    "- Use the $s$-shift property to compute transforms like $\\mathcal{L}[e^{-6t}t^2](s)$ in terms of the transform of $\\mathcal{L}[t^2](s)$. \n",
    "-Apply the $s$-shift approach in reverse to find $f(t)$ from functions of $s-a$ for some $a$."
   ]
  },
  {
   "cell_type": "markdown",
   "metadata": {},
   "source": [
    "\n",
    "## Introduction\n",
    "In differential equations solutions, we often encounter functions that are the product of an exponential and another function.  For example, \n",
    "- one solution to the differential equation $f''(t)-4f'(t) + 4f(t)=0$ is $te^{2t}$.\n",
    "- one solution to the differential equation $f''(t) -4 f'(t) + 13f(t) = 0$ is $e^{2t} \\cos(3t)$.\n",
    "\n",
    "It turns out that the transform of $e^{at} f(t)$ is closely related to the transform of $f(t)$.\n",
    "````{prf:theorem} The $s$-shift\n",
    ":label: thm:s-shift\n",
    "\n",
    "If the Laplace Transform of $f(t)$ is $\\tilde{f}(s)$, then \n",
    "\n",
    "$$\n",
    "\\mathcal{L}[e^{at}f(t)](s) = \\tilde{f}(s-a)\n",
    "$$\n",
    "````\n",
    "\n",
    "To verify this, we use the definition of the Laplace Transform.\n",
    "\n",
    "\\begin{align*}\n",
    "\\mathcal{L}[e^{at}f(t)](s) &= \\int_0^\\infty e^{at} f(t) e^{-st} \\, dt\\\\\n",
    "&= \\int_0^\\infty f(t) e^{(a-s)t} \\, dt\n",
    "\\end{align*}\n",
    "If we set $s^* = s-a$, then the integral is\n",
    "\\begin{align*}\n",
    "\\mathcal{L}[e^{at}f(t)](s) &= \\int_0^\\infty e^{-s^*t} \\, dt\\\\\n",
    "&= \\tilde{f}(s^*)\\\\\n",
    "&= \\tilde{f}(s-a)\n",
    "\\end{align*}\n",
    "To get the next-to-last line, we observe that the integral looks exactly like the definition of the Laplace Transform, but with $s^*$ rather than $s$.  Then we substitute for $s^*$ in terms of $s$."
   ]
  },
  {
   "cell_type": "markdown",
   "metadata": {},
   "source": [
    "## Examples\n",
    "\n",
    "We now look at several examples using the $s$-shift. \n",
    "\n",
    "It is generally better practice when taking the transform to use $\\mathcal{L}[e^{at}f(t)](s) = \\mathcal{L}[f(t)](s-a)$ Then find $\\mathcal{L}[f(t)](s)$ but use $s-a$.  You could use the equivalent statment $\\mathcal{L}[e^{at}f(t)](s) = \\tilde{f}(s-a)$.  This second option requires shifting $s$ and finding the transform of $f$ in one step, which often leads to Algebra errors.\n",
    "\n",
    "````{prf:example} Finding $\\mathcal{L}[e^{-2t}t^2](s)$\n",
    "\n",
    "To find $\\mathcal{L}[e^{-2t}t^2](s)$, we use the $s$-shift and the rule from {numref}`Lap:Table` {ref}`Lap:Table` that $\\mathcal{L}[t^n](s) = n!/s^{n+1}$.\n",
    "\n",
    "We have\n",
    "\\begin{align*}\n",
    "\\mathcal{L}[e^{-2t}t^2](s)&= \\mathcal{L}[t^2](s+2)\\\\\n",
    "&= \\frac{2!}{(s+2)^3}\n",
    "\\end{align*}\n",
    "````"
   ]
  },
  {
   "cell_type": "markdown",
   "metadata": {},
   "source": [
    "````{prf:example} Finding $\\mathcal{L}[e^{2t}\\sin(3t)](s)$\n",
    ":label: example:e2tsin3t\n",
    "\n",
    "We will find $\\mathcal{L}[e^{2t}\\sin(3t)](s)$ *without* using the entry in the table for $e^{at}\\sin(\\omega t)$.  Instead we will use the $s$-shift and the fact that $\\mathcal{L}[\\sin(\\omega t)] = \\omega/(s^2+\\omega^2)$\n",
    "\n",
    "We have\n",
    "\\begin{align*}\n",
    "\\mathcal{L}[e^{2t}\\sin(3t)](s) &= \n",
    "\\mathcal{L}[\\sin(3t)](s-2)\\\\\n",
    "&= \\frac{3}{(s-2)^2 + 3^2}\n",
    "\\end{align*}\n",
    "````"
   ]
  },
  {
   "cell_type": "markdown",
   "metadata": {},
   "source": [
    "````{prf:example} Finding $\\mathcal{L}[e^{at}\\cos(\\omega t)](s)$\n",
    "\n",
    "To find $\\mathcal{L}[e^{at}\\cos(\\omega t)](s)$ using the $s$-shift we follow similar steps to {prf:ref}`example:e2tsin3t` using $\\mathcal{L}[\\cos(\\omega t)](s) = s/(s^2+\\omega^2)$.\n",
    "\\begin{align*}\n",
    "\\mathcal{L}[e^{at}\\cos(\\omega t)](s) &=\\mathcal{L}[\\cos(\\omega t)](s-a)\\\\\n",
    "&= \\frac{s-a}{(s-a)^2 + \\omega^2}\n",
    "\\end{align*}\n",
    "```` "
   ]
  },
  {
   "cell_type": "markdown",
   "metadata": {},
   "source": [
    "````{prf:example} Using the $s$ shift to invert: $\\mathcal{L}^{-1}[(s)/((s-2)^2+9)](t)$\n",
    "\n",
    "To find $f(t)$ if \n",
    "\n",
    "$$\\tilde{f}(s) = \\frac{s}{(s-2)^2+3^2}$$\n",
    "we could use the Laplace transform table entry for $e^{at}\\cos(\\omega t)$ and $e^{at}\\sin(\\omega t)$.  However, let's assume that we don't have that, and instead we just have\n",
    "\\begin{align*}\n",
    "\\mathcal{L}[\\cos(\\omega t)](s) &= \\frac{s}{s^2+\\omega^2}\\\\\n",
    "\\mathcal{L}[\\sin(\\omega t)](s) &= \\frac{\\omega}{s^2+\\omega^2}\n",
    "\\end{align*}\n",
    "\n",
    "To use the $s$-shift, we need every appearance of $s$ to be in the form $s-a$.  The easiest way to do this is to take $a=2$ and make the numerator of $\\tilde{f}(s)$ into $(s-2)+2$.\n",
    "\n",
    "$$\n",
    "\\tilde{f}(s) = \\frac{s-2}{(s-2)^2 + 3^2} + \\frac{2}{(s-2)^2+3^2}\n",
    "$$\n",
    "Then the first term looks like the transform of $\\cos(3t)$ but with $s-2$ everywhere $s$ appears.  The second term can be made to look like the transform of $\\sin(3t)$ if we rewrite it as $(2/3) \\frac{3}{(s-2)^2+3^2}$.\n",
    "\\begin{align*}\n",
    "f(t) &= \\mathcal{L}^{-1}[\\tilde{f}(s)](t)\\\\\n",
    "&= \\mathcal{L}^{-1}\\left[\\frac{s-2}{(s-2)^2 + 3^2} + \\frac{2}{3}\\frac{3}{(s-2)^2+3^2}\\right](t)\\\\\n",
    "&= e^{2t} \\mathcal{L}^{-1}\\left[\\frac{s}{s^2+3^2}\\right](t) +  \\frac{2e^{2t}}{3}\\mathcal{L}^{-1}\\left[\\frac{3}{s^2+3^2}\\right](t)\\\\\n",
    "&= e^{2t}\\cos(3t) + \\frac{2e^{2t}}{3}\\sin(3t)\n",
    "\\end{align*}\n",
    "\n",
    "In \n",
    "{numref}`sec:quadPF` \n",
    "we will learn another way to get to $\\tilde{f}(s) = \\frac{(s-2) + (2/3) 3}{(s-2)^2+3^2}$.\n",
    "````"
   ]
  },
  {
   "cell_type": "markdown",
   "metadata": {},
   "source": [
    "## Self Test\n",
    "\n",
    "1. Use the $s$-shift and the transform of $\\cos(\\omega t)$ to verify the formula in the transform table for $e^{at}\\cos(\\omega t)$\n",
    "2. Use the $s$-shift and the transform of $1$ to verify the formula in the transform table for $e^{at}$.\n",
    "3.  Apply the $s$-shift and the transform of $t^n$ to find\n",
    "$\\mathcal{L}^{-1}\\left[\\frac{1}{(s-4)^3}\\right](t)$."
   ]
  }
 ],
 "metadata": {
  "kernelspec": {
   "display_name": "Octave (xeus)",
   "name": "xoctave"
  },
  "language_info": {
   "name": "python"
  }
 },
 "nbformat": 4,
 "nbformat_minor": 2
}
