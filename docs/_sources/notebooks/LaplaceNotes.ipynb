{
 "cells": [
  {
   "cell_type": "markdown",
   "metadata": {},
   "source": [
    "# Notes\n",
    "This section is used for explanatory points.\n",
    "\n",
    "<!-- \n",
    "(LimitsAndInfinity)=\n",
    "## Infinity and limits\n",
    "In \n",
    "{ref}`LaplaceDefIntro`\n",
    "we went through some trouble to find limits as $b \\to \\infty$, rather than just using $b=\\infty$.  Then we effectively said, \"we won't go through that trouble any more\".  Indeed, you may have never encountered a case where that effort is needed.  \n",
    "This could lead to the question, \"why do we ever bother to go through that trouble?\"  The fact is, we are taking a mathematical shortcut.  When you take a shortcut on any procedure, it's important to know what could go wrong. -->\n",
    "\n",
    "\n",
    "## Quadratic Formula\n",
    "\n",
    "## Integration by Parts\n"
   ]
  },
  {
   "cell_type": "code",
   "execution_count": null,
   "metadata": {},
   "outputs": [
    {
     "ename": "",
     "evalue": "",
     "output_type": "error",
     "traceback": [
      "\u001b[1;31mFailed to start the Kernel. \n",
      "\u001b[1;31mThe kernel died. Error: ... View Jupyter <a href='command:jupyter.viewOutput'>log</a> for further details."
     ]
    }
   ],
   "source": [
    "1+1\n",
    "import matplotlip.pyplot as plt"
   ]
  },
  {
   "cell_type": "code",
   "execution_count": null,
   "metadata": {},
   "outputs": [
    {
     "data": {
      "text/plain": [
       "5"
      ]
     },
     "execution_count": 2,
     "metadata": {},
     "output_type": "execute_result"
    }
   ],
   "source": [
    "2+3"
   ]
  },
  {
   "cell_type": "code",
   "execution_count": null,
   "metadata": {},
   "outputs": [],
   "source": []
  },
  {
   "cell_type": "markdown",
   "metadata": {},
   "source": []
  },
  {
   "cell_type": "code",
   "execution_count": null,
   "metadata": {},
   "outputs": [],
   "source": []
  }
 ],
 "metadata": {
  "kernelspec": {
   "display_name": "Octave",
   "language": "octave",
   "name": "octave"
  },
  "language_info": {
   "codemirror_mode": {
    "name": "ipython",
    "version": 3
   },
   "file_extension": ".py",
   "mimetype": "text/x-python",
   "name": "octave",
   "nbconvert_exporter": "python",
   "pygments_lexer": "ipython3",
   "version": "3.11.4"
  }
 },
 "nbformat": 4,
 "nbformat_minor": 2
}
