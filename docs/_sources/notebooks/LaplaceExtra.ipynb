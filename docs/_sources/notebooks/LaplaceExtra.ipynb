{
 "cells": [
  {
   "cell_type": "markdown",
   "metadata": {},
   "source": [
    "# Optional Extensions\n",
    "\n",
    "This section consists of extra material which is considered optional for MAT2VCA.  However, it might be of interest to students who want to expand their understanding of the Laplace Transform.\n"
   ]
  },
  {
   "cell_type": "markdown",
   "metadata": {},
   "source": [
    "(sec:LapMult_t)=\n",
    "## Multiplication by $t$\n",
    "\n",
    "If the function $f(t)$ has transform $\\mathcal{L}[f(t)](s) = \\int_0^\\infty f(t)e^{-st} \\, dt$, we can find the transform of $t f(t)$.  Typically we would see the integral\n",
    "\n",
    "$$\n",
    "\\int_0^\\infty t f(t) e^{-st} \\, dt\n",
    "$$\n",
    "and possibly try integrating by parts, depending on exactly what $f(t)$ is.  However there is a method that requires less effort.\n",
    "\n",
    "We start with the observation that\n",
    "\n",
    "\\begin{align*}\n",
    "\\frac{d}{ds} \\tilde{f}(s) &= \\frac{d}{ds}\\int_0^\\infty f(t) e^{-st} \\, dt\\\\\n",
    "&= \\int_0^\\infty \\frac{\\partial}{\\partial s} f(t) e^{-st} \\, dt\n",
    "\\end{align*}\n",
    "(**note**: The reason that we can swap the order of integration with respect to $t$ and differentiation with respect to $s$ is that integration in $t$ can be thought of as a sum of many terms.  Since the derivative of a sum is the sum of the derivatives, the integral basically inherits this property from the rule for a finite sum --- with a few special conditions to do with ensuring that derivatives don't approach infinity or similar concerns).\n",
    "\n",
    "When we take the derivative with respect to $s$, we get\n",
    "\\begin{align*}\n",
    "\\frac{d}{ds} \\tilde{f}(s)  &= \\int_0^\\infty f(t)(-t) e^{-st}\\\\\n",
    "&= - \\mathcal{L}[tf(t)](s) \n",
    "\\end{align*}\n",
    "So for any function $f(t)$ whose Laplace Transform is $\\tilde{f}(s)$, the transform of $t f(t)$ is\n",
    "\n",
    "$$\n",
    "\\mathcal{L}[tf(t)](s) = - \\frac{d}{ds} \\tilde{f}(s)\n",
    "$$(eq:Lap_mult_by_t)\n",
    "\n",
    "### Self-test\n",
    "1. Use Equation {eq}`eq:Lap_mult_by_t` and induction to derive the transform of $t^n$ for $n = 1,2,\\ldots$.  "
   ]
  },
  {
   "cell_type": "markdown",
   "metadata": {},
   "source": [
    "\n",
    "## A more concrete interpretation of the Laplace Transform\n",
    "\n",
    "The benefit of the Laplace Transform for solving differential equations relates to the fact that it transforms differential equations to algebraic equations.  I am not aware of a good interpretation of the numerical value of $\\tilde{f}(s)$ in this context.  However, the Laplace Transform shows up in other real-world settings.  It may be useful to think about this, if for no other reason than to clarify that $s$ really is a completely different variable from $t$.\n",
    "\n",
    "### Financial and Biological context\n",
    "Assume that someone is offering to sell you an offer: for a price of $X$ dollars now, he will give you money at some rate $f(t)$ for as long as you live.  We'd like to decide if this is a good deal or not.\n",
    "\n",
    "Having \\$ 1 today is generally worth more now than having \\$ 1 on some day in the future.  There are multiple reasons for this: \n",
    "- inflation reduces the value of money over time.\n",
    "- you might expect that your salary will go as you gain expertise so the relative impact of \\$ 1 today is higher.\n",
    "- you might not be alive at some given day in the future (would you pay \\$ 100 today for the promise to receive \\$ 100 million in 120 years?).\n",
    "- you might simply be impulsive and always want to spend money right now.\n",
    "\n",
    "Let's say we measure time in units of years and we assume that the value of \\$ 1 to you goes down at a constant rate $s$ as you look farther into the future.  This means that you would be willing to pay $100 e^{-st}$ dollars today to receive 100 dollars $t$ years from now.  For many people, $s$ would be around $0.05$, meaning that they would be willing to pay around \\$95.10 $\\approx $ \\$ $100e^{0.05}$ today to get \\$100 a year from now and around \\$90.50 $\\approx$ \\$ $100e^{-0.1}$ today to get \\$100 in two years.  This value $s$ is commonly called a discount rate.  We will make a simplifying assumption that for a given individual, the same discount rate $s$ applies for time into the future.\n",
    "\n",
    "Someone is promising to pay you consistently over time at rate $f(t)$ for the rest of your life.  Given your personal choice of $s$, the total value of this is found by adding up all of the future money weighted by how much you would discount it.  That is, the value to you is $\\tilde{f}(s) = \\int_0^\\infty f(t)e^{-st} \\, dt$. \n",
    "\n",
    "So you would be willing to accept the offer if the cost is less than the Laplace Transform of the payout rate evaluated at your personal discount rate.  Different people will have different discount rates.  \n",
    "\n",
    "\n",
    "### Self Test\n",
    "1. For a given offer $f(t)$, can you see intuitively why someone with a higher discount rate would be less interested (and less willing to pay for it)?  Look at the Transform Table and note how the transforms behave as $s$ gets large and verify that this is consistent with your intuition.\n",
    "2. Can you see why for a given function $f(t) = e^{at}$, if $a$ is greater than your discount rate, you would find this offer incredibly valuable?\n",
    "3. Assume someone plans to make you an offer like this at some future time $a$.  Then at time $a$, it would be worth $\\tilde{f}(s)$ in terms of time $a$ dollars.  However, those time $a$ dollars are each worth $e^{-sa}$ to you right now.  What is the value of this future offer in current dollars?  Can you relate the current value to the $t$-shift?\n",
    "4. To make the offer worth more to you, the person decides to make an offer that increases at a constant rate over time, so that it grows at rate $a$.  Thus he is offering you payment at rate $f(t) e^{at}$.  Your own personal discount rate is $s$.   Now consider Alexis who has a personal discount rate that is smaller than yours, so that her discount rate is $s-a$.  By looking at the integral used to calculate the current value of the offer, explain why the current value of the offer $f(t) e^{at}$ to you is the same as the value of the offer $f(t)$ to Alexis.  Can you relate this to the $s$ shift?\n",
    "5. Consider an animal species that has offspring at rate $f(t)$ where $t$ is measured as time since birth.  The mortality rate for this species is constant, at rate $s$, so that the probability of still being alive at time $t$ is $e^{-st}$.  Following the techniques in deriving the financial value of the offer $f(t)$, explain why the expected number of offspring during a lifetime is $\\tilde{f}(s)$. \n",
    "6. If $s$ is large, use biological reasoning to explain why the species would tend to evolve towards a function $f(t)$ (where $t$ is the time since hatching) that is larger at smaller values of $t$, even if it means reducing $f(t)$ for larger $t$.  Assume that a fish species produces offspring at rate $a H_a(t)$ and over time can evolve to have a smaller or larger value of $a$, but is constrained to keep this general form.  \n",
    "    - Explain why smaller $a$ corresponds to earlier production of offspring, but less offspring if the fish lives for a long period of time.\n",
    "    - Industrial scale fishing for this species begins, resulting in an increased mortality rate $s$.  \n",
    "    - Calculate the expected number of offspring as a function of $a$ and $s$.  \n",
    "    - For a given fixed value of $s$, determine the value of $a$ that maximizes offspring.  Show that $a$ decreases if $s$ increases.\n",
    "\n",
    "This explains an observation that following large-scale fishing, the fish species tend to evolve to mature faster and have smaller adult sizes.\n"
   ]
  },
  {
   "cell_type": "markdown",
   "metadata": {},
   "source": []
  }
 ],
 "metadata": {
  "language_info": {
   "name": "python"
  }
 },
 "nbformat": 4,
 "nbformat_minor": 2
}
