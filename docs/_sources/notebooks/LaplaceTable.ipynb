{
 "cells": [
  {
   "cell_type": "markdown",
   "metadata": {},
   "source": [
    "(Lap:Table)=\n",
    "# A table of Laplace Transforms\n",
    "\n",
    "In previous sections, we have derived a number of transforms.  These (and a few additional transforms) are collected in this table.\n",
    "\n",
    "|Function|Transform|Comment|\n",
    "|---|---|---|\n",
    "| $f(t)$| $\\mathcal{L}[f(t)](s)$, $\\tilde{f}(s)$|Notation|\n",
    "|$f(t)$ | $\\int_0^{\\infty} f(t)e^{-st} dt$ | Definition |\n",
    "|$1$, $H_0(t)$| $\\frac{1}{s}$ | $H_0$ is the step function |\n",
    "|$H_a(t)=H_0(t-a)$ | $\\frac{e^{-as}}{s}$ | $a>0$ |\n",
    "|$t$ | $\\frac{1}{s^2}$ | |\n",
    "|$t^n$, $n \\in \\mathbb{N}$  | $\\frac{n!}{s^{n+1}}$ | |\n",
    "|$e^{at}$ | $\\frac{1}{s-a}$ | $s>a$ |\n",
    "|$\\sin(\\omega t)$ | $\\frac{\\omega}{s^2+\\omega^2}$ | |\n",
    "|$\\cos(\\omega t)$ | $\\frac{s}{s^2+\\omega^2}$ | |\n",
    "|$e^{at}\\sin(\\omega t)$ | $\\frac{\\omega}{(s-a)^2+\\omega^2}$ | $s>a$ |\n",
    "|$e^{at}\\cos(\\omega t)$ | $\\frac{s-a}{(s-a)^2+\\omega^2}$ | $s>a$  |\n",
    "|$f'(t)$ | $s\\tilde{f}(s)-f(0)$ |Derivative |\n",
    "|$f''(t)$ | $s^2\\tilde{f}(s)-sf(0)-f'(0)$ | |\n",
    "|$e^{at}f(t)$ | $\\tilde{f}(s-a)$ | $s$-shift |\n",
    "|$H_a(t)f(t-a)$ | $e^{-as}\\tilde{f}(s)$ | $t$-shift, $a>0$ |\n",
    "|$H_a(t)\\mathcal{L}^{-1}[\\tilde{f}(s)](t-a)$ |$e^{-as}\\tilde{f}(s)$ | $t$-shift, $a>0$ |\n",
    "|$af(t)$ | $a\\tilde{f}(s)$ | Linearity |%\n",
    "|$a f(t)+bg(t)$ | $a \\tilde{f}(s)+b\\tilde{g}(s)$ | Linearity |"
   ]
  },
  {
   "cell_type": "markdown",
   "metadata": {},
   "source": []
  }
 ],
 "metadata": {
  "language_info": {
   "name": "python"
  }
 },
 "nbformat": 4,
 "nbformat_minor": 2
}
