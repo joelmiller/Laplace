{
 "cells": [
  {
   "cell_type": "markdown",
   "metadata": {},
   "source": [
    "(Lap:Table)=\n",
    "# A table of Laplace Transforms\n",
    "\n",
    "In previous sections, we have derived a number of transforms.  These (and a few additional transforms) are collected in this table.\n",
    "\n",
    "Some of the rows show the same information but in different form.  This is because it depending on whether one is finding the transform or inverting the transform it is sometimes easier to use one form over the other.\n",
    "\n",
    "|Function|Transform|Comment|ID|\n",
    "|---|---|---|--:|\n",
    "| $f(t)$| $\\mathcal{L}[f(t)](s)$, $\\tilde{f}(s)$|Notation|1|\n",
    "|$f(t)$ | $\\int_0^{\\infty} f(t)e^{-st} dt$ | Definition |2|\n",
    "|$1$, $H_0(t)$| $\\frac{1}{s}$ | $H_0$ is the step function |3|\n",
    "|$H_a(t)=H_0(t-a)$ | $\\frac{e^{-as}}{s}$ | $a>0$ |4|\n",
    "|$t$ | $\\frac{1}{s^2}$ | |5|\n",
    "|$t^n$, $n \\in \\mathbb{N}$  | $\\frac{n!}{s^{n+1}}$ | |6|\n",
    "|$e^{at}$ | $\\frac{1}{s-a}$ | $s>a$ |7|\n",
    "|$\\sin(\\omega t)$ | $\\frac{\\omega}{s^2+\\omega^2}$ | |8|\n",
    "|$\\cos(\\omega t)$ | $\\frac{s}{s^2+\\omega^2}$ | |9|\n",
    "|$e^{at}\\sin(\\omega t)$ | $\\frac{\\omega}{(s-a)^2+\\omega^2}$ | $s>a$ |10|\n",
    "|$e^{at}\\cos(\\omega t)$ | $\\frac{s-a}{(s-a)^2+\\omega^2}$ | $s>a$  |11|\n",
    "|$f'(t)$ | $s\\tilde{f}(s)-f(0)$ |Derivative | 12|\n",
    "|$f''(t)$ | $s^2\\tilde{f}(s)-sf(0)-f'(0)$ | |13|\n",
    "|$e^{at}f(t)$ | $\\tilde{f}(s-a)$<br> or equivalently <br>  $\\mathcal{L}[f(t)](s-a)$| $s$-shift | 14|\n",
    "|$H_a(t)f(t-a)$ <br> or equivalently <br> $H_a(t)\\mathcal{L}^{-1}[\\tilde{f}(s)](t-a)$ | $e^{-as} \\mathcal{L}[f(t)](s)$<br> or equivalently <br> $e^{-as}\\tilde{f}(s)$ | $t$-shift, $a>0$ | 15|\n",
    "|$H_a(t)f(t)$ | $e^{-as}\\mathcal{L}[f(t+a)](s)$ | $t$-shift, $a>0$ |16|\n",
    "|$af(t)$ | $a\\tilde{f}(s)$ | Linearity | 17|%\n",
    "|$a f(t)+bg(t)$ | $a \\tilde{f}(s)+b\\tilde{g}(s)$ | Linearity | 18|\n",
    "|$tf(t)$ | $-\\frac{d}{ds} \\tilde{f}(s)$ | from optional {numref}`sec:LapMult_t` |19|"
   ]
  }
 ],
 "metadata": {
  "language_info": {
   "name": "python"
  }
 },
 "nbformat": 4,
 "nbformat_minor": 2
}
