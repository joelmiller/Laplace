{
 "cells": [
  {
   "cell_type": "markdown",
   "metadata": {},
   "source": [
    "# Inverting the Laplace Transform"
   ]
  },
  {
   "cell_type": "markdown",
   "metadata": {},
   "source": [
    "define $\\mathcal{L}^{-1}$"
   ]
  }
 ],
 "metadata": {
  "language_info": {
   "name": "python"
  },
  "kernelspec": {
   "name": "xoctave",
   "display_name": "Octave (xeus)"
  }
 },
 "nbformat": 4,
 "nbformat_minor": 2
}