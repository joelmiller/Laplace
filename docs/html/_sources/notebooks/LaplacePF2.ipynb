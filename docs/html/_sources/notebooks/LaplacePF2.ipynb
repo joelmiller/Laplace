{
 "cells": [
  {
   "cell_type": "markdown",
   "metadata": {},
   "source": [
    "# Inverting the Laplace Transform with Partial Fractions --- higher order denominators"
   ]
  },
  {
   "cell_type": "markdown",
   "metadata": {},
   "source": [
    "## Finding $\\mathcal{L}^{-1}[p(s)/q(s)](t)$ when $q(s)$ is cubic or higher order\n",
    "\n",
    "When $\\tilde{f}(s) = \\frac{p(s)}{q(s)}$ where $q(s)$ is cubic or higher order the process is similar.  We must again factor $q(s)$.  It is likely that we will be able to identify some of the factors of $q(s)$ directly by observing how $q(s)$ was constructed, but otherwise we may need to use more complicated methods to find the factors.\n",
    "\n",
    "We will assume for now that we know the factorization of $q(s)$.  In general the factorization may have multiple real roots, multiple complex roots, and multiple repeated roots.  We will **assume** that no complex roots are repeated, so only the real roots may be repeated.\n",
    "\n",
    "Similarly to when $q(s)$ is quadratic, we will write $q(s)$ as a partial fraction deocmposition that depends on how $q(s)$ factors.  We will start with examples and then give the full approach.\n",
    "\n",
    "\n",
    "### Distinct real roots\n",
    "\n",
    "Assume we want to find $f(t)$ where $\\tilde{f}(s) = p(s)/q(s)$ and $q(s)$ factors into terms of the form $(s-a)$.  Further assume all of these factors are *distinct* (that is, none are repeated).\n",
    "\n",
    "For example, consider $q(s) = (s-a)(s-b)(s-c)$.  Then we take \n",
    "\n",
    "$$\n",
    "\\frac{p(s)}{q(s)} = \\frac{A}{s-a} + \\frac{B}{s-b} + \\frac{C}{s-c}\n",
    "$$\n",
    "\n",
    "The steps from here proceed as in the quadratic case. \n",
    "- We multiply by $q(s)$\n",
    "- We set $s=a$, $s=b$, and $s=c$ to identify each coefficient.  \n",
    "- Finally we take the Inverse Laplace Transform of the resulting sum to find $f(t)$.\n",
    "\n",
    "````{prf:example} Distinct real roots\n",
    ":label: example:distinct\n",
    "\n",
    "Consider \n",
    "\n",
    "$$\n",
    "\\frac{p(s)}{q(s)} = \\frac{}{(s-1)(s-2)(s-3)}\n",
    "$$\n",
    "\n",
    "We set\n",
    "\\begin{align*}\n",
    "\\frac{p(s)}{q(s)} &= \\frac{A}{s-1} + \\frac{B}{s-2} + \\frac{C}{s-3}\\\\\n",
    "\\Rightarrow \\quad \n",
    "4s^2-17s+... &= A(s-2)(s-3) + B(s-1)(s-3) + C(s-1)(s-2)\n",
    "\\end{align*}#3, -1, 2\n",
    "\n",
    "Now we set $s=1$ and get\n",
    "\n",
    "$$\n",
    "6 = A(-1)(-2) \\quad \\Rightarrow \\quad A= 3\n",
    "$$\n",
    "\n",
    "Next we set $s=2$ and get\n",
    "\n",
    "$$\n",
    "1 = B(1)(-1)  \\quad \\Rightarrow \\quad B = -1\n",
    "$$\n",
    "\n",
    "Finally we set $s=3$ and get\n",
    "\n",
    "$$ \n",
    "4= C(2)(1) \\quad \\Rightarrow \\quad C=2\n",
    "$$\n",
    "````"
   ]
  },
  {
   "cell_type": "markdown",
   "metadata": {},
   "source": [
    "### Repeated roots\n",
    "\n",
    "````{prf:example} Repeated Roots\n",
    "\n",
    "If a factor $(s-a)$ is repeated $n$ times, then we include $\\frac{1}{(s-a)^j}$ for every $j$ from $1$ up to and including $n$.  So for example if $q(s) = (s-a)^3(s-b)^2(s-c)$, then we take\n",
    "\n",
    "$$\n",
    "\\frac{p(s)}{q(s)} = \\frac{A}{(s-a)^3} + \\frac{B}{(s-a)^2} + \\frac{C}{s-a} + \\frac{D}{(s-b)^2} + \\frac{E}{s-b} + \\frac{F}{s-c}\n",
    "$$\n",
    "Again we multiple"
   ]
  }
 ],
 "metadata": {
  "language_info": {
   "name": "python"
  }
 },
 "nbformat": 4,
 "nbformat_minor": 2
}
