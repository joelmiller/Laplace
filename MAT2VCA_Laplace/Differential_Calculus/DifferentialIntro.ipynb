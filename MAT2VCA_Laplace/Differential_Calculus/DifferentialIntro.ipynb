{
 "cells": [
  {
   "cell_type": "markdown",
   "metadata": {},
   "source": [
    "# Derivatives in higher dimension and their applications\n",
    "\n",
    "This chapter is a placeholder for material on taking derivatives in higher dimension.\n",
    "\n",
    "Long-term, the plan is to move all of the existing MAT2VCA notes to this format.  However, currently it only contains the material that is new to 2025, Lagrange Multipliers."
   ]
  }
 ],
 "metadata": {
  "language_info": {
   "name": "python"
  }
 },
 "nbformat": 4,
 "nbformat_minor": 2
}
