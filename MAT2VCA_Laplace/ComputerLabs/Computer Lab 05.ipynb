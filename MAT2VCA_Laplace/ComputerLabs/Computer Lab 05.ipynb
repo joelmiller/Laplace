{
 "cells": [
  {
   "cell_type": "markdown",
   "id": "4b7bd5",
   "metadata": {
    "collapsed": false
   },
   "source": []
  },
  {
   "cell_type": "markdown",
   "id": "469196",
   "metadata": {
    "collapsed": false
   },
   "source": [
    "# Cylindrical Coordinates and Unit Vectors\n",
    "\n",
    "In this lab we will look at cylindrical coordinates.\n",
    "\n",
    "For visualization purposes, it may be helpful to copy and past some of the code into matlab running on the computer (rather than octave over the cloud) and run it so that you can interact with the resulting plots\n",
    "\n",
    "In Cylindrical coordinates, we define a point $(x,y,z)$ by three variables:\n",
    "\n",
    "- $\\rho$, the distance from the $z$ axis to $(x,y,z)$\n",
    "- $z$, the height above (or below) the $xy$ plane of $(x,y,z)$.\n",
    "- $\\theta$, the angle measured counterclockwise from the positive $x$-axis to the point $(x,y,0)$ that is the projection of $(x,y,z)$ onto the $xy$-plane.\n",
    "\n",
    "We will plot surfaces with constant values of each of these variables and also look at vectors perpendicular to them.\n",
    "\n",
    "Before we do this, we look at a few relations to get from cylindrical coordinates to Cartesian coordinates.  Given values $\\rho$, $\\theta$, and $z$, we can find the Cartesian coordinates:\n",
    "\\begin{align*}\n",
    "x &= \\rho \\cos(\\theta)\\\\\n",
    "y &= \\rho \\sin(\\theta)\\\\\n",
    "z &= z\n",
    "\\end{align*}\n",
    "The relations for $x$ and $y$ can be found by drawing the right traiangle at the origin with the given $\\theta$ and $\\rho$.  These will be useful for helping us plot surfaces of constant $\\rho$, $\\theta$, or $z$.\n",
    "\n"
   ]
  },
  {
   "cell_type": "markdown",
   "id": "1988a3",
   "metadata": {
    "collapsed": false
   },
   "source": [
    "## Surfaces of constant $\\rho$\n",
    "\n",
    "We will take $\\rho$ to be constant and vary $\\theta$ and $z$.  If you think about this, you should agree that this will resemble the side boundary of a cylinder."
   ]
  },
  {
   "cell_type": "code",
   "execution_count": 0,
   "id": "5538f4",
   "metadata": {
    "collapsed": false
   },
   "outputs": [],
   "source": [
    "rho = 5\n",
    "\n",
    "theta = [0:pi/20:2*pi];\n",
    "z = [-2:0.2:2];\n",
    "\n",
    "[Theta, Z] = meshgrid(theta, z);\n",
    "\n",
    "X = rho*cos(Theta);\n",
    "Y = rho*sin(Theta);\n",
    "\n",
    "surf(X,Y,Z)\n"
   ]
  },
  {
   "cell_type": "markdown",
   "id": "5fad35",
   "metadata": {
    "collapsed": false
   },
   "source": [
    "In Cartesian coordinates, the surface above is given by $x^2+y^2 = 5^2$.\n",
    "\n",
    "More generally, for arbitrary $\\rho$ the surface is $x^2+y^2 = \\rho^2$.   Notice that for each $\\rho$, this is a level set of the function $f(x,y,z) = x^2+y^2$.\n",
    "\n",
    "Since $\\nabla f(x,y,z)$ is orthogonal to level sets of $f$ (and points in the direction of increasing $f$), we can find a vector that is perpendicular to the surface $f(x,y) = \\rho_0^2$, that is it is perpendicular to the surface defined by specifying $\\rho=\\rho_0$.\n",
    "\n",
    "We find \n",
    "\n",
    "\\begin{align*}\n",
    "\\nabla f(x,y,z) &= \\frac{\\partial f}{\\partial x} \\vec{i} + \\frac{\\partial f}{\\partial y} \\vec{j} + \\frac{\\partial f}{\\partial z} \\vec{k}\\\\\n",
    "&= 2x \\vec{i} + 2y \\vec{j}\n",
    "\\end{align*}\n",
    "We will use a special symbol for the unit vector in this direction at any $(x,y,z)$.  We will call it $\\vec{e}_r$.  We have\n",
    "\n",
    "\\begin{align*}\n",
    "\\vec{e}_r &= \\frac{ 2x \\vec{i} + 2 y \\vec{j}}{\\| 2x \\vec{i} + 2 y \\vec{j}\\|}\\\\\n",
    "&= 2\\frac{x\\vec{i} + y \\vec{j}}{\\sqrt{4x^2+4y^2}}\\\\\n",
    "&= \\frac{x \\vec{i} + y \\vec{j}}{\\sqrt{x^2+y^2}}\\\\\n",
    "&= \\frac{x \\vec{i} + y \\vec{j}}{\\rho}\\\\\n",
    "&= \\frac{x}{\\rho} \\vec{i} + \\frac{y}{\\rho} \\vec{j}\\\\\n",
    "&= \\cos(\\theta) \\vec{i} + \\sin(\\theta)\\vec{j}\n",
    "\\end{align*}\n",
    "So at any point $(x,y)$ we have $\\vec{e}_\\rho$ points in the direction of increasing $\\rho$ (and is perpendicular to the cylinder $\\rho = \\sqrt{x^2+y^2}$.  \n",
    "\n",
    "Let's plot the surface of constant $\\rho=5$ again and then add plots of $\\vec{e}_r$ at many points on the surface."
   ]
  },
  {
   "cell_type": "code",
   "execution_count": 0,
   "id": "f7e5ad",
   "metadata": {
    "collapsed": false
   },
   "outputs": [],
   "source": [
    "rho = 5\n",
    "\n",
    "theta = [0:pi/10:2*pi];\n",
    "z = [-2:0.2:2];\n",
    "\n",
    "[Theta, Z] = meshgrid(theta, z);\n",
    "\n",
    "X = rho*cos(Theta);\n",
    "Y = rho*sin(Theta);\n",
    "\n",
    "surf(X,Y,Z)\n",
    "\n",
    "hold on\n",
    "\n",
    "quiver3(X,Y, Z, X/rho, Y/rho, zeros(size(X)), 'r')\n",
    "\n",
    "xlabel('x')\n",
    "ylabel('y')\n",
    "zlabel('z')\n",
    "title('plot showing surface of constant rho and e_rho for points on that surface')\n"
   ]
  },
  {
   "cell_type": "markdown",
   "id": "b11e04",
   "metadata": {
    "collapsed": false
   },
   "source": [
    "### Really important observation\n",
    "\n",
    "The vector $\\vec{e}_\\rho$ depends on exactly what point $(x,y,z)$ we have chosen.  It always points away from the $z$ axis.  "
   ]
  },
  {
   "cell_type": "code",
   "execution_count": 0,
   "id": "552bc9",
   "metadata": {
    "collapsed": false
   },
   "outputs": [],
   "source": []
  },
  {
   "cell_type": "markdown",
   "id": "ab7b5b",
   "metadata": {
    "collapsed": false
   },
   "source": [
    "## Surfaces of constant $z$\n",
    "\n",
    "Now we consider constant $z$, allowing $\\rho$ and $\\theta$ to change.  This should simply by the plane given by $z = \\text{constant}$."
   ]
  },
  {
   "cell_type": "code",
   "execution_count": 0,
   "id": "fe3a4a",
   "metadata": {
    "collapsed": false
   },
   "outputs": [],
   "source": [
    "rho = [0:0.1:2];\n",
    "\n",
    "theta = [0:pi/20:2*pi];\n",
    "z  = 5\n",
    "\n",
    "[Rho, Theta] = meshgrid(rho, theta);\n",
    "\n",
    "X = Rho.*cos(Theta);\n",
    "Y = Rho.*sin(Theta);\n",
    "Z = z*ones(size(X));\n",
    "surf(X,Y,Z)\n"
   ]
  },
  {
   "cell_type": "markdown",
   "id": "c955e0",
   "metadata": {
    "collapsed": false
   },
   "source": [
    "To find the unit vector in the direction of increasing $z$, we take the function $f(x,y,z) = z$ and find $\\nabla f$:\n",
    "\n",
    "\\begin{align*}\n",
    "\\nabla f(x,y,z) &= \\frac{\\partial f}{\\partial x} \\vec{i} + \\frac{\\partial f}{\\partial y} \\vec{j} + \\frac{\\partial f}{\\partial z} \\vec{k}\\\\\n",
    "&= \\vec{k}\n",
    "\\end{align*}\n",
    "\n",
    "We call the unit vector in this direction $\\vec{e}_z$, but we note that it equals $\\vec{k}$ everywhere."
   ]
  },
  {
   "cell_type": "code",
   "execution_count": 0,
   "id": "0eced3",
   "metadata": {
    "collapsed": false
   },
   "outputs": [],
   "source": [
    "rho = [0:0.2:2];\n",
    "\n",
    "theta = [0:pi/10:2*pi];\n",
    "z  = 5\n",
    "\n",
    "[Rho, Theta] = meshgrid(rho, theta);\n",
    "\n",
    "X = Rho.*cos(Theta);\n",
    "Y = Rho.*sin(Theta);\n",
    "Z = z*ones(size(X));\n",
    "surf(X,Y,Z)\n",
    "hold on\n",
    "quiver3(X,Y,Z, zeros(size(X)), zeros(size(Y)), ones(size(Z)), 'r')\n",
    "\n",
    "xlabel('x')\n",
    "ylabel('y')\n",
    "zlabel('z')\n",
    "title('plot showing surface of constant z and e_z for points on that surface')\n",
    "zlim([0,5.5])"
   ]
  },
  {
   "cell_type": "markdown",
   "id": "fef615",
   "metadata": {
    "collapsed": false
   },
   "source": [
    "### Somewhat important observation\n",
    "The vector $\\vec{e}_z$ points in the same direction for any point $(x,y,z)$.  That direction is up."
   ]
  },
  {
   "cell_type": "markdown",
   "id": "c1c9e4",
   "metadata": {
    "collapsed": false
   },
   "source": [
    "## Surfaces of constant $\\theta$.\n",
    "\n",
    "Now we consider constant $\\theta$, but allow $z$ and $\\rho$ to change.  If you think about this, you should agree that this will be a half plane that starts at the $z$ axis, and goes out in the direction corresponding to the angle $\\theta$.  We'll plot this for $\\theta= 0, 2\\pi/3$ and $4\\pi/3$\n",
    "\n"
   ]
  },
  {
   "cell_type": "code",
   "execution_count": 0,
   "id": "0db993",
   "metadata": {
    "collapsed": false
   },
   "outputs": [],
   "source": [
    "rho = [0:0.2: 2];\n",
    "z = [-2:0.4:2];\n",
    "\n",
    "[Rho, Z] = meshgrid(rho, z);\n",
    "\n",
    "figure()\n",
    "hold on\n",
    "\n",
    "for theta = [0, 2*pi/3, 4*pi/3];\n",
    "  X = Rho*cos(theta);\n",
    "  Y = Rho*sin(theta);\n",
    "  surf(X,Y,Z)\n",
    "end\n",
    "daspect([1,1])\n",
    "xlabel('x')\n",
    "ylabel('y')\n",
    "zlabel('z')\n",
    "\n",
    "view(-37.5, 30)"
   ]
  },
  {
   "cell_type": "markdown",
   "id": "b62137",
   "metadata": {
    "collapsed": false
   },
   "source": [
    "Before we try to find the directions perpendicular to these level sets we try to write $\\theta$ in terms of $x$ and $y$.  This is a bit challenging.  \n",
    "\n",
    "Let's first note that $\\tan(\\theta) = y/x$.\n",
    "\n",
    "This would imply $\\arctan(y/x) = \\theta$.  However, this is not always the case.  Notice that $y/x = (-y)/(-x)$.  So the point $(x,y)$ and $(-x,-y)$ will both have the same $\\tan(\\theta)$.  So taking $\\arctan(y/x)$ could give us the correct $\\theta$ or it could give us $\\theta - \\pi$.  The values that $\\arctan(y/x)$ can take are given by $-\\pi/2 < \\theta  <\\pi/2$.\n",
    "\n",
    "\\begin{align*}\n",
    "\\theta &= \\begin{cases}\n",
    "\\arctan(y/x) & x>0\\\\\n",
    "\\arctan(y/x) + \\pi & x<0\\\\\n",
    "\\pi/2 & x=0, y>0\\\\\n",
    "-\\pi/2 & x=0, y<0\n",
    "\\end{cases}\n",
    "\\end{align*}\n",
    "\n",
    "To illustrate that this really matches $\\theta$, we'll use some plots.  We'll set $\\theta$ to range from $-\\pi/2 to $3\\pi/2$ and $\\rho=1$.  We'll calculate $x$ and $y$ for these values.  We'll make two plots verifying that $x$ and $y$ are behaving as expected and that $\\tan(\\theta) = y/x$.  Then we'll compare matlab's `atan(y/x)` function and the function described above with $\\theta$ in a third plot.\n",
    "\n",
    "Note that the interface we have here will show these plots in reverse order."
   ]
  },
  {
   "cell_type": "code",
   "execution_count": 0,
   "id": "32d0b5",
   "metadata": {
    "collapsed": false
   },
   "outputs": [],
   "source": [
    "rho = 1;\n",
    "theta = [-pi/2:pi/20:3*pi/2]; \n",
    "x = rho*cos(theta);\n",
    "y = rho*sin(theta);\n",
    "\n",
    "figure()\n",
    "plot(x,y)\n",
    "xlabel('x')\n",
    "ylabel('y')\n",
    "title('figure 1')\n",
    "daspect([1,1])\n",
    "\n",
    "\n",
    "figure()\n",
    "hold on\n",
    "plot(theta,x, 'DisplayName', 'x')\n",
    "plot(theta,y, 'DisplayName', 'y')\n",
    "plot(theta,y./x, 'DisplayName', 'y/x')\n",
    "plot(theta,tan(theta), '-.', 'DisplayName', 'tan(theta)')\n",
    "\n",
    "ylim([-2,2])\n",
    "legend()\n",
    "xlabel('theta')\n",
    "title('figure 2')\n",
    "\n",
    "\n",
    "figure()\n",
    "hold on\n",
    "xnegative = x<0; % this is 1 where x is negative and 0 where x is not negative\n",
    "plot(theta, theta, 'DisplayName', 'theta')\n",
    "plot(theta, atan(y./x), 'DisplayName', 'arctan(y/x)')\n",
    "plot(theta, atan(y./x) + pi*xnegative, '-.', 'DisplayName', 'arctan(y/x) + either 0 or pi')\n",
    "xlabel('theta')\n",
    "title('figure 3')\n",
    "legend()\n",
    "\n"
   ]
  },
  {
   "cell_type": "markdown",
   "id": "f9e33c",
   "metadata": {
    "collapsed": false
   },
   "source": [
    "We first note that $x$ and $y$ in figure 1 give a circle of radius 1 as expected.\n",
    "\n",
    "In Figure 2, we see that $\\tan(\\theta)$ matches $y/x$.  However, we also see that if we are given $\\tan(\\theta)$, there will be two values of $\\theta$ which could correspond to that value.\n",
    "\n",
    "In Figure 3, we see that the function we've defined for $\\theta$ from $x$ and $y$ really does work  (we've ignored the issues right where $x=0$).\n",
    "\n"
   ]
  },
  {
   "cell_type": "markdown",
   "id": "11cd6b",
   "metadata": {
    "collapsed": false
   },
   "source": [
    "Now we want to calculate $\\nabla f$ where\n",
    "\n",
    "$$\n",
    "f(x,y,z) = \\begin{cases}\n",
    "\\arctan(y/x) & x>0\\\\\n",
    "\\arctan(y/x) + \\pi & x<0\\\\\n",
    "\\pi/2 & x=0, y>0\\\\\n",
    "-\\pi/2 & x=0, y<0\n",
    "\\end{cases}\n",
    "$$\n",
    "We'll gloss over exactly what happens where $x=0$.\n",
    "\n",
    "For any value where $x \\neq 0$, the derivative of $f(x,y,z)$ is either the derivative of $\\arctan(y/x)$ or it is the derivative of $\\arctan(y/x) + \\pi$.  Since $\\pi$ is a constant, the derivative is simply the derivative of $\\arctan(y/x)$.  It's likely you've forgotten (or like me never memorized $d \\arctan(t)/dt$), so for reference: $d \\arctan(t)/dt = 1/(1+t^2)$.\n",
    "\n",
    "\\begin{align*}\n",
    "\\nabla f(x,y,z) &= \\frac{\\partial f}{\\partial x} \\vec{i} + \\frac{\\partial f}{\\partial y} \\vec{j} + \\frac{\\partial f}{\\partial z} \\vec{k}\\\\\n",
    "&= \\frac{1}{1+y^2/x^2} (-y/x^2) \\vec{i} +  \\frac{1}{1+y^2/x^2} (1/x) \\vec{j}\\\\\n",
    "&= \\frac{-y}{x^2+y^2} \\vec{i} + \\frac{x}{x^2+y^2} \\vec{j}\\\\\n",
    "&= \\frac{1}{\\rho} \\left( -\\frac{y}{r} \\vec{i} + \\frac{x}{r} \\vec{j}\\right)\\\\\n",
    "&= \\frac{1}{\\rho} (-\\sin(\\theta) \\vec{i} + \\cos(\\theta)\\vec{j})\n",
    "\\end{align*}\n",
    "The magnitude of this vector is $1/\\rho$.  If we divide by its magnitude to create a unit vector, we have:\n",
    "\n",
    "$$\n",
    "\\vec{e}_\\theta = -\\sin(\\theta)\\vec{i} + \\cos(\\theta) \\vec{j}\n",
    "$$"
   ]
  },
  {
   "cell_type": "code",
   "execution_count": 0,
   "id": "9b0096",
   "metadata": {
    "collapsed": false
   },
   "outputs": [],
   "source": [
    "rho = [0:0.2: 2];\n",
    "z = [-2:0.4:2];\n",
    "\n",
    "[Rho, Z] = meshgrid(rho, z);\n",
    "\n",
    "figure()\n",
    "hold on\n",
    "\n",
    "for theta = [0, 2*pi/3, 4*pi/3];\n",
    "  X = Rho*cos(theta);\n",
    "  Y = Rho*sin(theta);\n",
    "  surf(X,Y,Z)\n",
    "  \n",
    "  quiver3(X,Y,Z, -sin(theta)*ones(size(X)), cos(theta)*ones(size(X)), zeros(size(X)), 'r')\n",
    "end\n",
    "daspect([1,1])\n",
    "\n",
    "view(-37.5, 30)\n",
    "\n",
    "xlabel('x')\n",
    "ylabel('y')\n",
    "zlabel('z')\n",
    "title('plot showing surfaces of constant theta and e_{theta} for points on the surfaces')\n",
    "\n",
    "figure()\n",
    "hold on\n",
    "for theta = [0, 2*pi/3, 4*pi/3];\n",
    "  X = Rho*cos(theta);\n",
    "  Y = Rho*sin(theta);\n",
    "  surf(X,Y,Z)\n",
    "  \n",
    "  quiver3(X,Y,Z, -sin(theta)*ones(size(X)), cos(theta)*ones(size(X)), zeros(size(X)), 'r')\n",
    "end\n",
    "daspect([1,1])\n",
    "view(-37.5, 90)\n",
    "\n",
    "xlabel('x')\n",
    "ylabel('y')\n",
    "zlabel('z')\n",
    "title('view from above')\n"
   ]
  },
  {
   "cell_type": "markdown",
   "id": "2af1d2",
   "metadata": {
    "collapsed": false
   },
   "source": [
    "### Really important observation\n",
    "The direction of $\\vec{e}_\\theta$ depends on the point $(x,y,z)$.  It points in the direction of increasing $\\theta$."
   ]
  },
  {
   "cell_type": "markdown",
   "id": "764a6e",
   "metadata": {
    "collapsed": false
   },
   "source": [
    "## Position Vector\n",
    "\n",
    "In Cartesian coordinates, we can write the vector from the origin to a point $(x,y,z)$ as\n",
    "\n",
    "$$\n",
    "\\vec{r} = x\\vec{i} + y\\vec{j} + z \\vec{k}\n",
    "$$\n",
    "\n",
    "In Cylindrical coordinates, things are different because the vectors $\\vec{e}_\\rho$ and $\\vec{e}_\\theta$ change direction based on the location of the point.\n",
    "\n",
    "Let's see what happens if we take $\\rho = 1$, $\\theta = -3\\pi/2$ and $z=-2$:\n",
    "\n"
   ]
  },
  {
   "cell_type": "code",
   "execution_count": 0,
   "id": "16ce04",
   "metadata": {
    "collapsed": false
   },
   "outputs": [],
   "source": [
    "rho = 1\n",
    "theta = -3*pi/2\n",
    "z = -2\n",
    "\n",
    "x = rho*cos(theta);\n",
    "y = rho*sin(theta);\n",
    "\n",
    "i = [1,0,0];\n",
    "j = [0,1,0];\n",
    "k = [0,0,1];\n",
    "\n",
    "r_cart = x*i + y*j + z*k;\n",
    "\n",
    "figure()\n",
    "quiver3(0,0,0, r_cart(1), r_cart(2), r_cart(3), 'r')\n",
    "hold on\n",
    "\n",
    "%we'll add a surface plot to help visualize this\n",
    "\n",
    "tmprho = [0:0.2:2];\n",
    "\n",
    "tmptheta = [0:pi/10:2*pi];\n",
    "\n",
    "[Rho, Theta] = meshgrid(tmprho, tmptheta);\n",
    "\n",
    "X = Rho.*cos(Theta);\n",
    "Y = Rho.*sin(Theta);\n",
    "Z = z*ones(size(X));\n",
    "surf(X,Y,Z)\n",
    "\n",
    "plot3(x,y,z, 'b.', 'MarkerSize', 20)\n",
    "\n",
    "\n",
    "\n",
    "xlim([-3,3])\n",
    "ylim([-3,3])\n",
    "zlim([-3,0])\n",
    "\n",
    "xlabel('x')\n",
    "ylabel('y')\n",
    "zlabel('z')\n",
    "title('vector from origin to specified (x,y,z), using Cartesian vectors')"
   ]
  },
  {
   "cell_type": "markdown",
   "id": "4e3173",
   "metadata": {
    "collapsed": false
   },
   "source": [
    "It seems natural to expect something similar when we use $\\vec{e}_\\rho$, $\\vec{e}_\\theta$ and $\\vec{e}_z$.  But $\\rho \\vec{e}_\\rho + \\theta \\vec{e}_\\theta + z \\vec{e}_z$ doesn't work."
   ]
  },
  {
   "cell_type": "code",
   "execution_count": 0,
   "id": "af6555",
   "metadata": {
    "collapsed": false
   },
   "outputs": [],
   "source": [
    "rho = 1\n",
    "theta = -3*pi/2\n",
    "z = -2\n",
    "\n",
    "\n",
    "x = rho*cos(theta);\n",
    "y = rho*sin(theta);\n",
    "\n",
    "e_theta = [-sin(theta), cos(theta), 0];\n",
    "e_rho = [cos(theta), sin(theta), 0];\n",
    "e_z =  [ 0,0,1];\n",
    "\n",
    "badr = theta*e_theta + rho*e_rho + z*e_z;\n",
    "\n",
    "quiver3(0,0,0, badr(1), badr(2),badr(3), 'r')\n",
    "\n",
    "hold on\n",
    "\n",
    "\n",
    "tmprho = [0:0.2:2];\n",
    "\n",
    "tmptheta = [0:pi/10:2*pi];\n",
    "\n",
    "[Rho, Theta] = meshgrid(tmprho, tmptheta);\n",
    "\n",
    "X = Rho.*cos(Theta);\n",
    "Y = Rho.*sin(Theta);\n",
    "Z = z*ones(size(X));\n",
    "surf(X,Y,Z)\n",
    "\n",
    "plot3(x,y,z, 'b.', 'MarkerSize', 20)\n",
    "\n",
    "\n",
    "\n",
    "%xlim([-3,3])\n",
    "%ylim([-3,3])\n",
    "zlim([-3,0])\n",
    "title('Vector does not go to specified (x,y,z) if assuming rho e_rho + theta e_theta + z e_z')\n"
   ]
  },
  {
   "cell_type": "markdown",
   "id": "9cd58a",
   "metadata": {
    "collapsed": false
   },
   "source": [
    "The issue is that $\\vec{e}_\\rho$ and $\\vec{e}_\\theta$ are already defined relative to the point of interest.\n",
    "\n",
    "$\\vec{e}_\\rho$ points directly from the $z$-axis towards $(x,y,z)$.  So $\\rho \\vec{e}_\\rho$ already contains the $\\theta$ information about the location of $(x,y,z)$.\n",
    "\n",
    "We just need to have $z \\vec{e}_z$ to specify the vertical level of the point, and then we add $\\rho \\vec{e}_\\rho$ to get to the point."
   ]
  },
  {
   "cell_type": "code",
   "execution_count": 0,
   "id": "04ca34",
   "metadata": {
    "collapsed": false
   },
   "outputs": [],
   "source": [
    "rho = 1\n",
    "theta = -3*pi/2\n",
    "z = -2\n",
    "\n",
    "\n",
    "x = rho*cos(theta);\n",
    "y = rho*sin(theta);\n",
    "\n",
    "e_theta = [-sin(theta), cos(theta), 0];\n",
    "e_rho = [cos(theta), sin(theta), 0];\n",
    "e_z =  [ 0,0,1];\n",
    "\n",
    "correct_r = rho*e_rho + z*e_z;\n",
    "\n",
    "quiver3(0,0,0, correct_r(1), correct_r(2), correct_r(3), 'r')\n",
    "hold on \n",
    "\n",
    "%plot z e_z starting at origin\n",
    "quiver3(0,0,0, z*e_z(1), z*e_z(2), z*e_z(3), 'b', 'LineWidth', 5)   \n",
    "\n",
    "%plot rho e_rho, but starting at the point   z e_z.\n",
    "quiver3(z*e_z(1), z*e_z(2), z*e_z(3),     rho*e_rho(1), rho*e_rho(2), rho*e_rho(3), 'y', 'LineWidth', 5)\n",
    "\n",
    "tmprho = [0:0.2:2];\n",
    "\n",
    "tmptheta = [0:pi/10:2*pi];\n",
    "\n",
    "[Rho, Theta] = meshgrid(tmprho, tmptheta);\n",
    "\n",
    "X = Rho.*cos(Theta);\n",
    "Y = Rho.*sin(Theta);\n",
    "Z = z*ones(size(X));\n",
    "surf(X,Y,Z)\n",
    "\n",
    "plot3(x,y,z, 'b.', 'MarkerSize', 20)\n",
    "\n",
    "z*e_z\n",
    "rho * e_rho\n",
    "\n",
    "\n",
    "xlim([-3,3])\n",
    "ylim([-3,3])\n",
    "zlim([-3,0])\n",
    "title('Vector to specified (x,y,z) using rho e_{rho} + z e_z')\n"
   ]
  },
  {
   "cell_type": "code",
   "execution_count": 0,
   "id": "16fa81",
   "metadata": {
    "collapsed": false
   },
   "outputs": [],
   "source": []
  }
 ],
 "metadata": {
  "kernelspec": {
   "argv": [
    "python3",
    "-E",
    "-m",
    "octave_kernel",
    "-f",
    "{connection_file}"
   ],
   "display_name": "Octave (xeus)",
   "env": {},
   "language": "octave",
   "metadata": {
    "cocalc": {
     "description": "A programming language for scientific computing.",
     "priority": 10,
     "url": "https://octave.org/"
    }
   },
   "name": "xoctave",
   "resource_dir": "/ext/jupyter/kernels/octave-8.2"
  }
 },
 "nbformat": 4,
 "nbformat_minor": 4
}