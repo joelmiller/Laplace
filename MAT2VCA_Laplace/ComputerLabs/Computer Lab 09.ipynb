{
 "cells": [
  {
   "cell_type": "markdown",
   "id": "1c2ac6",
   "metadata": {
    "collapsed": false
   },
   "source": [
    "# Computer Lab 09  --   Work done moving through a vector field.\n",
    "\n",
    "In this lab we will explore the concept of work done by a vector field (e.g., a gravitational field or a magnetic field) on an object.  Because this vector field is applying force on the object, we will refer to it as a *force field*.  The magnitude and direction of the force at a point is given by the corresponding vector.  We will make the simplifying assumption that the force field is steady --- it may have different values at different points in space, but its values do not change in time.\n",
    "\n",
    "I am going to introduce a concept that I (Joel) use to make this intuitive.  I have not previously tried this out with students, so I would appreciate feedback on whether this makes sense.\n",
    "\n",
    "We imagine that we have a moving object which has kinetic energy.  It also has a battery and some steering mechanism so that it can choose its own path through the force field.  If it needs to speed up, it uses energy from its battery.  If it needs to slow down, it charges its battery using its kinetic energy.  The force field is applying a force on the object.  This will cause it to gain or lose energy (depending on whether the force field is aligned with or against the direction of motion).  \n",
    "\n",
    "The *work done* by the force field on the object as it moves along a path is the net change in the combined battery energy and kinetic energy.\n",
    "\n",
    "A real-life example of an object that has similar properties to this idealization is an electric vehicle which charges its batteries when it brakes.  As an electric vehicle goes down a hill, it is gaining energy from gravity.  Even if it is maintaining a constant speed by braking, it is still adding energy to the battery, so the net kinetic + battery energy is increasing.  Gravity is doing positive work on the car.  In contrast when it climbs up a hill it loses energy to gravity, even if it maintains a constant speed by using its battery, the net kinetic energy + battery energy is decreasing.  Gravity is doing negative work on the car.\n",
    "\n",
    "\n"
   ]
  },
  {
   "cell_type": "markdown",
   "id": "b13aad",
   "metadata": {
    "collapsed": false
   },
   "source": [
    "## Dot product properties\n",
    "\n",
    "Before we start this lab, we need to review some important properties of dot products.  These properties are important for understanding work and they are important for some \"surface integrals\" we will encounter later in the subject.\n",
    "\n",
    "If we have two vectors $\\vec{d}$ which will represent a \"displacement\" of an object and $\\vec{F}$ which will represent a \"force\" acting on that object, then their dot product can be calculated by $ \\vec{d} \\cdot \\vec{F} = d_x F_x + d_y F_y + d_z F_z$.  However, through a seemingly amazing coincidence, we have \n",
    "\n",
    "$$ \\vec{d} \\cdot \\vec{F} = \\|\\vec{d}\\| \\: \\| \\vec{F} \\| \\cos(\\theta)$$\n",
    "where $\\theta$ is the angle between the two vectors.  When $\\theta=0$, the movement and the force are in the same direction.  When $\\theta = \\pi$ they are in opposite directions, and when $\\theta = \\pm \\pi/2$ they are orthogonal.\n",
    "\n",
    "### Projections\n",
    "\n",
    "There are many important applications where we care about how much of $\\vec{d}$ points in the same direction as $\\vec{F}$.  To make it clear what we mean by this, we will write $\\vec{d}$ as a sum of two vectors.  The first vector is parallel to $\\vec{F}$.  The second vector is perpendicular to $\\vec{F}$.  The dot product will help us find these two vectors.  \n",
    "\n",
    "We will write \n",
    "\n",
    "$$\\vec{d} = \\alpha \\vec{F} + \\vec{d}^\\perp$$ \n",
    "where $\\alpha$ is a scalar and $\\vec{d}^\\perp$ is a vector perpendicular to $\\vec{F}$.  Both $\\alpha$ and $\\vec{d}^\\perp$ are currently unknown values that we can find.\n",
    "\n",
    "The following cell shows an example with $\\vec{F}$ and $\\vec{d}$ and then the associated two vectors $\\alpha \\vec{F}$, and $\\vec{d}^\\perp$.  You don't need to immediately understand the calculations used to find $\\alpha \\vec{F}$ and $\\vec{d}^\\perp$.  This is just intended to demonstrate that we can assume $\\vec{d}$ is the sum of two such vectors.\n"
   ]
  },
  {
   "cell_type": "code",
   "execution_count": 3,
   "id": "90f191",
   "metadata": {
    "collapsed": false
   },
   "outputs": [
    {
     "name": "stdout",
     "output_type": "stream",
     "text": [
      "ans = -4.4409e-16\r\n"
     ]
    },
    {
     "data": {
      "image/png": "[encoded data removed]",
      "text/plain": [
       "<IPython.core.display.Image object>"
      ]
     },
     "execution_count": null,
     "metadata": {},
     "output_type": "execute_result"
    }
   ],
   "source": [
    "d = [1,4];\n",
    "F = [-2,3];\n",
    "\n",
    "alpha = dot(d,F)/dot(F,F);\n",
    "d_perp = d - alpha*F;\n",
    "dot(d_perp, F) %verify that these are perpendicular\n",
    "\n",
    "quiver(0, 0, d(1), d(2), 'r', 'DisplayName', 'd')\n",
    "hold on\n",
    "quiver(0, 0, F(1), F(2), 'b', 'DisplayName', 'F')\n",
    "quiver(0, 0, alpha*F(1), alpha*F(2), 'c', 'DisplayName', 'alpha F')\n",
    "\n",
    "quiver(alpha*F(1), alpha*F(2), d_perp(1), d_perp(2), 'DisplayName', 'd_{perp}')\n",
    "legend()\n",
    "\n",
    "axis('equal')"
   ]
  },
  {
   "cell_type": "markdown",
   "id": "00dc70",
   "metadata": {
    "collapsed": false
   },
   "source": [
    "Try some different values of $\\vec{d}$ in the calculation above to see how $\\alpha \\vec{F}$ and $\\vec{d}^\\perp$ change.  Try switching the sign of $\\vec{d}$.\n",
    "\n",
    "The vector $\\alpha \\vec{F}$ is the **projection** of $\\vec{d}$ onto $\\vec{F}$.\n",
    "\n",
    "We can think of $\\alpha \\vec{F}$ as the part of $\\vec{d}$ that is aligned with $\\vec{F}$ (or possibly \"anti-aligned\", meaning it points in the opposite direction, so $\\alpha<0$).  \n",
    "\n",
    "## Work done by a uniform vector field on an object moving in a straight line\n",
    "\n",
    "The work done by the vector field on the object is equal to the length of the displacement in the direction of $\\vec{F}$ times the strength of the vector field.  So it is $\\|\\alpha \\vec{F}\\| \\: \\|\\vec{F}\\|$, but with a minus sign if $\\alpha <0$.  Rewriting this, to handle the sign correctly, the work is \n",
    "\n",
    "$$\\text{work} = \\alpha \\|\\vec{F}\\|^2 $$\n",
    "If we look at the picture above, it appears that we'll have to do some trigonometry to work out what $\\alpha$ is.  In fact, using the dot product, everything is taken care of for us.  There is a quick way to calculate $\\alpha \\|\\vec{F}\\|^2$.  Because we write $\\vec{d} = \\alpha \\vec{F} + \\vec{d}^\\perp$, we have\n",
    "\n",
    "\\begin{align*}\n",
    "\\vec{d} \\cdot \\vec{F} &= (\\alpha \\vec{F} + \\vec{d}^\\perp) \\cdot \\vec{F}\\\\\n",
    "&= \\alpha \\vec{F} \\cdot \\vec{F} + \\vec{d}^\\perp \\cdot \\vec{F}\\\\\n",
    "&= \\alpha \\vec{F} \\cdot \\vec{F} + 0\\\\\n",
    "&= \\alpha \\vec{F} \\cdot \\vec{F}\\\\\n",
    "&= \\alpha \\|\\vec{F}\\|^2\n",
    "\\end{align*}\n",
    "\n",
    "So we can find $\\alpha \\|\\vec{F}\\|^2$ by simply using $\\vec{d} \\cdot \\vec{F}$.  That immediately gives us the work done by the vector field.  \n",
    "\n",
    "We do not need to find $\\alpha$ or $\\vec{d}^\\perp$ (though we could quickly show that $\\alpha = \\vec{d}\\cdot \\vec{F}/ \\vec{F} \\cdot \\vec{F}$ from the equation above).\n",
    "\n"
   ]
  },
  {
   "cell_type": "markdown",
   "id": "033462",
   "metadata": {
    "collapsed": false
   },
   "source": [
    "For our purposes in this lab, there are two critical properties of dot products:\n",
    "1. The dot product can be calculated quickly if we know the components of the vectors.\n",
    "2. The value of $\\vec{d} \\cdot \\vec{F}$ gives us the work moving an object in a straight line through a uniform vector field."
   ]
  },
  {
   "cell_type": "markdown",
   "id": "a5b419",
   "metadata": {
    "collapsed": false
   },
   "source": [
    "## Work done by a (non-uniform) force field $\\vec{F}$ acting on a moving object\n",
    "\n",
    "We consider a force field $\\vec{F}(x,y)$ which depends on position, but not time.  We will assume that the force field always points towards the origin, and that the strength is given by \n",
    "\n",
    "$$\n",
    "\\vec{F} = -\\frac{\\vec{r}}{\\|\\vec{r}\\|}  \\cdot \\frac{1}{\\|\\vec{r}\\|^2}\n",
    "$$\n",
    "Let's analyze what this says.  The vector $-\\vec{r}/\\|\\vec{r}\\|$ is a unit vector that points towards the origin.  The scalar $1/\\|\\vec{r}\\|^2$ says that the strength of the field is proportional to the inverse of the square of the distance.  This force field is like gravity or electrical charge.\n",
    "\n",
    "In Cartesian coordinates,\n",
    " \n",
    "$$\n",
    "\\begin{align*}\n",
    "\\vec{F} &= \\left(\\frac{-x\\: \\vec{i} - y \\: \\vec{j}}{\\sqrt{x^2+y^2}} \\right) \\frac{1}{x^2+y^2}\\\\\n",
    "&= -\\frac{x}{(x^2+y^2)^{3/2}} \\vec{i} - \\frac{y}{(x^2+y^2)^{3/2}} \\vec{j}\n",
    "\\end{align*}\n",
    "$$"
   ]
  },
  {
   "cell_type": "code",
   "execution_count": 4,
   "id": "07c9b7",
   "metadata": {
    "collapsed": false
   },
   "outputs": [
    {
     "data": {
      "image/png": "[encoded data removed]",
      "text/plain": [
       "<IPython.core.display.Image object>"
      ]
     },
     "execution_count": null,
     "metadata": {},
     "output_type": "execute_result"
    }
   ],
   "source": [
    "%This just plots the force field.  Because it has a circular structure to it, we do a couple tricks\n",
    "%to get the points where the vectors are plotted to be distributed with a circular symmetry.\n",
    "r = [1.25:0.5:4];\n",
    "theta = [0:pi/12:2*pi];\n",
    "[R,Theta]= meshgrid(r,theta);\n",
    "X=R.*cos(Theta);\n",
    "Y=R.*sin(Theta);\n",
    "\n",
    "quiver(X, Y, -X./(X.^2+Y.^2).^(3/2), -Y./(X.^2+Y.^2).^(3/2))\n",
    "axis('equal')"
   ]
  },
  {
   "cell_type": "markdown",
   "id": "46776a",
   "metadata": {
    "collapsed": false
   },
   "source": [
    "Let us consider two paths that go from $(1,0)$ to $(-2,0)$.  \n",
    "- An object moves along the parabola $y=(x-1)(x+2)$ according to the parametrization $\\vec{r}(t) = (1-t, t^2-3t)$ for $0 \\leq t \\leq 3$.  Note that this object's speed is not constant in time.  Its $x$-component changes at constant rate, but its $y$-component changes at a variable rate.\n",
    "- An object moves along the top half of the circle $x^2+y^2=1$ until it gest to $(-1,0)$, and then it moves in a straight line to $(-2,0)$.  Its path is parametrized by $\\vec{r}_1(t) = (\\cos(t), \\sin(t))$ for $0 \\leq t \\leq \\pi$ and then $\\vec{r}_2(t) = (\\pi-1-t, 0)$ for $\\pi \\leq t \\leq \\pi + 1$.\n",
    "\n",
    "We'll first plot the force field, and then plot the force field and the paths."
   ]
  },
  {
   "cell_type": "code",
   "execution_count": 11,
   "id": "eb9157",
   "metadata": {
    "collapsed": false
   },
   "outputs": [
    {
     "data": {
      "image/png": "[encoded data removed]",
      "text/plain": [
       "<IPython.core.display.Image object>"
      ]
     },
     "execution_count": null,
     "metadata": {},
     "output_type": "execute_result"
    }
   ],
   "source": [
    "r = [1.25:0.5:4];\n",
    "theta = [0:pi/12:2*pi];\n",
    "[R,Theta]= meshgrid(r,theta);\n",
    "X=R.*cos(Theta);\n",
    "Y=R.*sin(Theta);\n",
    "\n",
    "quiver(X, Y, -X./(X.^2+Y.^2).^(3/2), -Y./(X.^2+Y.^2).^(3/2))\n",
    "axis('equal')\n",
    "hold on\n",
    "\n",
    "t = [0:0.5:3];\n",
    "x = 1-t;\n",
    "y = t.^2-3*t;\n",
    "plot(x,y, 'r', 'LineWidth', 5)\n",
    "\n",
    "t1 = [0:pi/40:pi];\n",
    "x1 = cos(t1);\n",
    "y1 = sin(t1);\n",
    "t2 = [pi:0.2:pi+1];\n",
    "x2 = pi -1 -t2;\n",
    "y2 = zeros(size(x2));\n",
    "\n",
    "plot(x1,y1, 'c', 'LineWidth', 5)\n",
    "plot(x2,y2, 'c', 'LineWidth', 5)"
   ]
  },
  {
   "cell_type": "markdown",
   "id": "778d1c",
   "metadata": {
    "collapsed": false
   },
   "source": [
    "The paths are fairly low resolution.  You may be able to see that they are made up of straight line segments.\n",
    "\n",
    "We will pretend that during each of the time intervals corresponding to those straight line segments, the force field $\\vec{F}$ is always the same (same magnitude **and** direction), and is equal to the value of $\\vec{F}$ at the start point of the time interval.  \n",
    "\n",
    "Then for the time interval from $t_i$ to $t_{i+1}$, the force is \n",
    "\n",
    "$$\\vec{F}(x_i, y_i) = - \\frac{x_i}{(x_i^2+y_i^2)^{3/2}} \\vec{i} - \\frac{y_i}{(x_i^2+y_i^2)^{3/2}} \\vec{j}$$\n",
    "where $x_i=x(t_i)$ and $y_i = y(t_i)$.\n",
    "\n",
    "The displacement is approximately\n",
    "\n",
    "$$\n",
    "\\vec{d}(t_i) = \\vec{r}'(t_i) \\Delta t\n",
    "$$\n",
    "That is, the displacement from time $t_i$ to $t_{i+1}$ is given approximately by the velocity vector $\\vec{r}'(t_i)$ times the time-duration of the interval $\\Delta t$.\n",
    "\n",
    "The total work done is approximated by dotting these together and adding them up.\n",
    "\n",
    "$$ \\sum_i \\vec{r}'(t_i)\\cdot \\vec{F}(x(t_i),y(t_i)) \\:   \\Delta t = \\sum_i \\vec{r}'(t_i) \\cdot \\vec{F}(\\vec{r}(t_i)) \\: \\Delta t$$"
   ]
  },
  {
   "cell_type": "code",
   "execution_count": 8,
   "id": "85aa92",
   "metadata": {
    "collapsed": false
   },
   "outputs": [
    {
     "name": "stdout",
     "output_type": "stream",
     "text": [
      "dt = 2.0000e-04\r\n"
     ]
    },
    {
     "name": "stdout",
     "output_type": "stream",
     "text": [
      "total_work = -0.4999\r\n"
     ]
    }
   ],
   "source": [
    "dt= 0.2\n",
    "t = [0:dt:3];\n",
    "x = 1-t;\n",
    "y = t.^2-3*t;\n",
    "\n",
    "dxdt = -ones(size(t)); %[-1, -1, -1, ...]\n",
    "dydt = 2*t-3;\n",
    "\n",
    "total_work =0;\n",
    "for counter = [1:length(t)]\n",
    "    rprime = [dxdt(counter), dydt(counter)];\n",
    "    F = [-x(counter), -y(counter)]/(x(counter)^2 + y(counter)^2)^(3/2);\n",
    "    total_work += dot(rprime,F)*dt;\n",
    "end\n",
    "total_work"
   ]
  },
  {
   "cell_type": "markdown",
   "id": "85e6c4",
   "metadata": {
    "collapsed": false
   },
   "source": [
    "Look at the for loop and convince yourself that it calculates\n",
    "\n",
    "$$\n",
    "\\sum_i \\vec{r}'(t_i) \\cdot \\vec{F}(\\vec{r}(t_i)) \\: \\Delta t\n",
    "$$\n",
    "Play around with the value of `dt` and check that as `dt`$\\to 0$, this appears to converge to `total_work`$=-0.5$.\n",
    "\n",
    "As frequently happens, as `dt`$\\to 0$, the sum converges to an integral.  This corresponds to using a higher resolution for the calculations.\n",
    "\n",
    "\\begin{align*}\n",
    "\\lim_{\\Delta t \\to 0} \\sum_i \\vec{r}'(t_i) \\cdot \\vec{F}(\\vec{r}(t_i)) \\: \\Delta t &= \\int_{t_0}^{t_f} \\vec{r}'(t) \\cdot \\vec{F}(\\vec{r}(t)) \\, dt\\\\\n",
    "&= \\int_{t_0}^{t_f} \\left( \\frac{dx}{dt}, \\frac{dy}{dt} \\right) \\cdot \\frac{(-x,-y)}{(x^2+y^2)^{3/2}}\\\\\n",
    "&= \\int_0^3 (-1, 2t-3) \\cdot \\frac{-(1-t, t^2-3t)}{((1-t)^2 + (t^2-3t)^2)^{3/2}} \\, dt\\\\\n",
    "&= \\int_0^3 \\frac{ (-1)(t-1) - (2t-3)(t^2-3t)}{((1-t)^2 + (t^2-3t)^2)^{3/2}} \\, dt\n",
    "\\end{align*}\n",
    "\n",
    "This integral looks unpleasant.  If we look at the numerical calculations, we can guess that its value is $-0.5$.\n",
    "\n"
   ]
  },
  {
   "cell_type": "markdown",
   "id": "ac6726",
   "metadata": {
    "collapsed": false
   },
   "source": [
    "What happens on the other path?  We will do the sums for each piece of the path."
   ]
  },
  {
   "cell_type": "code",
   "execution_count": 10,
   "id": "58a53f",
   "metadata": {
    "collapsed": false
   },
   "outputs": [
    {
     "name": "stdout",
     "output_type": "stream",
     "text": [
      "dt1 = 0.7854\r\n"
     ]
    },
    {
     "name": "stdout",
     "output_type": "stream",
     "text": [
      "dt2 = 2.0000e-03\r\n"
     ]
    },
    {
     "name": "stdout",
     "output_type": "stream",
     "text": [
      "total_work = 0\r\n"
     ]
    },
    {
     "name": "stdout",
     "output_type": "stream",
     "text": [
      "total_work = 0\r\n"
     ]
    },
    {
     "name": "stdout",
     "output_type": "stream",
     "text": [
      "total_work = -0.5013\r\n"
     ]
    }
   ],
   "source": [
    "dt1 = pi/4\n",
    "dt2 = 0.2\n",
    "\n",
    "t1 = [0:dt1:pi];\n",
    "x1 = cos(t1);\n",
    "y1 = sin(t1);\n",
    "t2 = [pi:dt2:pi+1];\n",
    "x2 = -1 -t2 + pi;\n",
    "y2 = zeros(size(x2));\n",
    "\n",
    "total_work = 0\n",
    "for counter = [1:length(t1)]\n",
    "    rprime = [-sin(t1(counter)), cos(t1(counter))];\n",
    "    F = [-x1(counter), -y1(counter)]/(x1(counter)^2 + y1(counter)^2)^(3/2);\n",
    "    total_work += dot(rprime,F)*dt1;\n",
    "end\n",
    "total_work\n",
    "for counter = [1:length(t2)]\n",
    "    rprime = [-1, 0];\n",
    "    F = [-x2(counter), -y2(counter)]/(x2(counter)^2 + y2(counter)^2)^(3/2);\n",
    "    total_work += dot(rprime,F)*dt2;\n",
    "end\n",
    "total_work"
   ]
  },
  {
   "cell_type": "markdown",
   "id": "7cb6ee",
   "metadata": {
    "collapsed": false
   },
   "source": [
    "Remarkably, if we reduce the time steps, the value of `total_work` appears to converge to $-0.5$, just as it did on the other path.  This is actually guaranteed to be true because the vector field has curl equal to $0$ \\(it's more easily checked in polar coordinates than Cartesian\\).\n",
    "\n",
    "You should notice that  the contribution of the first part of the path (the semicircle) to the total work is $0$.  This is because the semicircle it follows is perpendicular to the force field.  So the dot product yields $0$ at all times.\n",
    "\n",
    "On the second part, the line is in the opposite direction of the force field, so the contribution will be negative.  \n",
    "\n",
    "Now let's try to do the integral to get the exact answer.\n",
    "\n",
    "For the first part of the path, the integral is\n",
    "\n",
    "\\begin{align*}\n",
    "\\int_0^\\pi \\vec{r}'(t)\\cdot \\vec{F}(\\vec{r}(t)) \\, dt &= \\int_0^\\pi \\left( \\frac{dx}{dt}, \\frac{dy}{dt} \\right) \\cdot \\frac{(-x,-y)}{(x^2+y^2)^{3/2}} \\, dt\\\\\n",
    "&= \\int_0^\\pi (-\\sin(t), \\cos(t)) \\cdot \\frac{(-\\cos(t), -\\sin(t))}{1^{3/2}} \\, dt\\\\\n",
    "&= \\int_0^\\pi \\sin(t)\\cos(t) - \\sin(t)\\cos(t) \\, dt\\\\\n",
    "&= \\int_0^\\pi 0 \\, dt\n",
    "\\end{align*}\n",
    "As noted, the dot product is $0$, so this integral yields $0$.\n",
    "\n",
    "For the second part of the path, the integral is\n",
    "\n",
    "\\begin{align*}\n",
    "\\int_{\\pi}^{\\pi+1} \\vec{r}'(t) \\cdot F(\\vec{r}(t))\\, dt &= \\int_{\\pi}^{\\pi+1} \\left(\\frac{dx}{dt} , \\frac{dy}{dt} \\right) \\cdot \\frac{(-x,-y)}{(x^2+y^2)^{3/2}} \\, dt\\\\\n",
    "&= \\int_\\pi^{\\pi+1} (-1,0) \\cdot \\frac{(\\pi-1-t, 0)}{(\\pi-1-t)^3} \\, dt \\\\\n",
    "&= \\int_\\pi^{\\pi+1} \\frac{1+t-\\pi}{(-1+t+\\pi)^3}\\\\\n",
    "&= \\int_\\pi^{\\pi+1} -\\frac{1}{(\\pi-1-t)^2} \\, dt\\\\\n",
    "&= \\int_{-1}^{-2} \\frac{1}{u^2} \\, du\\\\\n",
    "&= \\left. -u^{-1} \\right|_{-1}^{-2}\\\\\n",
    "&= \\frac{1}{2} -1\\\\\n",
    "&= -\\frac{1}{2}\n",
    "\\end{align*}\n"
   ]
  },
  {
   "cell_type": "markdown",
   "id": "099c24",
   "metadata": {
    "collapsed": false
   },
   "source": [
    "### Self test\n",
    "\n",
    "For the same paths as done above, use $\\vec{F}(\\vec{r}) = -y \\vec{i} + x \\vec{j}$.  \n",
    "- Plot the Force Field.\n",
    "- Numerically estimate the value of the integrals on the paths.\n",
    "- Without doing the integrals, look at the overall direction of the paths compared to the force field and explain why you would expect the two integrals to have different signs.  Think about how the rotation of the vector field influences this.\n",
    "- Do the integral for the path made up of a semicircle and a straight line by hand.\n",
    "- Explain how a force field like this could be used to generate an arbitrary amount of energy by having a path cycle around the origin multiple times.  Given that there are no perpetual motion machines, comment on why real-life force fields that don't require energy input, such as gravity and fields from electric charge can't rotate like this.  (the magnetic field from an electric current does rotate.  However, creating the electric current requires the use of energy, and this means that while the object can get an arbitrary amount of energy, it requires the use of even more energy to maintain the necessary current)."
   ]
  },
  {
   "cell_type": "code",
   "execution_count": 0,
   "id": "609d33",
   "metadata": {
    "collapsed": false
   },
   "outputs": [],
   "source": []
  }
 ],
 "metadata": {
  "kernelspec": {
   "argv": [
    "python3",
    "-E",
    "-m",
    "octave_kernel",
    "-f",
    "{connection_file}"
   ],
   "display_name": "Octave (xeus)",
   "env": {},
   "language": "octave",
   "metadata": {
    "cocalc": {
     "description": "A programming language for scientific computing.",
     "priority": 10,
     "url": "https://octave.org/"
    }
   },
   "name": "xoctave",
   "resource_dir": "/ext/jupyter/kernels/octave-8.2"
  }
 },
 "nbformat": 4,
 "nbformat_minor": 4
}