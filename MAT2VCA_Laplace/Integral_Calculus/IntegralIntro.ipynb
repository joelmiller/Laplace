{
 "cells": [
  {
   "cell_type": "markdown",
   "id": "9f356bfc",
   "metadata": {},
   "source": [
    "# Integral Calculus\n",
    "\n",
    "This is only including a few parts of integral calculus for now.  Currently it **only includes**\n",
    "- Multiple Integrals\n",
    "\n",
    "\n",
    "It does not include:\n",
    "- Calculating Length of a line\n",
    "- Calculating Work\n",
    "- Stokes, Gauss's Theorems\n",
    "- Flux through a region\n"
   ]
  }
 ],
 "metadata": {
  "language_info": {
   "name": "python"
  },
  "kernelspec": {
   "name": "xoctave",
   "display_name": "Octave (xeus)"
  }
 },
 "nbformat": 4,
 "nbformat_minor": 5
}