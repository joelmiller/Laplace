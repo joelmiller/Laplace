{
 "cells": [
  {
   "cell_type": "markdown",
   "id": "ab7445bd",
   "metadata": {},
   "source": [
    "# Prerequisites\n",
    "\n",
    "In her twenties, my mother spent two years in Peru and once stayed at the family house of a male (non-romantic) friend.  After taking a nap she got up and was hungry.  She wanted to tell his parents:\n",
    "\n",
    "*No estoy cansada, pero tengo hambre*.\n",
    "\n",
    "However, she was not fully fluent in Spanish and so she was using specific phrases that she had (almost) memorized.  She stumbled over two letters and said\n",
    "\n",
    "*No estoy casada, pero tengo hombre*.\n",
    "\n",
    "The difference seems insignificant to someone who is not fluent in Spanish.  However, rather than saying *I am not tired, but I am hungry*, she announced *I am not married, but I have a man*.  Once she finally understood the mistake, she attempted to explain how very embarassed she was.  Unfortunately, in Spanish the word *embarasada* means *pregnant*.\n",
    "\n",
    "Why have I told this story?\n",
    "\n",
    "In this subject, we teach new concepts in terms of things taught in pre-requisite subjects.  Most of all, we rely on Algebra.  Unfortunately many students in this subject are not fluent with Algebra, and so the explanations seem difficult to follow, as if they were in a foreign language.  Often these students don't worry about understanding and instead try to memorise the methods.  This is like learning special phrases in a foreign language without knowing the words or grammar.  They won't recognize a small error that changes everything and even if they do everything right they may not understand the answer they get."
   ]
  },
  {
   "cell_type": "markdown",
   "id": "1ee14e70",
   "metadata": {},
   "source": [
    "## The need for this chapter\n",
    "\n",
    "The vast majority of students who fail MAT2VCA lose many marks due to gaps in their recollection of prerequisite subjects.  The students are intellectually capable of understanding the concepts, but they need to plug the holes in their background knowledge.  Unfortunately this is hard to do while simultaneously mastering new material.\n",
    "\n",
    "This introductory chapter is an attempt to address the most common knowledge gaps.  It focuses on prerequisite concepts which play the largest role in VCA.  This is not a complete list and there is insufficient time in this subject to teach this prerequisite material.  We will try to remind you of it when it comes up, but if we set aside lecture time to explain it then we will not have time to teach the new material.  \n",
    "\n",
    "To find out where you stand, please explore the material in this chapter early in the semester while your workload across all subjects is still light.  \n",
    "\n",
    "- If you find yourself in a familiar place with an occassional landmark that you hadn't previously noticed, then you seem to be in good shape for the semester.  Please stay engaged, keep up with the material, and you will probably be rewarded at the end of the semester.\n",
    "-  If much of this appears foreign, do not despair.  Australia has many people who have arrived without speaking the language and succeeded.  Often they have had to work hard to achieve this success.  They are rightfully proud of their success.\n",
    "\n",
    "   There are legitimate cases where the right choice is to cut your losses for this semester and focus on other subjects right now and review Algebra etc before next year.  But for the majority the right choice is to put in extra effort.  Please decide before the census date.  If you decide to push through, please set aside extra time to review the material, go to the MathHub, and **come to office hours**.\n",
    "\n",
    "**PS** --- for those who plan to teach mathematics or may have younger siblings or otherwise know people still in high school:  Please advise high school students interested in any STEM field that they should take the highest level of math that they can succeed at.  LaTrobe (along with many other Australian Universities) does not require Mathematical Methods or Specialist Mathematics for entry into Engineering, and many students who do not take them before arriving are successful in their first attempt at all of the mathematics subjects.  It is possible, but it is not easy.  We cover both of these subjects (and more) in two 12-week semesters in first year mathematics with over 100 students in each subject. Students who spent an entire 40 week high school year meeting their teacher almost every day in classes of under 30 while learning Methods or Specialist typically find VCA less stressful than students who waited until after high school."
   ]
  }
 ],
 "metadata": {
  "kernelspec": {
   "display_name": "Octave (xeus)",
   "name": "xoctave"
  },
  "language_info": {
   "name": "python"
  }
 },
 "nbformat": 4,
 "nbformat_minor": 5
}
