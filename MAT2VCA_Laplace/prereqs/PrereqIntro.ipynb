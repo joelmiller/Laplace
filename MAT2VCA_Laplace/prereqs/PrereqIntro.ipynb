{
 "cells": [
  {
   "cell_type": "markdown",
   "id": "ab7445bd",
   "metadata": {},
   "source": [
    "# Prerequisites\n",
    "\n",
    "In her twenties, my mother spent two years in Peru and once stayed at the family house of a male (non-romantic) friend.  After taking a nap she got up and was hungry.  She wanted to tell his parents:\n",
    "\n",
    "*No estoy cansada, pero tengo hambre*.\n",
    "\n",
    "However, she was not fully fluent in Spanish and so she used specific phrases that she had memorized.  Unfortunately, she said\n",
    "\n",
    "*No estoy casada, pero tengo hombre*.\n",
    "\n",
    "The difference seems insignificant to someone who is not fluent in Spanish.  However, rather than saying *I am not tired, but I am hungry*, she announced *I am not married, but I have a man*.  Once she finally understood the mistake, she attempted to explain how very embarassed she was.  Unfortunately, in Spanish the word *embarasada* means *pregnant*.\n",
    "\n",
    "Why have I told this story?\n",
    "\n",
    "In this subject, we teach new concepts in terms of things taught in pre-requisite subjects.  Most of all, we rely on Algebra.  Unfortunately many students in this subject are not fluent with Algebra.  Many of these students thus try to memorise the methods we teach without understanding the explanation.  This is like learning a special phrase in a foreign language without knowing the words or the grammar.  They won't recognize a small error which changes everything and even if they do everything right they may not understand the answer they get.\n"
   ]
  },
  {
   "cell_type": "markdown",
   "id": "1ee14e70",
   "metadata": {},
   "source": [
    "## The need for this chapter\n",
    "\n",
    "This introductory chapter is an attempt to address the most common knowledge gaps.  It focuses on prerequisite concepts which play the largest role in VCA.  This is not a complete list and there is insufficient time in this subject to teach this prerequisite material.  We will try to remind you of it when it comes up, but if we set aside lecture time to explain it then we will not have time to teach the new material.  \n",
    "\n",
    "Please ensure that you review this material early in the semester while your workload across all subjects is still light.  If much of this appears unfamiliar, you should budget your time for the semester with the understanding that you need to learn more to achieve the same outcome as a student who is comfortable with this prerequisite material.\n",
    "\n",
    "The vast majority of students who fail lose a significant fraction of their marks due to gaps in their recollection of prerequisite subjects.  The students are intellectually capable of understanding the concepts, but they need to plug the holes in their background knowledge.  Unfortunately this is hard to do while simultaneously mastering new material. If you find yourself in this position, please commit extra time to review the material and **come to office hours**.\n",
    "\n",
    "PS --- please advise younger siblings or others you may know who are still in high school that they should take the highest level of math that they can succeed at while still in high school.  LaTrobe (along with many other Australian Universities) does not require Mathematical Methods or Specialist Mathematics for entry into Engineering, and many students who do not take them before arriving are successful.  However, it is not easy.  We cover most of these subjects (and more) in two 12-week semesters in first year mathematics. Students who spent an entire 40 week high school year meeting their teacher almost every day while learning Methods or Specialist are typically more successful when they arrive at VCA.\n",
    "\n",
    "\n"
   ]
  },
  {
   "cell_type": "code",
   "execution_count": null,
   "id": "795f7ee1",
   "metadata": {
    "vscode": {
     "languageId": "plaintext"
    }
   },
   "outputs": [],
   "source": []
  }
 ],
 "metadata": {
  "language_info": {
   "name": "python"
  },
  "kernelspec": {
   "name": "xoctave",
   "display_name": "Octave (xeus)"
  }
 },
 "nbformat": 4,
 "nbformat_minor": 5
}