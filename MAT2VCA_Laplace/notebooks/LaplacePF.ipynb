{
 "cells": [
  {
   "cell_type": "markdown",
   "metadata": {},
   "source": [
    "# Inverting the Laplace Transform with Partial Fractions\n",
    "\n",
    "under construction"
   ]
  },
  {
   "cell_type": "markdown",
   "metadata": {},
   "source": [
    "## Rational Functions\n",
    "\n",
    "````{prf:definition} Rational Function\n",
    ":label: def_rational_fxn\n",
    "\n",
    "A **rational function** is a function that can be written in the form \n",
    "\n",
    "$$\n",
    "f(x) = \\frac{p(x)}{q(x)}\n",
    "$$\n",
    "where both $p(x)$ and $q(x)$ are polynomials.\n",
    "````\n",
    "\n",
    "We can always assume that the leading coefficient of $q(x)$ is $1$, because if it is not, we can divide both $p(x)$ and $q(x)$ by that coefficient to make it $1$.\n",
    "\n",
    "We will often need to find $f(t)$ when $\\tilde{f}(s) = \\frac{p(s)}{q(s)}$ where $p(s)$ and $q(s)$ are both polynomials and the highest degree of $p(s)$ is less than the highest degree of $q(s)$.\n"
   ]
  },
  {
   "cell_type": "markdown",
   "metadata": {},
   "source": [
    "## Classifying the factorizations of $q(s)$\n",
    "\n",
    "Consider \n",
    "\n",
    "$$\n",
    "\\tilde{f}(s) = \\frac{p(s)}{q(s)}\n",
    "$$\n",
    "\n",
    "where the highest degree of $p(s)$ is $0$ or $1$ and the highest degree of $q(s)$ is $2$ and the leading coefficient of $q(s)$ is $1$.  \n",
    "\n",
    "Our goal will be to find $f(t)$.  Typically under these assumptions, $\\tilde{f}(s)$ will not appear in our Laplace Transform Table.  We will find a way to write $\\tilde{f}(s)$ as the sum of two functions that do appear in the table.  Our first step is to find two candidate functions and the next step is to determine the appropriate coefficients.\n",
    "\n",
    "There are three possibilities for $q(s)$:\n",
    "- $q(s) = (s-r_1)(s-r_2)$ with $r_1 \\neq r_2$: there are two real unequal roots to the equation $q(s)=0$.\n",
    "- $q(s) = (s-r)^2$: there is a single repeated real root to the equation $q(s) = 0$.\n",
    "- $q(s) = (s-a)^2 + \\omega^2$: there are no real roots to the equation $q(s)=0$.\n",
    "\n",
    "We will use completing the square or direct factorization to determine which of these three cases applies.  Once we have classified $q(s)$ based on this, we will be able to set up Partial Fractions to find $f(t) = \\mathcal{L}^{-1}[p(s)/q(s)](t)$.\n",
    "\n",
    "\n",
    "\n",
    "\n"
   ]
  },
  {
   "cell_type": "markdown",
   "metadata": {},
   "source": [
    "### Completing the square\n",
    "An important step in our process will be to take a quadratic polynomial and use \"completing the square\" to change its structure.  The goal is to first convert the quadratic formula into the form $(s+c_1)^2 + c_2$.  From there we will be able to convert it to one of the three forms identified above.  Rather than trying to memorize a formula for this we will try to learn a process, starting with an example.\n",
    "\n",
    "````{prf:example} Completing the square with $q(s) = s^2 + 6s + 13$\n",
    ":label: example:ssqp6sp13\n",
    "\n",
    "We have $q(s) = s^2 + 6s+13$, and we want to write it in the form $(s+c_1)^2 + c_2$.  We make the observation that $(s+c_1)^2 = s^2 + 2c_1 s + c_1^2$.  So for the coefficient of $s$ to match, $2c_1$ must be $6$.  So $c_1=3$.  \n",
    "\n",
    "Now we have $s^2 + 6s + 12 = (s+3)^2 + c_2$.  If we expand $(s+3)^2 = s^2 + 6s + 9$, we see that to match the constant term, we need $9+c_2=13$ so $c_2=4$.\n",
    "\n",
    "So we now have $q(s) = (s+3)^2 + 4$.  We convert the $4$ into a square and we have\n",
    "\n",
    "$$\n",
    "q(s) = (s+3)^2 + 2^2\n",
    "$$\n",
    "\n",
    "Because this is a sum of squares rather than a difference of squares, we cannot do any more factoring (with real numbers).\n",
    "````\n",
    "The process we use will follow {prf:ref}`example:ssqp6sp12` \n",
    " find $c_1$ so that the coefficient of $s$ is correct.  Then use the result to find $c_2$ so that the constant term is correct.  \n"
   ]
  },
  {
   "cell_type": "markdown",
   "metadata": {},
   "source": [
    "````{prf:example} Completing the square with $q(s) = s^2-11s+28$\n",
    ":example: ssqm11sp28\n",
    "\n",
    "To complete the square for $q(s) = s^2-11s+28$, we follow the steps again:\n",
    "\\begin{align*}\n",
    "(s+c_1)^2 + c_2 &= s^2-11s+28\\\\\n",
    "s^2+2c_1 s+c_1^2 + c_2 &= s^2-11s+28\n",
    "\\end{align*}\n",
    "So $c_1=-11/2$.\n",
    "\\begin{align*}\n",
    "(s-11/2)^2 + c_2 &= s^2-11s+28\\\\\n",
    "s^2-11s + \\frac{121}{4} + c_2 &= s^2 - 11s+28\n",
    "\\end{align*}\n",
    "Since $28=112/4$ we have\n",
    " $\\frac{121}{4} + c_2 = \\frac{112}{4}$ and $c_2 = -9/4$.  \n",
    "Thus we have arrived at\n",
    "\n",
    "$$\n",
    "q(s) = (s-11/2)^2 - 9/4\n",
    "$$\n",
    "\n",
    "Unlike the previous example, this has a difference rather than a sum.  We can think of $9/4$ as $(3/2)^2$.  We can use the difference of squares factorization: $a^2-b^2 = (a-b)(a+b)$.\n",
    "\n",
    "So \n",
    "\n",
    "\\begin{align*}\n",
    "q(s) &= \\left( s- \\frac{11}{2} - \\frac{3}{2}\\right) \\left( s- \\frac{11}{2} + \\frac{3}{2} \\right)\\\\\n",
    "&= (s- 7)(s-4)\n",
    "\\end{align*}\n",
    "````"
   ]
  },
  {
   "cell_type": "markdown",
   "metadata": {},
   "source": [
    "````{prf:example} Completing the square for $q(s) = s^2 - 10s+25$\n",
    ":label: example:ssqm10sp25\n",
    "\n",
    "To complete the square for $q(s) = s^2 - 10s + 25$ we follow the same basic steps:\n",
    "\\begin{align*}\n",
    "(s+c_1)^2 + c_2 &= s^2 - 10s + 25\\\\\n",
    "s^2 + 2c_1 s + c_1^2 + c_2 &= s^2 - 10s + 25\n",
    "\\end{align*}\n",
    "matching coefficients of $s$, we see $c_1=-5$.  This yields\n",
    "\\begin{align*}\n",
    "s^2 - 10s + 25 + c_2 = s^2-10s+25\n",
    "\\end{align*}\n",
    "This leads to the conclusion $c_2=0$.\n",
    "\n",
    "So\n",
    "\n",
    "$$\n",
    "q(s) = (s-5)^2\n",
    "$$\n",
    "````\n",
    "\n",
    "Using this process on any quadratic polynomial $q(s)$ with leading coefficient $1$ will lead to a factorization of $q(s)$ or to converting it into the form $(s-a)^2 + \\omega^2$."
   ]
  },
  {
   "cell_type": "markdown",
   "metadata": {},
   "source": [
    "## Finding $\\mathcal{L}^{-1}[p(s)/q(s)](t)$ if $q(s) = (s-r_1)(s-r_2)$\n",
    "\n",
    "\n"
   ]
  }
 ],
 "metadata": {
  "language_info": {
   "name": "python"
  }
 },
 "nbformat": 4,
 "nbformat_minor": 2
}
