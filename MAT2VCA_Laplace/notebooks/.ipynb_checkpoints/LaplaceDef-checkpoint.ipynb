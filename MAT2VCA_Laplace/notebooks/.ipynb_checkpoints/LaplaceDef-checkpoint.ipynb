{
 "cells": [
  {
   "cell_type": "markdown",
   "metadata": {},
   "source": []
  },
  {
   "cell_type": "markdown",
   "metadata": {},
   "source": [
    "# Laplace Transform Definition\n",
    "The Laplace Transform is an operation that converts a function $f(t)$ of (non-negative) time $t \\geq 0$ into a function $\\tilde{f}(s)$ of a new variable $s$  The properties of the Laplace Transform mean that if we take the Laplace Transform of both sides of the *differential equation* for $f(t)$, Equation {eq}`basic_driven_ODE`, then the result is a new *algebraic equation* for $\\tilde{f}(s)$.\n",
    "\n",
    "Once we solve this algebraic equation and find $\\tilde{f}(s)$ we will be able to invert the transform to find $f(t)$. \n",
    "\n",
    "**ADD FIGURE HERE**\n"
   ]
  },
  {
   "cell_type": "markdown",
   "metadata": {},
   "source": [
    "The Laplace Transform is defined as follows:\n",
    "````{prf:definition}\n",
    ":label: Def_Laplace\n",
    "The Laplace Transform is an *integral transform* that takes as input a piecewise continuous function $f(t)$ that is defined for non-negative $t$: $f:[0,\\infty) \\to \\mathbb{R}$ and produces a new function $\\tilde{f}(s) = \\mathcal{L}[f(t)](s)$ using the integral\n",
    "\n",
    "$$\n",
    "\\mathcal{L}[f(t)](s) = \\int_0^\\infty e^{-st} f(t) \\, dt\n",
    "$$\n",
    "\n",
    "The Laplace Transform is only defined if this integral exists (that is, if the integral is finite).\n",
    "````\n",
    "\n",
    "We will use the notation $\\tilde{f}(s)$ as a short-hand for $\\mathcal{L}[f(t)](s)$.  Usually it will be easier to use $\\tilde{f}(s)$, but sometimes the longer notation with $\\mathcal{L}$ is used, especially if we are dealing with the transform of the sum or product of two functions. \n",
    "\n",
    "\n",
    "We usually won't use the definition of the Laplace Transform to find the Laplace Transform of a function.  Just like we can compile derivative rules into a table, we can create a table with Laplace Transforms.  We now work out some of the things that go in the table."
   ]
  },
  {
   "cell_type": "markdown",
   "metadata": {},
   "source": [
    "\n",
    "## Introductory examples.\n",
    "\n",
    "\n",
    "### An exponential $f(t) = e^{-t}$\n",
    "Consider the function $f(t)=e^{-t}$.  \n",
    "\n",
    "#### Finding $\\mathcal{L}[f(t)](3)$\n",
    "Before we try to find $\\mathcal{L}[f(t)](s)$ for general $s$, we will first try to find its value for specific values of $s$.  We start with $s=3$, so we perform the integral $\\int_0^\\infty  f(t) e^{-3t} \\, dt$.\n",
    "\n",
    "We need to be a little careful with the $\\infty$ in the upper terminal.  Technically we should do it by\n",
    "\n",
    "$$\n",
    "\\int_0^\\infty  f(t) e^{-3t} \\, dt = \\lim_{b\\to \\infty} \\int_0^b f(t) e^{-3t} \\, dt\n",
    "$$\n",
    "\n",
    "So in the case $f(t) = e^{-t}$ are trying to find the area under the curve $f(t) e^{-3t}$.  We can visualize the curve $f(t) e^{-3t}$ with the following block of code:\n"
   ]
  },
  {
   "cell_type": "code",
   "execution_count": 2,
   "metadata": {},
   "outputs": [
    {
     "data": {
      "image/png": "[encoded data removed]",
      "text/plain": [
       "<IPython.core.display.Image object>"
      ]
     },
     "metadata": {},
     "output_type": "display_data"
    }
   ],
   "source": [
    "graphics_toolkit(\"gnuplot\")\n",
    "\n",
    "t = linspace(0,2,51);\n",
    "f = exp(-t);\n",
    "\n",
    "plot(t, f.*exp(-3*t), color='red')\n",
    "area(t, f.*exp(-3*t),  \"FaceColor\", \"blue\");\n",
    "\n",
    "xlabel('t')\n"
   ]
  },
  {
   "cell_type": "markdown",
   "metadata": {},
   "source": [
    "where the where the right hand limit goes off to infinity.  Despite having an infinite domain $0 \\leq t < \\infty$ the product $f(t)e^{-3t}$ decays so quickly to $0$ that the area appears finite.  We can calculate it exactly.\n",
    "\\begin{align*}\n",
    "\\int_0^\\infty  f(t) e^{-3t} \\, dt = &= \\lim_{b\\to\\infty} \\int_0^b  f(t) e^{-3t} \\, dt \\\\\n",
    "&=\\lim_{b\\to\\infty} \\int_0^b e^{-t} e^{-3t} \\, dt \\\\\n",
    "&= \\lim_{b\\to \\infty} \\int_0^b e^{-4t}  \\, dt\\\\\n",
    "&= \\lim_{b\\to \\infty} \\left. - \\frac{1}{4}e^{-4t} \\right|_{t=0}^b\\\\\n",
    "&= \\lim_{b\\to \\infty}  -\\frac{1}{4} e^{-4 b}  - \\left( - \\frac{1}{4} e^0 \\right)\\\\\n",
    "&= 0 + \\frac{1}{4}\\\\\n",
    "&= \\frac{1}{4}\n",
    "\\end{align*}\n",
    "We used the fact that if $a<0$, then $e^{ab} \\to 0$ as $b \\to \\infty$.\n",
    "\n",
    "So the area under the curve is indeed finite, even though the right boundary goes off to $\\infty$.\n",
    "\n"
   ]
  },
  {
   "cell_type": "markdown",
   "metadata": {},
   "source": [
    "#### Finding $\\mathcal{L}[f(t)](s)$ for general $s$\n",
    "\n",
    "We could repeat this integral with $e^{-2t}$, $e^{0t}$, $e^{t/2}$, and every other exponent. Rather than repeating over and over, we use $-s$ to replace $-3$ as the coefficient of $t$ so that we only have to integrate once.  The steps are the same except for the case $s=-1$:\n",
    "\\begin{align*}\n",
    "\\int_0^\\infty  f(t) e^{-st} \\, dt = &= \\lim_{b\\to\\infty} \\int_0^b  f(t) e^{-st} \\, dt \\\\\n",
    "&=\\lim_{b\\to\\infty} \\int_0^b e^{-t} e^{-st} \\, dt \\\\\n",
    "&= \\lim_{b\\to \\infty} \\int_0^b e^{-(s+1)t}  \\, dt\\\\\n",
    "&= \\begin{cases}\n",
    "\\displaystyle \\lim_{b\\to \\infty} \\left. - \\frac{1}{s+1}e^{-(s+1)t} \\right|_{t=0}^b & s\\neq -1\\\\\n",
    "\\displaystyle \\lim_{b\\to \\infty} t|_{t=0}^b & s=1\n",
    "\\end{cases}\\\\\n",
    "&= \\begin{cases}\n",
    "\\displaystyle \\lim_{b\\to \\infty}  -\\frac{1}{s+1} e^{-(s+1) b}  - \\left( - \\frac{1}{s+1} e^0 \\right) & s \\neq 1\\\\\n",
    "\\displaystyle \\lim_{b\\to \\infty} b  & s = 1\n",
    "\\end{cases}\\\\\n",
    "&= \\begin{cases}\n",
    "\\frac{1}{s+1} & \\text{if $s>-1$}\\\\\n",
    "\\infty  & s \\leq -1\n",
    "\\end{cases}\n",
    "\\end{align*}\n",
    "So we conclude that this integral is $1/(s+1)$ if $s>-1$ and infinite otherwise.  This seems generally sensible if we look at a few cases:\n"
   ]
  },
  {
   "cell_type": "code",
   "execution_count": null,
   "metadata": {},
   "outputs": [
    {
     "name": "stdout",
     "output_type": "stream",
     "text": [
      "** Warning: Cannot interrupt Octave on Windows\n"
     ]
    },
    {
     "ename": "",
     "evalue": "",
     "output_type": "error",
     "traceback": [
      "\u001b[1;31mThe Kernel crashed while executing code in the current cell or a previous cell. \n",
      "\u001b[1;31mPlease review the code in the cell(s) to identify a possible cause of the failure. \n",
      "\u001b[1;31mClick <a href='https://aka.ms/vscodeJupyterKernelCrash'>here</a> for more info. \n",
      "\u001b[1;31mView Jupyter <a href='command:jupyter.viewOutput'>log</a> for further details."
     ]
    }
   ],
   "source": [
    "% this cell uses the same t and f as the \n",
    "% previous code cell\n",
    "for s = [-2, -1, 0]\n",
    "    str = \"s=\"+s\n",
    "    plot(t, f.*exp(-s*t), label = str);\n",
    "    hold on\n",
    "end\n",
    "legend()\n",
    "title('f(t) e^{-st}')\n",
    "xlabel('t')\n"
   ]
  },
  {
   "cell_type": "markdown",
   "metadata": {},
   "source": [
    "It is clear that the only case which has a chance of a finite area is the one with $s>-1$.\n",
    "\n",
    "We have been careful using limits to handle the terminal at infinity.  We will now use a shortcut.  We will allow $\\infty$ to appear in our equations without formally writing out the limit.  If we do this, then any finite number divided by $\\infty$ is $0$.  As long as only one thing in our equations ends up going to infinity, this shortcut is okay to use.  However, if we encounter things like $\\infty/\\infty$ or $\\infty-\\infty$, then we need to back up and use the limits carefully.\n",
    "\n"
   ]
  },
  {
   "cell_type": "markdown",
   "metadata": {},
   "source": []
  },
  {
   "cell_type": "markdown",
   "metadata": {},
   "source": [
    "## Examples\n",
    "\n",
    "### The Laplace Transform of $f(t) = e^{t}$\n",
    "To find the Laplace Transform of $e^t$ we take the integral\n",
    "\\begin{align*}\n",
    "\\tilde{f}(s) &= \\int_0^\\infty e^t e^{-st} \\, dt \\\\\n",
    " &= \\int_0^\\infty e^{(1-s)t} \\, dt\\\\\n",
    " &= \\left. \\frac{1}{1-s} e^{(1-s)t} \\right|_{t=0}^\\infty\\\\\n",
    " &= \\frac{1}{1-s} \\left( e^{(1-s)\\infty} - e^0\\right)\\\\\n",
    " &= \\frac{1}{s-1} \\left( 1- e^{(1-s)\\infty}\\right)\\\\\n",
    " &=  \\frac{1}{s-1}  \\qquad \\text{if } s>1\n",
    "\\end{align*}\n"
   ]
  },
  {
   "cell_type": "markdown",
   "metadata": {},
   "source": [
    "### The Laplace Transform of $f(t) = \\cos(4t)$\n",
    "To find the Laplace Transform of $\\cos(4t)$ we take the integral\n",
    "$$\n",
    "\\tilde{f}(s) = \\int_0^\\infty \\cos(4t)e^{-st} \\, dt\n",
    "$$\n",
    "We now integrate by parts.  In MAT1002, an optional tabular approach was taught for integration by parts.  (the table below is a placeholder - it's got most of the information, but needs some arrows overlaying it, which I don't know how to do in the syntax being used here)\n",
    "\n",
    "\n",
    "|  | $D$ | $I$ |\n",
    "| --- | --- | --- |\n",
    "| $~^{~^+}$ | $\\cos(4t)$ | $e^{-st}$ |\n",
    "| $~^{~^-}$ | $-4\\sin(4t)$ | $\\frac{-e^{-st}}{s}$ |\n",
    "| $~^{~^+}$ | $-16 \\cos(4t)$ | $\\frac{e^{-st}}{s^2}$ |\n",
    "\n",
    "From this, we conclude that\n",
    "\n",
    "\\begin{align*}\n",
    "\\tilde{f}(s) =& \\int_0^\\infty \\cos(4t) e^{-st} \\, dt\\\\\n",
    " =&  \\left[ \\cos(4t)\\frac{(-e^{-st})}{s} - (-4\\sin(4t)) \\frac{e^{-st}}{s^2} \\right|_{t=0}^\\infty \\\\\n",
    "&+\\int_0^\\infty -16 \\cos(4t) \\frac{e^{-st}}{s^2} \\, dt\\\\\n",
    "=& 0 - \\frac{(-1)}{s} + 4 \\left(0 - 0 \\frac{1}{s^2}\\right) \\qquad \\text{if } s>0\\\\\n",
    "&- \\frac{16}{s^2}  \\int_0^\\infty \\cos(4t) e^{-st} \\, dt\\\\\n",
    "=& \\frac{1}{s} - \\frac{16}{s^2} \\tilde{f}(s)\\\\\\\n",
    "\\end{align*}\n",
    "We have expressed $\\tilde{f}(s)$ in terms of some things we can calculate and a multiple of $\\tilde{f}(s)$.  It might seem that we're back where we started, but Algebra comes to the rescue.  We move the terms with $\\tilde{f}(s)$ to the left hand side:\n",
    "\\begin{align*}\n",
    "\\Rightarrow \\tilde{f}(s) \\left(1 + \\frac{16}{s^2}\\right) =& \\frac{1}{s}\\\\\n",
    "\\Rightarrow \\tilde{f}(s) =& \\frac{1}{s} \\frac{s^2}{s^2+16}\\\\\n",
    "&= \\frac{s}{s^2+16}\n",
    "\\end{align*}\n",
    "\n",
    "#### non-tabular version of integration by parts\n",
    "\n",
    "If you didn't learn that table for integration by parts, you would have learned a formula like\n",
    "\\begin{align*}\n",
    "\\int_a^b u(t) v'(t) \\, dt = u(t) v(t) |_{t=a}^b - \\int_a^b u'(t)v(t) \\, dt\n",
    "\\end{align*}\n",
    "so integration be parts has the effect of taking a derivative away from $v$ (i.e., integrating $v'$) and putting it on $u$ (i.e., differentiating $u$).\n",
    "\n",
    "In our case, we set $u(t) = \\cos(4t)$ and $v'(t) = e^{-st}$.  If we integrate by parts twice (details not shown), we end up with \n",
    "\\begin{align*}\n",
    "\\int_0^\\infty \\cos(4t) e^{-st} \\, dt =&  \\left[ \\cos(4t)\\frac{(-e^{-st})}{s} - (-4)\\sin(4t) \\frac{e^{-st}}{s^2} \\right|_{t=0}^\\infty \\\\\n",
    "&- \\int_0^\\infty 16 \\cos(4t) \\frac{e^{-st}}{s^2} \\, dt\n",
    "\\end{align*}\n",
    "which is the result above immediately after applying the tabular approach.  From this point we follow the same steps.\n",
    "\n",
    "#### Final result\n",
    "Either way, we discover that if $f(t) = \\cos(4t)$, then $\\tilde{f}(s) = \\frac{s}{s^2+16}$, with the restriction that $s>0$."
   ]
  },
  {
   "cell_type": "markdown",
   "metadata": {},
   "source": [
    "### More general Laplace Transforms\n",
    "It's useful to know $\\mathcal{L}[e^t](s)$ and $\\mathcal{L}[\\cos(4t)](s)$, but in general we will find it more useful to have $\\mathcal{L}[e^{at}](s)$ and $\\mathcal{L}[\\cos(\\omega t)](s)$.  Here the variable $\\omega$ is \"omega\", not \"double-u\".  It is often used for a frequency.\n",
    "\n",
    "#### The Laplace Transform of $f(t) = e^{at}$\n",
    "To find the Laplace Transform of $e^{at}$ we follow the same steps as before.\n",
    "\\begin{align*}\n",
    "\\tilde{f}(s) &= \\int_0^\\infty e^{at} e^{-st} \\, dt \\\\\n",
    " &= \\int_0^\\infty e^{(a-s)t} \\, dt\\\\\n",
    " &= \\left. \\frac{1}{a-s} e^{(a-s)t} \\right|_{t=0}^\\infty\\\\\n",
    " &= \\frac{1}{a-s} \\left( e^{(a-s)\\infty} - e^0\\right)\\\\\n",
    " &= \\frac{1}{s-a} \\left( 1- e^{(a-s)\\infty}\\right)\\\\\n",
    " &=  \\frac{1}{s-a}  \\qquad \\text{if } s>a\n",
    "\\end{align*}\n",
    "So now we know the transform for any $a$, not just $a=1$.\n",
    "\n"
   ]
  },
  {
   "cell_type": "markdown",
   "metadata": {},
   "source": [
    "#### The Laplace Transform of $f(t) = \\cos(\\omega t)$\n",
    "To find the Laplace Transform of $\\cos(\\omega t)$ we follow the steps we used for $\\cos(4t)\n",
    "$$\n",
    "\\tilde{f}(s) = \\int_0^\\infty \\cos(\\omega t)e^{-st} \\, dt\n",
    "$$\n",
    "We now integrate by parts. \n",
    "\n",
    "|  | $D$ | $I$ |\n",
    "| --- | --- | --- |\n",
    "| $~^{~^+}$ | $\\cos(\\omega t)$ | $e^{-st}$ |\n",
    "| $~^{~^-}$ | $-\\omega\\sin(\\omega t)$ | $\\frac{-e^{-st}}{s}$ |\n",
    "| $~^{~^+}$ | $-\\omega^2 \\cos(\\omega t)$ | $\\frac{e^{-st}}{s^2}$ |\n",
    "\n",
    "From this, we conclude that\n",
    "\n",
    "\\begin{align*}\n",
    "\\tilde{f}(s) =& \\int_0^\\infty \\cos(\\omega t) e^{-st} \\, dt\\\\\n",
    " =&  \\left[ \\cos(\\omega t)\\frac{(-e^{-st})}{s} - (-\\omega \\sin(\\omega t)) \\frac{e^{-st}}{s^2} \\right|_{t=0}^\\infty \\\\\n",
    "&+\\int_0^\\infty -\\omega^2 \\cos(\\omega t) \\frac{e^{-st}}{s^2} \\, dt\\\\\n",
    "=& 0 - \\frac{(-1)}{s} + \\omega \\left(0 - 0 \\frac{1}{s^2}\\right)  \\qquad \\text{if } s>0\\\\\n",
    "&- \\frac{\\omega^2}{s^2}  \\int_0^\\infty \\cos(\\omega t) e^{-st} \\, dt\\\\\n",
    "=& \\frac{1}{s} - \\frac{\\omega^2}{s^2} \\tilde{f}(s)\\\\\n",
    "\\Rightarrow\n",
    "\\tilde{f}(s) \\left( 1 + \\frac{\\omega^2}{s^2}\\right) =& \\frac{1}{s}\\\\\n",
    "\\Rightarrow\n",
    "\\tilde{f}(s) =& \\frac{1}{s} \\frac{s^2}{s^2+\\omega^2}\\\\\n",
    "= & \\frac{s}{s^2+\\omega^2}\n",
    "\\end{align*}\n",
    "as long as $s>0$. It is undefined if $s \\leq 0$."
   ]
  }
 ],
 "metadata": {
  "kernelspec": {
   "display_name": "Octave (xeus)",
   "language": "octave",
   "name": "xoctave"
  },
  "language_info": {
   "file_extension": ".m",
   "help_links": [
    {
     "text": "GNU Octave",
     "url": "https://www.gnu.org/software/octave/support.html"
    },
    {
     "text": "Octave Kernel",
     "url": "https://github.com/Calysto/octave_kernel"
    },
    {
     "text": "MetaKernel Magics",
     "url": "https://metakernel.readthedocs.io/en/latest/source/README.html"
    }
   ],
   "mimetype": "text/x-octave",
   "name": "octave",
   "version": "9.4.0"
  }
 },
 "nbformat": 4,
 "nbformat_minor": 2
}