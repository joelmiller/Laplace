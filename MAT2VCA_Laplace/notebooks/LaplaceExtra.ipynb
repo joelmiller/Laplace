{
 "cells": [
  {
   "cell_type": "markdown",
   "metadata": {},
   "source": [
    "# Optional Extenstions\n",
    "\n",
    "This section consists of extra material which is considered optional for MAT2VCA.  However, it might be of interest to more advanced students.\n"
   ]
  },
  {
   "cell_type": "markdown",
   "metadata": {},
   "source": [
    "(sec:LapMult_t)=\n",
    "## Multiplication by $t$\n",
    "\n",
    "If the function $f(t)$ has transform $\\mathcal{L}[f(t)](s) = \\int_0^\\infty f(t)e^{-st} \\, dt$, we can find the transform of $t f(t)$.  Typically we would see the integral\n",
    "\n",
    "$$\n",
    "\\int_0^\\infty t f(t) e^{-st} \\, dt\n",
    "$$\n",
    "and possibly try integrating by parts, depending on exactly what $f(t)$ is.  However there is a method that requires less effort.\n",
    "\n",
    "We start with the observation that\n",
    "\n",
    "\\begin{align*}\n",
    "\\frac{d}{ds} \\tilde{f}(s) &= \\frac{d}{ds}\\int_0^\\infty f(t) e^{-st} \\, dt\\\\\n",
    "&= \\int_0^\\infty \\frac{\\partial}{\\partial s} f(t) e^{-st} \\, dt\n",
    "\\end{align*}\n",
    "(**note**: The reason that we can swap the order of integration with respect to $t$ and differentiation with respect to $s$ is that integration in $t$ can be thought of as a sum of many terms.  Since the derivative of a sum is the sum of the derivatives, the integral basically inherits this property from the rule for a finite sum --- with a few special conditions to do with ensuring that derivatives don't approach infinity or similar concerns).\n",
    "\n",
    "When we take the derivative with respect to $s$, we get\n",
    "\\begin{align*}\n",
    "\\frac{d}{ds} \\tilde{f}(s)  &= \\int_0^\\infty f(t)(-t) e^{-st}\\\\\n",
    "&= - \\mathcal{L}[tf(t)](s) \n",
    "\\end{align*}\n",
    "So for any function $f(t)$ whose Laplace Transform is $\\tilde{f}(s)$, the transform of $t f(t)$ is\n",
    "\n",
    "$$\n",
    "\\mathcal{L}[tf(t)](s) = - \\frac{d}{ds} \\tilde{f}(s)\n",
    "$$(eq:Lap_mult_by_t)"
   ]
  },
  {
   "cell_type": "markdown",
   "metadata": {},
   "source": [
    "\n"
   ]
  },
  {
   "cell_type": "markdown",
   "metadata": {},
   "source": [
    "## Self-test\n",
    "1. Use Equation {eq}`eq:Lap_mult_by_t` and induction to derive the transform of $t^n$ for $n = 1,2,\\ldots$.  "
   ]
  }
 ],
 "metadata": {
  "language_info": {
   "name": "python"
  }
 },
 "nbformat": 4,
 "nbformat_minor": 2
}
