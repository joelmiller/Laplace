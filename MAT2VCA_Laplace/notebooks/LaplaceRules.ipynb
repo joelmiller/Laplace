{
 "cells": [
  {
   "cell_type": "markdown",
   "metadata": {},
   "source": [
    "# Some Basic Laplace Transform Rules\n",
    "\n",
    "## Intended Learning Outcomes\n",
    "By the end of this section, you should be able to:\n",
    "\n",
    "- State and apply the linearity property of the Laplace transform.\n",
    "\n",
    "- Explain the uniqueness property and its importance for ensuring that transforms identify functions.\n",
    "\n",
    "- Use tables and properties to compute inverse Laplace transforms of simple expressions.\n",
    "\n",
    "- Recognize limitations of the transform such as $\\mathcal{L}[f(t)g(t)](s) \\neq \\mathcal{L}[f(t)](s)\\mathcal{L}[g(t)](s)$ to avoid common errors."
   ]
  },
  {
   "cell_type": "markdown",
   "metadata": {},
   "source": [
    "\n",
    "## Introduction\n",
    "\n",
    "For differentiation and integration, we learned various rules such as the product rule or integration by parts.  Similarly there are rules that the Laplace Transform follows.  We present some of these now and discuss others (the $t$-shift and $s$-shift) later.\n"
   ]
  },
  {
   "cell_type": "markdown",
   "metadata": {},
   "source": [
    "\n",
    "## Linearity of the Laplace Transform\n",
    "\n",
    "One of the most fundamental properties of the Laplace Transform is linearity.  If we take the Laplace Transform of a linear combination of functions, the result is the corresponding linear combination of their transforms.  For a linear combination of two functions\n",
    "\n",
    "````{prf:theorem} Linearity of the Laplace Transform\n",
    ":label: thm:linearity\n",
    "If the Laplace Transforms of $f(t)$ and $g(t)$ are $\\tilde{f}(s)$ and $\\tilde{g}(s)$, then\n",
    "\n",
    "$$\n",
    "\\mathcal{L}[af(t)](s) = a \\tilde{f}(s)\n",
    "$$ (eq:LapLinearity_single)\n",
    "\n",
    "and\n",
    "\n",
    "$$\n",
    "\\mathcal{L}[af(t) + bg(t)](s) = a \\tilde{f}(s) + b \\tilde{g}(s)\n",
    "$$ (eq:LapLinearity_double)\n",
    "````\n",
    "This property is known as *linearity*.\n",
    "\n",
    "To demonstrate the truth of the claim in equation {eq}`eq:LapLinearity_double`, we simply plug the sum $af(t) + bg(t)$ into the definition of the Laplace Transform.  Then we will use the fact that the integral has the linearity property.  So the Laplace Transform \"inherits\" linearity from the integral through the following calculation:\n",
    "\\begin{align*}\n",
    "\\mathcal{L}[af(t)+bg(t)](s) &= \\int_0^\\infty (a f(t) + b g(t))e^{-st} \\, dt\\\\\n",
    "&=  \\int_0^\\infty a f(t)e^{-st} \\, dt + \\int_0^\\infty b g(t)e^{-st} \\, dt\\\\\n",
    "&= a\\int_0^\\infty  f(t)e^{-st} \\, dt + b\\int_0^\\infty  g(t)e^{-st} \\, dt\\\\\n",
    "&= a \\tilde{f}(s) + b \\tilde{g}(s)\n",
    "\\end{align*}\n",
    "\n",
    "For a sum of three functions $af(t) + b g(t) + c h(t)$ we can use the rule for two steps twice: we first regroup the sum so that it is the sum of two functions $af(t)+bg(t)$ and $ch(t)$ and apply the linearity rule for a sum of two functions.  Then we apply the linearity rule to $af(t) + bg(t)$:\n",
    "\\begin{align*}\n",
    "\\mathcal{L}[af(t) + b g(t) + c h(t)](s) &= \\mathcal{L}[(af(t) + b g(t)) + c h(t)](s) \\\\\n",
    "&= \\mathcal{L}[(af(t) + b g(t))](s) + c \\tilde{h}(s)\\\\\n",
    "&= a \\tilde{f}(s) + b \\tilde{g}(s) + c \\tilde{h}(s)\n",
    "\\end{align*}\n",
    "More generally we can use mathematical induction and show that a sum of $n+1$ functions is a sum of two functions where one of them is the sum of $n$ functions.  From this it follows that linearity holds for any positive value of $n$.\n"
   ]
  },
  {
   "cell_type": "markdown",
   "metadata": {},
   "source": [
    "\n",
    "````{prf:example} Finding $\\mathcal{L}\\left[t^2\\left(\\frac{t}{2}-7\\right)\\right](s)$\n",
    ":label: LapPolynomialproduct\n",
    "\n",
    "Consider $f(t) = t^2\\left(\\frac{t}{2}-7\\right)$.  We find its transform by first noting that from {numref}`Lap:Table` {ref}`Lap:Table`, for any positive integer $n$, $\\mathcal{L}[t^n](s) = n!/s^{n+1}$.  Then we use linearity:\n",
    "\\begin{align*}\n",
    "\\mathcal{L}[f(t)](s) &= \\mathcal{L}\\left[ t^2\\left(\\frac{t}{2}-7\\right)\\right](s)\\\\\n",
    "&= \\mathcal{L}\\left[\\frac{t^3}{2} - 7t^2\\right](s) \\\\\n",
    "&= \\frac{1}{2} \\mathcal{L}[t^3](s) - 7 \\mathcal{L}[t^2](s)\\quad & \\text{by linearity}\\\\\n",
    "&= \\frac{1}{2} \\frac{3!}{s^{3+1}} - 7 \\frac{2!}{s^{2+1}}\\quad & \\text{by transform of $t^n$}\\\\\n",
    "&= \\frac{3}{s^4} - \\frac{14}{s^3} \n",
    "\\end{align*}\n",
    "\n",
    "````\n",
    "Notice that to do the transform we had to expand the product and then calculate the result for each term.  **A common mistake is to assume $\\mathcal{L}[f(t)g(t)](s) = \\tilde{f}(s) \\tilde{g}(s)$.  It does not.**"
   ]
  },
  {
   "cell_type": "markdown",
   "metadata": {
    "vscode": {
     "languageId": "plaintext"
    }
   },
   "source": [
    "## Uniqueness of the Laplace Transform\n",
    "\n",
    "When we apply the Laplace Transform to solving differential equations, once we solve for $\\tilde{f}(s)$ we still need to invert the Laplace Transform on $\\tilde{f}(s)$ to extract $f(t)$.  We need to be sure that when we invert the transform we get the correct function.\n",
    "\n",
    "If the Laplace Transform were not invertible, we could find ourselves in a scenario like: \n",
    "- solving for $x$ if $x^2 = 4$. There are two very different solutions $x=2$ or $x=-2$.\n",
    "- solving for $f(x)$ if we know that $f'(x) = 1$.  There is a big difference between $1000+x$ and $-1000+x$ although both are solutions.\n",
    "- As another example, if $xy=0$, we could have $x=0$ or $y=0$.  \n",
    "\n",
    "Luckily, it turns out we don't have to deal with issues like these happening when we use the Laplace Transform.\n",
    "\n",
    "If two functions $f(t)$ and $g(t)$ are continuous for $t \\geq 0$, and $\\tilde{f}(s) = \\tilde{g}(s)$, then in fact $f(t) = g(t)$ for $t \\geq 0$.  This means that we can safely invert the transform if we know the function must be continuous.  Since the solutions to a differential equation will always be continuous, we can be confident that the final answers we get from the Laplace Transform are unique.\n",
    "\n",
    "It can happen that two piecewise continuous functions $f(t)$ and $g(t)$ might have the same Laplace Transform, but not be equal to one another.  However, this only happens at discrete points where a function is discontinuous.  From a physical point of view this distinction is irrelevant: if a switch is off for $t<3$ and on for $t>3$, it doesn't actually have any impact whether we say it is on or off for the instantaneous moment of $0$ duration at $t=3$.  We will gloss over this point and treat two functions as identical if they differ only at points of discontinuity.\n",
    "\n",
    "To summarize:\n",
    "````{prf:theorem} Uniquenss of the Laplace Transform\n",
    ":label: thm:unique\n",
    "\n",
    "Consider two piecewise continuous functions $f(t)$ and $g(t)$ that have the same Laplace Transforms: $\\tilde{f}(s) = \\tilde{g}(s)$.\n",
    "\n",
    "The functions $f(t)$ and $g(t)$ can only differ at points where at least one of them is discontinuous.\n",
    "\n",
    "Further, if $f(t)$ and $g(t)$ are continuous, then they are equal.\n",
    "````"
   ]
  },
  {
   "cell_type": "markdown",
   "metadata": {
    "vscode": {
     "languageId": "plaintext"
    }
   },
   "source": [
    "## Inverting the Laplace Transform using the Basic Rules and a Table\n",
    "The Table at {numref}`Lap:Table` {ref}`Lap:Table` allows us to take the Laplace Transform of a function without needing to use the definition to calculate it.  If we can find the function in the Table, then we can use the Table to perform the Transform.  \n",
    "\n",
    "A key detail is that the uniqueness of the Laplace Transform means that if we know the transform of a function, we can find that function exactly (except perhaps at some points of discontinuity).  This means that the table works in both directions: we can invert the transform using the transform table.  We use $\\mathcal{L}^{-1}[\\tilde{f}(s)](t)$ to denote the inverse transform of a function.\n"
   ]
  },
  {
   "cell_type": "markdown",
   "metadata": {},
   "source": [
    "\n",
    "````{prf:example} Finding $\\mathcal{L}^{-1} \\left[ \\frac{3}{(s-2)} \\right](t)$\n",
    ":label: example:invert_to_exponential\n",
    "\n",
    "To calculate the inverse transform of $\\tilde{f}(s) = \\frac{3}{s-2}$, we look in {numref}`Lap:Table` {ref}`Lap:Table` for functions in the Transform column that resemble the form of $\\tilde{f}(s)$.  In this case we see $1/(s-a)$ appears, so if $a=2$ this will resemble our function and \n",
    "\n",
    "$$\n",
    "\\mathcal{L}[e^{2t}](s) = \\frac{1}{s-2}\n",
    "$$\n",
    "\n",
    "Then we get\n",
    "\\begin{align*}\n",
    "f(t) &= \\mathcal{L}^{-1} [\\tilde{f}(s)](t)\\\\\n",
    "&= \\mathcal{L}^{-1}\\left[ \\frac{3}{(s-2)} \\right](t)\\\\\n",
    "&= 3 \\mathcal{L}^{-1} \\left[ \\frac{1}{(s-2)} \\right](t)  &\\text{by linearity}\\\\\n",
    "&= 3 e^{2t} & \\text{by Transform of $e^{at}$}\n",
    "\\end{align*}\n",
    "So\n",
    "\n",
    "$$ \n",
    "3e^{2t}= \\mathcal{L}^{-1}\\left[ \\frac{3}{(s-2)} \\right](t)\n",
    "$$\n",
    "````\n"
   ]
  },
  {
   "cell_type": "markdown",
   "metadata": {},
   "source": [
    "````{prf:example} Finding $\\mathcal{L}^{-1} \\left[ \\frac{3}{(s+2)} \\right](t)$\n",
    ":label: example:invert_to_exponential_neg_coeff\n",
    "\n",
    "This example follows {prfref}`example:invert_to_exponential`, but with $s+2$ in the denominator, not $s-2$.  The table gives us $\\mathcal{L}[e^{at}] = 1/(s-a)$.  To use the table we must first rewrite $s+2$ in the form $s-a$, so we use $s+2= s-(-2)$.\n",
    "\n",
    "We use the table entry with $a=-2$ and we get\n",
    "\n",
    "$$\n",
    "\\mathcal{L}[e^{-2t}](s) = \\frac{1}{s+2}\n",
    "$$\n",
    "\n",
    "Then we get\n",
    "\\begin{align*}\n",
    "f(t) &= \\mathcal{L}^{-1} [\\tilde{f}(s)](t)\\\\\n",
    "&= \\mathcal{L}^{-1}\\left[ \\frac{3}{(s+2)} \\right](t)\\\\\n",
    "&= 3 \\mathcal{L}^{-1} \\left[ \\frac{1}{(s+2)} \\right](t)  &\\text{by linearity}\\\\\n",
    "&= 3 e^{-2t} & \\text{by Transform of $e^{at}$}\n",
    "\\end{align*}\n",
    "So\n",
    "\n",
    "$$ \n",
    "3e^{-2t}= \\mathcal{L}^{-1}\\left[ \\frac{3}{(s+2)} \\right](t)\n",
    "$$\n",
    "````\n"
   ]
  },
  {
   "cell_type": "markdown",
   "metadata": {},
   "source": [
    "\n",
    "\n",
    "````{prf:example} Finding $\\mathcal{L}^{-1}\\left[\\frac{8}{(s-2)^2 + 16}\\right](t)$\n",
    ":label: example:invert_to_exponential_times_sin\n",
    "To find the Inverse Transform of $\\tilde{f}(s) = \\frac{2}{(s-2)^2 + 16}$ we look in the Table for a similar function (up to a constant multiple).  We find  $\\frac{\\omega}{(s-a)^2 + \\omega^2}$ which resembles our function for $a=2$ and $\\omega = 4$.  We have\n",
    "\n",
    "$$\n",
    "\\mathcal{L}\\left[e^{2t}\\sin(4t)\\right](s) = \\frac{4}{(s-2)^2 + 4^2}\n",
    "$$\n",
    "\n",
    "Then we get\n",
    "\\begin{align*}\n",
    " f(t) &= \\mathcal{L}^{-1} [\\tilde{f}(s)](t)\\\\\n",
    "&= \\mathcal{L}^{-1}\\left[ \\frac{2}{(s-2)^2 + 4^2} \\right](t)\\\\\n",
    "&= \\frac{1}{2} \\mathcal{L}^{-1}\\left[ \\frac{4}{(s-2)^2 + 4^2} \\right](t)\\\\\n",
    "&= \\frac{1}{2} e^{2t}\\sin(4t)\n",
    "\\end{align*}\n",
    "Notice that in order to get a numerator of $4$ (which is required to match the function appearing in the transform column of the Table) we had to factor out a $1/2$, or equivalently multiply by $2/2$.  We conclude that\n",
    "\n",
    "$$\n",
    "\\frac{1}{2} e^{2t} \\sin(4t) = \\mathcal{L}^{-1}\\left[\\frac{8}{(s-2)^2 + 16}\\right](t)\n",
    "$$\n",
    "````"
   ]
  },
  {
   "cell_type": "markdown",
   "metadata": {},
   "source": [
    "##  Self-test\n",
    "\n",
    "1. Use the Linearity Property and {numref}`Lap:Table` {ref}`Lap:Table` to find the Laplace Transform of $f(t) = \\cos(3t) + 2\\sin(3t)$.\n",
    "2. Use the Linearity Property and {numref}`Lap:Table` {ref}`Lap:Table` to find the Laplace Transform of $f(t) = e^{-2t}(3\\cos(t)- 4 \\sin(t))$.\n",
    "3. Use the Linearity Property and  {numref}`Lap:Table` {ref}`Lap:Table` to find the Laplace Transform of the left hand side of Equation {eq}`eq:basic_driven_ODE` if $f(0)=f'(0)=0$.\n",
    "4. Use {numref}`Lap:Table` {ref}`Lap:Table` to find the Laplace Transform of $f(t)=t^2$ and $g(t) = \\left(\\frac{t}{2}-7\\right)$.  Compare with the result of example {prf:ref}`LapPolynomialproduct` to show that $\\mathcal{L}[f(t)g(t)](s) \\neq \\tilde{f}(s)\\tilde{g}(s)$.\n",
    "5. Using techniques we will learn later, Susan finds that if $f'(t) -3f(t) = 0$ with initial condition $f(0)=1$ then $\\tilde{f}(s) = \\frac{1}{s-3}$.  Use {numref}`Lap:Table` {ref}`Lap:Table` to find a function whose transform is $1/(s-3)$.  Then explain why Susan can be sure that this is the solution $f(t)$ (i.e. how does she know that it's not a different function?).\n",
    "6. (*) In the discussion about functions with the same Laplace Transform being equal, the restriction $t>0$ appears multiple times.  Find a pair of functions that have the same Laplace Transform, but are different for all $t<0$.  Refer to the definition of the Laplace Transform to explain why $t<0$ is different."
   ]
  },
  {
   "cell_type": "markdown",
   "metadata": {},
   "source": []
  }
 ],
 "metadata": {
  "kernelspec": {
   "display_name": "Octave (xeus)",
   "name": "xoctave"
  },
  "language_info": {
   "name": "python"
  }
 },
 "nbformat": 4,
 "nbformat_minor": 2
}
