{
 "cells": [
  {
   "cell_type": "markdown",
   "metadata": {},
   "source": [
    "# Laplace Transforms and Differential Equations\n",
    "\n",
    "In previous subjects, we learned to solve second order, constant coefficient ordinary differential equations of the form\n",
    "\n",
    "$$\n",
    "f'' + a f' + bf = g(t)\n",
    "$$ (eq:basic_driven_ODE)\n",
    "\n",
    "for a limited set of functions $g(t)$ on the right hand side. Differential equations of this form arise in many physical situations.  \n",
    "\n",
    "The Method of Undetermined Coefficients we learned previously requires first solving Equation {eq}`eq:basic_driven_ODE` with $g(t)$ replaced by $0$ (the **homogeneous solution $f_h$**), and then finding a solution with the given $g(t)$ (the **particular solution $f_p$**).  The method we learned for finding $f_p$ required $g(t)$ to be a polynomial, an exponential, a $\\sin$ or $\\cos$, or products of these.\n",
    "\n",
    "In many important cases, the right hand side is not continuous.  A child pushed on a swing, the current when a light switch is flipped, a hydraulic system when a valve is opened/closed, and a car's shock absorber when hitting a pothole can all be modeled using Equation\n",
    "{eq}`eq:basic_driven_ODE` with a discontinuous driving function $g(t)$.\n",
    "\n",
    "We will learn a new technique for solving Equation {eq}`eq:basic_driven_ODE` based on **Laplace Transforms** which will work in the cases we have studied previously and also handle discontinuities in $g(t)$.  It is also a first introduction to a large family of integral transform techniques used in applied mathematics, physics, electronics, engineering, etc.\n",
    "\n",
    "### Prerequisites\n",
    "\n",
    "This chapter builds on material from previous subjects.  \n",
    "\n",
    "We will also use the following skills from previous subjects, but there will be time spent reviewing them within the main text:\n",
    "- Partial fractions\n",
    "- Completing the square\n",
    "- Integration by parts\n",
    "\n",
    "A number of other skills will be assumed:\n",
    "- Tools related to Algebraic manipulation (especially that $(x+y)^2 \\neq x^2+y^2$).  It is insufficient to have a calculator or computer that can do your Algebra for you.  The Algebra needs to be comfortable for you to understand the concepts.  \n",
    "- Basic differentiation and integration rules (product rule, power rule, chain rule, etc.) \n",
    "- \n",
    "<!--- ## Overview\n",
    "\n",
    "The Laplace Transform is an important tool of applied mathematics, particularly within Engineering.  It is included at the start of MAT2VCA to prepare students for its use within the second-year engineering curriculum.\n",
    "\n",
    "The Laplace Transform takes a function $f(t)$ and transforms it into a function of a new variable $s$.  The transform has some important properties which we will learn to use to solve constant coefficient linear differential equations.  We have already learned the method of undetermined coefficients which can also be applied to solving these differential equations.  Why should we learn a new method.  There are two reasons.  \n",
    "\n",
    "- The Laplace Transfrom allows us to handle driving functions that are discontinuous, which are difficult to handle with the method of undetermined coefficients.  So for example, if we care about electrical flow through a circuit and someone is opening and closing a switch, the Laplace Transform gives us a clean way to handle this.  Similar advantages occur for fluid flow if valves are opened and closed.\n",
    "- The Laplace Transform converts a differential equation into an Algebraic equation.  For many people, the solving Algebra equations is so much easier that it is worth the extra overhead of using the Laplace Transfrom to get the Algebra problem, and then inverting the Laplace Transform to get the solution.\n",
    "\n",
    "**ADD FIGURE HERE**\n",
    "--->"
   ]
  }
 ],
 "metadata": {
  "language_info": {
   "name": "python"
  }
 },
 "nbformat": 4,
 "nbformat_minor": 2
}
